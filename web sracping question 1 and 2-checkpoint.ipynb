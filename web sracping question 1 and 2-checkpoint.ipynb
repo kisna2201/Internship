{
 "cells": [
  {
   "cell_type": "code",
   "execution_count": 1,
   "id": "704ee61f",
   "metadata": {},
   "outputs": [],
   "source": [
    "import selenium\n",
    "import pandas as pd\n",
    "from selenium import webdriver\n",
    "from selenium.common.exceptions import (\n",
    "    StaleElementReferenceException,\n",
    "    NoSuchElementException,\n",
    ")\n",
    "from selenium.webdriver.common.by import By\n",
    "from selenium.webdriver.support.select import Select\n",
    "from selenium.webdriver.common.keys import Keys\n",
    "from selenium.webdriver.support.ui import WebDriverWait\n",
    "from selenium.webdriver.support import expected_conditions as EC\n",
    "from selenium.webdriver.common.keys import Keys\n",
    "from selenium.webdriver.common.action_chains import ActionChains\n",
    "import re\n",
    "import time\n",
    "import warnings\n",
    "import requests"
   ]
  },
  {
   "cell_type": "markdown",
   "id": "db11f5ef",
   "metadata": {},
   "source": [
    "#question 1 & 2 "
   ]
  },
  {
   "cell_type": "code",
   "execution_count": 2,
   "id": "d6032247",
   "metadata": {},
   "outputs": [
    {
     "name": "stderr",
     "output_type": "stream",
     "text": [
      "C:\\Users\\vorap\\AppData\\Local\\Temp\\ipykernel_2364\\690523208.py:1: DeprecationWarning: executable_path has been deprecated, please pass in a Service object\n",
      "  driver = webdriver.Chrome(r'C:\\Users\\vorap\\OneDrive\\Desktop\\chromedriver.exe')\n"
     ]
    }
   ],
   "source": [
    "driver = webdriver.Chrome(r'C:\\Users\\vorap\\OneDrive\\Desktop\\chromedriver.exe')"
   ]
  },
  {
   "cell_type": "code",
   "execution_count": 3,
   "id": "e3c19f45",
   "metadata": {},
   "outputs": [],
   "source": [
    "driver.get('https://www.amazon.in')"
   ]
  },
  {
   "cell_type": "code",
   "execution_count": 4,
   "id": "1001c64f",
   "metadata": {},
   "outputs": [
    {
     "name": "stdout",
     "output_type": "stream",
     "text": [
      "Enter Product name: guitar\n"
     ]
    }
   ],
   "source": [
    "product_text=driver.find_element(By.ID,\"twotabsearchtextbox\")\n",
    "product= input(\"Enter Product name: \")\n",
    "product_text.send_keys(product)\n",
    "submit = driver.find_element(By.XPATH,'//span[@class=\"nav-search-submit-text nav-sprite nav-progressive-attribute\"]')\n",
    "submit.click()"
   ]
  },
  {
   "cell_type": "code",
   "execution_count": 5,
   "id": "49cb75c2",
   "metadata": {},
   "outputs": [],
   "source": [
    "product_url = []\n",
    "start = 0\n",
    "end = 3\n",
    "\n",
    "for page in range(start,end):\n",
    "    url = driver.find_elements(By.XPATH,'//a[@class=\"a-link-normal s-underline-text s-underline-link-text s-link-style a-text-normal\"]')\n",
    "    for i in url:\n",
    "        product_url.append(i.get_attribute('href'))\n",
    "    next_button = driver.find_element(By.XPATH,'//a[@class=\"s-pagination-item s-pagination-next s-pagination-button s-pagination-separator\"]') \n",
    "    next_button.click()\n",
    "    time.sleep(5)"
   ]
  },
  {
   "cell_type": "code",
   "execution_count": 6,
   "id": "06fd763c",
   "metadata": {},
   "outputs": [],
   "source": [
    "brand= []\n",
    "for name in product_url:\n",
    "    driver.get(name)\n",
    "    time.sleep(5)\n",
    "    \n",
    "    try:\n",
    "        brand_name = driver.find_element(By.XPATH,'//span[@class=\"a-size-large product-title-word-break\"]')\n",
    "        brand.append(brand_name.text)\n",
    "    except NoSuchElementException:\n",
    "        brand.append('-')"
   ]
  },
  {
   "cell_type": "code",
   "execution_count": 7,
   "id": "b5248aa6",
   "metadata": {},
   "outputs": [],
   "source": [
    "Name_of_the_Product = []\n",
    "for i in product_url[:100]:\n",
    "    driver.get(i)\n",
    "    time.sleep(5)\n",
    "    \n",
    "    try:\n",
    "        name = driver.find_element(By.XPATH,'//span[@class=\"a-size-base po-break-word\"]')\n",
    "        Name_of_the_Product.append(name.text)\n",
    "    except NoSuchElementException:\n",
    "        Name_of_the_Product.append('-')\n",
    "        \n",
    "        \n",
    "Price = []\n",
    "for range_p in product_url[:100]:\n",
    "    driver.get(range_p)\n",
    "    time.sleep(5)\n",
    "    \n",
    "    try:\n",
    "        budget = driver.find_element(By.XPATH,'//span[@class=\"a-price-whole\"]')\n",
    "        Price.append(budget.text)\n",
    "    except NoSuchElementException:\n",
    "        Price.append('-')\n",
    "        \n",
    "Return_Exchange = []\n",
    "for Return in product_url[:100]:\n",
    "    driver.get(Return)\n",
    "    time.sleep(5)\n",
    "    \n",
    "    try:\n",
    "        Exchang = driver.find_element(By.XPATH,'//div[@class=\"a-column a-span12 a-text-center icon-container scrollable-container celwidget\"]')\n",
    "        Return_Exchange.append(Exchang.text)\n",
    "    except NoSuchElementException:\n",
    "        Return_Exchange.append('-')\n",
    "        \n",
    "        \n",
    "Expected_Delivery = [] \n",
    "for Expected in product_url[:100]:\n",
    "    driver.get(Expected)\n",
    "    time.sleep(5)\n",
    "    \n",
    "    try:\n",
    "        Delivery = driver.find_element(By.XPATH,'//span[@class=\"a-text-bold\"]')\n",
    "        Expected_Delivery.append(Delivery.text)\n",
    "    except NoSuchElementException:\n",
    "        Expected_Delivery.append('-')\n",
    "        \n",
    "avaliable = []\n",
    "for avali in product_url[:100]:\n",
    "    driver.get(avali)\n",
    "    time.sleep(1)\n",
    "    \n",
    "    try:\n",
    "        stock = driver.find_element(By.XPATH,'//span[@class=\"a-size-medium a-color-success\"]')\n",
    "        avaliable.append(stock.text)\n",
    "    except NoSuchElementException:\n",
    "        avaliable.append('-')"
   ]
  },
  {
   "cell_type": "code",
   "execution_count": 8,
   "id": "282cd5be",
   "metadata": {},
   "outputs": [],
   "source": [
    "Name_of_the_Product = []\n",
    "for i in product_url:\n",
    "    driver.get(i)\n",
    "    time.sleep(5)\n",
    "    \n",
    "    try:\n",
    "        name = driver.find_element(By.XPATH,'//span[@class=\"a-size-base po-break-word\"]')\n",
    "        Name_of_the_Product.append(name.text)\n",
    "    except NoSuchElementException:\n",
    "        Name_of_the_Product.append('-')\n",
    "        "
   ]
  },
  {
   "cell_type": "code",
   "execution_count": 12,
   "id": "15aec7fb",
   "metadata": {},
   "outputs": [
    {
     "name": "stdout",
     "output_type": "stream",
     "text": [
      "166\n"
     ]
    }
   ],
   "source": [
    "print(len(Name_of_the_Product))"
   ]
  },
  {
   "cell_type": "code",
   "execution_count": 13,
   "id": "0c64d6ad",
   "metadata": {},
   "outputs": [
    {
     "name": "stdout",
     "output_type": "stream",
     "text": [
      "166\n"
     ]
    }
   ],
   "source": [
    "print(len(product_url))"
   ]
  },
  {
   "cell_type": "code",
   "execution_count": 14,
   "id": "284b50d8",
   "metadata": {},
   "outputs": [
    {
     "name": "stdout",
     "output_type": "stream",
     "text": [
      "166\n"
     ]
    }
   ],
   "source": [
    "print(len(brand))"
   ]
  },
  {
   "cell_type": "code",
   "execution_count": 15,
   "id": "d0fe52f3",
   "metadata": {},
   "outputs": [
    {
     "name": "stdout",
     "output_type": "stream",
     "text": [
      "166\n"
     ]
    }
   ],
   "source": [
    "print(len(Name_of_the_Product))"
   ]
  },
  {
   "cell_type": "code",
   "execution_count": 17,
   "id": "82b6f4e3",
   "metadata": {},
   "outputs": [
    {
     "data": {
      "text/html": [
       "<div>\n",
       "<style scoped>\n",
       "    .dataframe tbody tr th:only-of-type {\n",
       "        vertical-align: middle;\n",
       "    }\n",
       "\n",
       "    .dataframe tbody tr th {\n",
       "        vertical-align: top;\n",
       "    }\n",
       "\n",
       "    .dataframe thead th {\n",
       "        text-align: right;\n",
       "    }\n",
       "</style>\n",
       "<table border=\"1\" class=\"dataframe\">\n",
       "  <thead>\n",
       "    <tr style=\"text-align: right;\">\n",
       "      <th></th>\n",
       "      <th>Name of Product</th>\n",
       "      <th>Price</th>\n",
       "      <th>Return_Exchange</th>\n",
       "      <th>Expected_Delivery</th>\n",
       "      <th>avaliable</th>\n",
       "    </tr>\n",
       "  </thead>\n",
       "  <tbody>\n",
       "    <tr>\n",
       "      <th>0</th>\n",
       "      <td>Kadence</td>\n",
       "      <td>4,999</td>\n",
       "      <td>30 days Replacement</td>\n",
       "      <td>Saturday, 17 June</td>\n",
       "      <td>In stock</td>\n",
       "    </tr>\n",
       "    <tr>\n",
       "      <th>1</th>\n",
       "      <td>DEVICE OF URBAN INFOTECH</td>\n",
       "      <td>5,448</td>\n",
       "      <td>30 days Returnable</td>\n",
       "      <td>Saturday, 17 June</td>\n",
       "      <td>In stock</td>\n",
       "    </tr>\n",
       "    <tr>\n",
       "      <th>2</th>\n",
       "      <td>Henrix</td>\n",
       "      <td>2,999</td>\n",
       "      <td>30 days Replacement</td>\n",
       "      <td>Sunday, 18 June</td>\n",
       "      <td>In stock</td>\n",
       "    </tr>\n",
       "    <tr>\n",
       "      <th>3</th>\n",
       "      <td>VAULT</td>\n",
       "      <td>6,934</td>\n",
       "      <td>7 days Replacement</td>\n",
       "      <td>Sunday, 18 June</td>\n",
       "      <td>In stock</td>\n",
       "    </tr>\n",
       "    <tr>\n",
       "      <th>4</th>\n",
       "      <td>JUAREZ</td>\n",
       "      <td>1,999</td>\n",
       "      <td>30 days Replacement</td>\n",
       "      <td>Saturday, 17 June</td>\n",
       "      <td>In stock</td>\n",
       "    </tr>\n",
       "    <tr>\n",
       "      <th>...</th>\n",
       "      <td>...</td>\n",
       "      <td>...</td>\n",
       "      <td>...</td>\n",
       "      <td>...</td>\n",
       "      <td>...</td>\n",
       "    </tr>\n",
       "    <tr>\n",
       "      <th>95</th>\n",
       "      <td>Kadence</td>\n",
       "      <td>6,899</td>\n",
       "      <td>30 days Replacement</td>\n",
       "      <td>Sunday, 18 June</td>\n",
       "      <td>In stock</td>\n",
       "    </tr>\n",
       "    <tr>\n",
       "      <th>96</th>\n",
       "      <td>JUAREZ</td>\n",
       "      <td>2,649</td>\n",
       "      <td>30 days Replacement</td>\n",
       "      <td>Saturday, 17 June</td>\n",
       "      <td>In stock</td>\n",
       "    </tr>\n",
       "    <tr>\n",
       "      <th>97</th>\n",
       "      <td>Intern</td>\n",
       "      <td>3,590</td>\n",
       "      <td>30 days Replacement</td>\n",
       "      <td></td>\n",
       "      <td>-</td>\n",
       "    </tr>\n",
       "    <tr>\n",
       "      <th>98</th>\n",
       "      <td>Intern</td>\n",
       "      <td>2,309</td>\n",
       "      <td>30 days Replacement</td>\n",
       "      <td>Sunday, 18 June</td>\n",
       "      <td>In stock</td>\n",
       "    </tr>\n",
       "    <tr>\n",
       "      <th>99</th>\n",
       "      <td>YAMAHA</td>\n",
       "      <td>8,589</td>\n",
       "      <td>30 days Replacement</td>\n",
       "      <td>Friday, 16 June</td>\n",
       "      <td>In stock</td>\n",
       "    </tr>\n",
       "  </tbody>\n",
       "</table>\n",
       "<p>100 rows × 5 columns</p>\n",
       "</div>"
      ],
      "text/plain": [
       "             Name of Product  Price      Return_Exchange  Expected_Delivery  \\\n",
       "0                    Kadence  4,999  30 days Replacement  Saturday, 17 June   \n",
       "1   DEVICE OF URBAN INFOTECH  5,448   30 days Returnable  Saturday, 17 June   \n",
       "2                     Henrix  2,999  30 days Replacement    Sunday, 18 June   \n",
       "3                      VAULT  6,934   7 days Replacement    Sunday, 18 June   \n",
       "4                     JUAREZ  1,999  30 days Replacement  Saturday, 17 June   \n",
       "..                       ...    ...                  ...                ...   \n",
       "95                   Kadence  6,899  30 days Replacement    Sunday, 18 June   \n",
       "96                    JUAREZ  2,649  30 days Replacement  Saturday, 17 June   \n",
       "97                    Intern  3,590  30 days Replacement                      \n",
       "98                    Intern  2,309  30 days Replacement    Sunday, 18 June   \n",
       "99                    YAMAHA  8,589  30 days Replacement    Friday, 16 June   \n",
       "\n",
       "   avaliable  \n",
       "0   In stock  \n",
       "1   In stock  \n",
       "2   In stock  \n",
       "3   In stock  \n",
       "4   In stock  \n",
       "..       ...  \n",
       "95  In stock  \n",
       "96  In stock  \n",
       "97         -  \n",
       "98  In stock  \n",
       "99  In stock  \n",
       "\n",
       "[100 rows x 5 columns]"
      ]
     },
     "execution_count": 17,
     "metadata": {},
     "output_type": "execute_result"
    }
   ],
   "source": [
    "df=pd.DataFrame({\"Name of Product\":Name_of_the_Product[0:100],\"Price\":Price[0:100],\"Return_Exchange\":Return_Exchange[0:100],\"Expected_Delivery\":Expected_Delivery[0:100],\"avaliable\":avaliable[0:100]})\n",
    "df"
   ]
  },
  {
   "cell_type": "code",
   "execution_count": null,
   "id": "7129d94f",
   "metadata": {},
   "outputs": [],
   "source": []
  },
  {
   "cell_type": "code",
   "execution_count": null,
   "id": "9f9333dc",
   "metadata": {},
   "outputs": [],
   "source": []
  },
  {
   "cell_type": "code",
   "execution_count": null,
   "id": "b820bc84",
   "metadata": {},
   "outputs": [],
   "source": []
  },
  {
   "cell_type": "code",
   "execution_count": null,
   "id": "866016ac",
   "metadata": {},
   "outputs": [],
   "source": []
  }
 ],
 "metadata": {
  "kernelspec": {
   "display_name": "Python 3 (ipykernel)",
   "language": "python",
   "name": "python3"
  },
  "language_info": {
   "codemirror_mode": {
    "name": "ipython",
    "version": 3
   },
   "file_extension": ".py",
   "mimetype": "text/x-python",
   "name": "python",
   "nbconvert_exporter": "python",
   "pygments_lexer": "ipython3",
   "version": "3.10.9"
  }
 },
 "nbformat": 4,
 "nbformat_minor": 5
}
