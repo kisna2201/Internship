{
 "cells": [
  {
   "cell_type": "code",
   "execution_count": 1,
   "id": "62f3656d",
   "metadata": {},
   "outputs": [],
   "source": [
    "import requests\n",
    "from bs4 import BeautifulSoup\n",
    "import pandas as pd\n"
   ]
  },
  {
   "cell_type": "code",
   "execution_count": 2,
   "id": "6646e1e0",
   "metadata": {},
   "outputs": [],
   "source": [
    "def scrape_data(url, headers, limit):\n",
    "    response = requests.get(url)\n",
    "    soup = BeautifulSoup(response.content, 'html.parser')\n",
    "    table = soup.find('table', class_='table')\n",
    "    \n",
    "    data = []\n",
    "    for row in table.select('tbody tr')[:limit]:\n",
    "        row_data = [cell.text.strip() for cell in row.select('td')]\n",
    "        data.append(row_data)\n",
    "    \n",
    "    df = pd.DataFrame(data, columns=headers)\n",
    "    return df"
   ]
  },
  {
   "cell_type": "code",
   "execution_count": 3,
   "id": "d19bfcd6",
   "metadata": {},
   "outputs": [
    {
     "name": "stdout",
     "output_type": "stream",
     "text": [
      "Top 10 ODI Teams in Women's Cricket:\n",
      "  Position              Team Matches Points Rating\n",
      "0        1    Australia\\nAUS      21  3,603    172\n",
      "1        2      England\\nENG      28  3,342    119\n",
      "2        3  South Africa\\nSA      26  3,098    119\n",
      "3        4        India\\nIND      27  2,820    104\n",
      "4        5   New Zealand\\nNZ      25  2,553    102\n",
      "5        6   West Indies\\nWI      27  2,535     94\n",
      "6        7     Thailand\\nTHA      11    821     75\n",
      "7        8   Bangladesh\\nBAN      14    977     70\n",
      "8        9     Pakistan\\nPAK      27  1,678     62\n",
      "9       10     Sri Lanka\\nSL       9    479     53\n",
      "\n"
     ]
    }
   ],
   "source": [
    "team_url = 'https://www.icc-cricket.com/rankings/womens/team-rankings/odi'\n",
    "team_headers = ['Position', 'Team', 'Matches', 'Points', 'Rating']\n",
    "team_limit = 10\n",
    "team_df = scrape_data(team_url, team_headers, team_limit)\n",
    "\n",
    "print(\"Top 10 ODI Teams in Women's Cricket:\")\n",
    "print(team_df)\n",
    "print()"
   ]
  },
  {
   "cell_type": "code",
   "execution_count": null,
   "id": "c2a03041",
   "metadata": {},
   "outputs": [],
   "source": []
  }
 ],
 "metadata": {
  "kernelspec": {
   "display_name": "Python 3 (ipykernel)",
   "language": "python",
   "name": "python3"
  },
  "language_info": {
   "codemirror_mode": {
    "name": "ipython",
    "version": 3
   },
   "file_extension": ".py",
   "mimetype": "text/x-python",
   "name": "python",
   "nbconvert_exporter": "python",
   "pygments_lexer": "ipython3",
   "version": "3.9.13"
  }
 },
 "nbformat": 4,
 "nbformat_minor": 5
}
