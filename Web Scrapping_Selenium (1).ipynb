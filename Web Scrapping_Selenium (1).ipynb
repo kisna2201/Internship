{
 "cells": [
  {
   "cell_type": "markdown",
   "id": "a4b6c53d",
   "metadata": {},
   "source": [
    "# Web Scrapping through selenium"
   ]
  },
  {
   "cell_type": "markdown",
   "id": "15196378",
   "metadata": {},
   "source": [
    "Q1) Write a python program to scrape data for “Data Analyst” Job position in “Bangalore” location. You\n",
    "have to scrape the job-title, job-location, company_name, experience_required. You have to scrape first 10\n",
    "jobs data.\n",
    "\n",
    "This task will be done in following steps:\n",
    "    \n",
    "1. First get the webpage https://www.naukri.com/\n",
    "    \n",
    "2. Enter “Data Analyst” in “Skill, Designations, Companies” field and enter “Bangalore” in “enter the\n",
    "location” field.\n",
    "\n",
    "3. Then click the searchbutton.\n",
    "\n",
    "4. Then scrape the data for the first 10 jobs results youget.\n",
    "\n",
    "5. Finally create a dataframe of the scraped data.\n",
    "\n",
    "Note: All of the above steps have to be done in code. No step is to be done manually."
   ]
  },
  {
   "cell_type": "code",
   "execution_count": 2,
   "id": "99af6926",
   "metadata": {},
   "outputs": [
    {
     "name": "stdout",
     "output_type": "stream",
     "text": [
      "Requirement already satisfied: selenium in c:\\users\\kushal kulkarni\\anaconda3new\\lib\\site-packages (4.9.1)\n",
      "Requirement already satisfied: trio-websocket~=0.9 in c:\\users\\kushal kulkarni\\anaconda3new\\lib\\site-packages (from selenium) (0.10.2)\n",
      "Requirement already satisfied: trio~=0.17 in c:\\users\\kushal kulkarni\\anaconda3new\\lib\\site-packages (from selenium) (0.22.0)\n",
      "Requirement already satisfied: certifi>=2021.10.8 in c:\\users\\kushal kulkarni\\anaconda3new\\lib\\site-packages (from selenium) (2022.9.14)\n",
      "Requirement already satisfied: urllib3[socks]<3,>=1.26 in c:\\users\\kushal kulkarni\\anaconda3new\\lib\\site-packages (from selenium) (1.26.11)\n",
      "Requirement already satisfied: sniffio in c:\\users\\kushal kulkarni\\anaconda3new\\lib\\site-packages (from trio~=0.17->selenium) (1.2.0)\n",
      "Requirement already satisfied: exceptiongroup>=1.0.0rc9 in c:\\users\\kushal kulkarni\\anaconda3new\\lib\\site-packages (from trio~=0.17->selenium) (1.1.1)\n",
      "Requirement already satisfied: sortedcontainers in c:\\users\\kushal kulkarni\\anaconda3new\\lib\\site-packages (from trio~=0.17->selenium) (2.4.0)\n",
      "Requirement already satisfied: outcome in c:\\users\\kushal kulkarni\\anaconda3new\\lib\\site-packages (from trio~=0.17->selenium) (1.2.0)\n",
      "Requirement already satisfied: idna in c:\\users\\kushal kulkarni\\anaconda3new\\lib\\site-packages (from trio~=0.17->selenium) (3.3)\n",
      "Requirement already satisfied: cffi>=1.14 in c:\\users\\kushal kulkarni\\anaconda3new\\lib\\site-packages (from trio~=0.17->selenium) (1.15.1)\n",
      "Requirement already satisfied: attrs>=19.2.0 in c:\\users\\kushal kulkarni\\anaconda3new\\lib\\site-packages (from trio~=0.17->selenium) (21.4.0)\n",
      "Requirement already satisfied: async-generator>=1.9 in c:\\users\\kushal kulkarni\\anaconda3new\\lib\\site-packages (from trio~=0.17->selenium) (1.10)\n",
      "Requirement already satisfied: wsproto>=0.14 in c:\\users\\kushal kulkarni\\anaconda3new\\lib\\site-packages (from trio-websocket~=0.9->selenium) (1.2.0)\n",
      "Requirement already satisfied: PySocks!=1.5.7,<2.0,>=1.5.6 in c:\\users\\kushal kulkarni\\anaconda3new\\lib\\site-packages (from urllib3[socks]<3,>=1.26->selenium) (1.7.1)\n",
      "Requirement already satisfied: pycparser in c:\\users\\kushal kulkarni\\anaconda3new\\lib\\site-packages (from cffi>=1.14->trio~=0.17->selenium) (2.21)\n",
      "Requirement already satisfied: h11<1,>=0.9.0 in c:\\users\\kushal kulkarni\\anaconda3new\\lib\\site-packages (from wsproto>=0.14->trio-websocket~=0.9->selenium) (0.14.0)\n",
      "Note: you may need to restart the kernel to use updated packages.\n"
     ]
    }
   ],
   "source": [
    "pip install selenium"
   ]
  },
  {
   "cell_type": "code",
   "execution_count": 3,
   "id": "ca86807d",
   "metadata": {},
   "outputs": [],
   "source": [
    "import selenium \n",
    "import pandas as pd\n",
    "from selenium import webdriver\n",
    "import warnings\n",
    "warnings.filterwarnings('ignore')\n",
    "from selenium.webdriver.common.by import By\n",
    "import time"
   ]
  },
  {
   "cell_type": "code",
   "execution_count": 12,
   "id": "6d5ab24a",
   "metadata": {},
   "outputs": [],
   "source": [
    "driver = webdriver.Chrome(r'C:\\Users\\Kushal Kulkarni\\Downloads\\chromedriver.exe')"
   ]
  },
  {
   "cell_type": "code",
   "execution_count": 13,
   "id": "76ee43e0",
   "metadata": {},
   "outputs": [],
   "source": [
    "driver.get ('https://www.naukri.com/')"
   ]
  },
  {
   "cell_type": "code",
   "execution_count": 14,
   "id": "1ea777ed",
   "metadata": {},
   "outputs": [],
   "source": [
    "designation = driver.find_element(By.CLASS_NAME, \"suggestor-input \")"
   ]
  },
  {
   "cell_type": "code",
   "execution_count": 15,
   "id": "650928b7",
   "metadata": {},
   "outputs": [],
   "source": [
    "designation.send_keys('Data Analyst')"
   ]
  },
  {
   "cell_type": "code",
   "execution_count": 16,
   "id": "c986211a",
   "metadata": {},
   "outputs": [],
   "source": [
    "location = driver.find_element(By.XPATH, '/html/body/div[1]/div[7]/div/div/div[5]/div/div/div/div[1]/div/input')\n",
    "location.send_keys('Bangalore')"
   ]
  },
  {
   "cell_type": "code",
   "execution_count": 17,
   "id": "ca68f860",
   "metadata": {},
   "outputs": [],
   "source": [
    "search = driver.find_element(By.CLASS_NAME,\"qsbSubmit\")\n",
    "search.click()            "
   ]
  },
  {
   "cell_type": "code",
   "execution_count": 19,
   "id": "77a095ea",
   "metadata": {},
   "outputs": [],
   "source": [
    "job_tittle = []\n",
    "job_location = []\n",
    "company_name = []\n",
    "experience_req = []\n",
    "\n",
    "tittle_tags = driver.find_elements(By.XPATH,'//a[@class=\"title ellipsis\"]')\n",
    "\n",
    "for i in tittle_tags[0:10]:\n",
    "    tittle = i.text\n",
    "    job_tittle.append(tittle)\n",
    "    "
   ]
  },
  {
   "cell_type": "code",
   "execution_count": 20,
   "id": "3136e21e",
   "metadata": {},
   "outputs": [
    {
     "data": {
      "text/plain": [
       "['Tech Data Analyst',\n",
       " 'Data Analyst',\n",
       " 'Data Analyst',\n",
       " 'Knowledge Data Analyst',\n",
       " 'Data Analyst',\n",
       " 'Data Analyst',\n",
       " 'Data Analyst',\n",
       " 'Data Analyst',\n",
       " 'Hiring For Data analyst- Bangalore',\n",
       " 'Data Analyst']"
      ]
     },
     "execution_count": 20,
     "metadata": {},
     "output_type": "execute_result"
    }
   ],
   "source": [
    "job_tittle"
   ]
  },
  {
   "cell_type": "code",
   "execution_count": 21,
   "id": "fbfba527",
   "metadata": {},
   "outputs": [],
   "source": [
    "location = driver.find_elements(By.XPATH,'//span[@class=\"ellipsis fleft locWdth\"]')\n",
    "\n",
    "for i in location[0:10]:\n",
    "    loc = i.text\n",
    "    job_location.append(loc)"
   ]
  },
  {
   "cell_type": "code",
   "execution_count": 22,
   "id": "4c372ef4",
   "metadata": {},
   "outputs": [
    {
     "data": {
      "text/plain": [
       "['Hybrid - Bangalore/ Bengaluru, Karnataka, Gurgaon/ Gurugram, Haryana',\n",
       " 'Bangalore/Bengaluru',\n",
       " 'Hybrid - Bangalore/Bengaluru',\n",
       " 'Bangalore/Bengaluru',\n",
       " 'Bangalore/Bengaluru',\n",
       " 'Bangalore/Bengaluru',\n",
       " 'Bangalore/Bengaluru',\n",
       " 'Bangalore/Bengaluru',\n",
       " 'Bangalore/ Bengaluru, Karnataka(4th Block Koramangala)',\n",
       " 'Hybrid - Bangalore/Bengaluru, Delhi / NCR']"
      ]
     },
     "execution_count": 22,
     "metadata": {},
     "output_type": "execute_result"
    }
   ],
   "source": [
    "job_location"
   ]
  },
  {
   "cell_type": "code",
   "execution_count": 23,
   "id": "96263812",
   "metadata": {},
   "outputs": [],
   "source": [
    "co = driver.find_elements(By.XPATH,'//a[@class=\"subTitle ellipsis fleft\"]')\n",
    "\n",
    "for i in co[0:10]:\n",
    "    company = i.text\n",
    "    company_name.append(company)"
   ]
  },
  {
   "cell_type": "code",
   "execution_count": 24,
   "id": "4106767e",
   "metadata": {},
   "outputs": [
    {
     "data": {
      "text/plain": [
       "['Wipro',\n",
       " 'Brillio',\n",
       " 'HARMAN',\n",
       " 'SAP',\n",
       " 'Koch Industries',\n",
       " 'Aventus Technology India',\n",
       " 'Zoom Start India',\n",
       " 'Alliances Galore',\n",
       " 'Shadowfax Technologies',\n",
       " 'Aon']"
      ]
     },
     "execution_count": 24,
     "metadata": {},
     "output_type": "execute_result"
    }
   ],
   "source": [
    "company_name"
   ]
  },
  {
   "cell_type": "code",
   "execution_count": 25,
   "id": "d5292278",
   "metadata": {},
   "outputs": [],
   "source": [
    "exp = driver.find_elements(By.XPATH,'//span[@class=\"ellipsis fleft expwdth\"]')\n",
    "\n",
    "for i in exp[0:10]:\n",
    "    ex = i.text\n",
    "    experience_req.append(ex)"
   ]
  },
  {
   "cell_type": "code",
   "execution_count": 26,
   "id": "2806014f",
   "metadata": {},
   "outputs": [
    {
     "data": {
      "text/plain": [
       "['3-6 Yrs',\n",
       " '0-2 Yrs',\n",
       " '3-5 Yrs',\n",
       " '4-6 Yrs',\n",
       " '7-9 Yrs',\n",
       " '2-7 Yrs',\n",
       " '1-4 Yrs',\n",
       " '1-3 Yrs',\n",
       " '2-5 Yrs',\n",
       " '6-9 Yrs']"
      ]
     },
     "execution_count": 26,
     "metadata": {},
     "output_type": "execute_result"
    }
   ],
   "source": [
    "experience_req"
   ]
  },
  {
   "cell_type": "code",
   "execution_count": 27,
   "id": "29c32c03",
   "metadata": {},
   "outputs": [
    {
     "data": {
      "text/html": [
       "<div>\n",
       "<style scoped>\n",
       "    .dataframe tbody tr th:only-of-type {\n",
       "        vertical-align: middle;\n",
       "    }\n",
       "\n",
       "    .dataframe tbody tr th {\n",
       "        vertical-align: top;\n",
       "    }\n",
       "\n",
       "    .dataframe thead th {\n",
       "        text-align: right;\n",
       "    }\n",
       "</style>\n",
       "<table border=\"1\" class=\"dataframe\">\n",
       "  <thead>\n",
       "    <tr style=\"text-align: right;\">\n",
       "      <th></th>\n",
       "      <th>Job Tittle</th>\n",
       "      <th>Location</th>\n",
       "      <th>Comapany Name</th>\n",
       "      <th>Experience required</th>\n",
       "    </tr>\n",
       "  </thead>\n",
       "  <tbody>\n",
       "    <tr>\n",
       "      <th>0</th>\n",
       "      <td>Tech Data Analyst</td>\n",
       "      <td>Hybrid - Bangalore/ Bengaluru, Karnataka, Gurg...</td>\n",
       "      <td>Wipro</td>\n",
       "      <td>3-6 Yrs</td>\n",
       "    </tr>\n",
       "    <tr>\n",
       "      <th>1</th>\n",
       "      <td>Data Analyst</td>\n",
       "      <td>Bangalore/Bengaluru</td>\n",
       "      <td>Brillio</td>\n",
       "      <td>0-2 Yrs</td>\n",
       "    </tr>\n",
       "    <tr>\n",
       "      <th>2</th>\n",
       "      <td>Data Analyst</td>\n",
       "      <td>Hybrid - Bangalore/Bengaluru</td>\n",
       "      <td>HARMAN</td>\n",
       "      <td>3-5 Yrs</td>\n",
       "    </tr>\n",
       "    <tr>\n",
       "      <th>3</th>\n",
       "      <td>Knowledge Data Analyst</td>\n",
       "      <td>Bangalore/Bengaluru</td>\n",
       "      <td>SAP</td>\n",
       "      <td>4-6 Yrs</td>\n",
       "    </tr>\n",
       "    <tr>\n",
       "      <th>4</th>\n",
       "      <td>Data Analyst</td>\n",
       "      <td>Bangalore/Bengaluru</td>\n",
       "      <td>Koch Industries</td>\n",
       "      <td>7-9 Yrs</td>\n",
       "    </tr>\n",
       "    <tr>\n",
       "      <th>5</th>\n",
       "      <td>Data Analyst</td>\n",
       "      <td>Bangalore/Bengaluru</td>\n",
       "      <td>Aventus Technology India</td>\n",
       "      <td>2-7 Yrs</td>\n",
       "    </tr>\n",
       "    <tr>\n",
       "      <th>6</th>\n",
       "      <td>Data Analyst</td>\n",
       "      <td>Bangalore/Bengaluru</td>\n",
       "      <td>Zoom Start India</td>\n",
       "      <td>1-4 Yrs</td>\n",
       "    </tr>\n",
       "    <tr>\n",
       "      <th>7</th>\n",
       "      <td>Data Analyst</td>\n",
       "      <td>Bangalore/Bengaluru</td>\n",
       "      <td>Alliances Galore</td>\n",
       "      <td>1-3 Yrs</td>\n",
       "    </tr>\n",
       "    <tr>\n",
       "      <th>8</th>\n",
       "      <td>Hiring For Data analyst- Bangalore</td>\n",
       "      <td>Bangalore/ Bengaluru, Karnataka(4th Block Kora...</td>\n",
       "      <td>Shadowfax Technologies</td>\n",
       "      <td>2-5 Yrs</td>\n",
       "    </tr>\n",
       "    <tr>\n",
       "      <th>9</th>\n",
       "      <td>Data Analyst</td>\n",
       "      <td>Hybrid - Bangalore/Bengaluru, Delhi / NCR</td>\n",
       "      <td>Aon</td>\n",
       "      <td>6-9 Yrs</td>\n",
       "    </tr>\n",
       "  </tbody>\n",
       "</table>\n",
       "</div>"
      ],
      "text/plain": [
       "                           Job Tittle  \\\n",
       "0                   Tech Data Analyst   \n",
       "1                        Data Analyst   \n",
       "2                        Data Analyst   \n",
       "3              Knowledge Data Analyst   \n",
       "4                        Data Analyst   \n",
       "5                        Data Analyst   \n",
       "6                        Data Analyst   \n",
       "7                        Data Analyst   \n",
       "8  Hiring For Data analyst- Bangalore   \n",
       "9                        Data Analyst   \n",
       "\n",
       "                                            Location  \\\n",
       "0  Hybrid - Bangalore/ Bengaluru, Karnataka, Gurg...   \n",
       "1                                Bangalore/Bengaluru   \n",
       "2                       Hybrid - Bangalore/Bengaluru   \n",
       "3                                Bangalore/Bengaluru   \n",
       "4                                Bangalore/Bengaluru   \n",
       "5                                Bangalore/Bengaluru   \n",
       "6                                Bangalore/Bengaluru   \n",
       "7                                Bangalore/Bengaluru   \n",
       "8  Bangalore/ Bengaluru, Karnataka(4th Block Kora...   \n",
       "9          Hybrid - Bangalore/Bengaluru, Delhi / NCR   \n",
       "\n",
       "              Comapany Name Experience required  \n",
       "0                     Wipro             3-6 Yrs  \n",
       "1                   Brillio             0-2 Yrs  \n",
       "2                    HARMAN             3-5 Yrs  \n",
       "3                       SAP             4-6 Yrs  \n",
       "4           Koch Industries             7-9 Yrs  \n",
       "5  Aventus Technology India             2-7 Yrs  \n",
       "6          Zoom Start India             1-4 Yrs  \n",
       "7          Alliances Galore             1-3 Yrs  \n",
       "8    Shadowfax Technologies             2-5 Yrs  \n",
       "9                       Aon             6-9 Yrs  "
      ]
     },
     "execution_count": 27,
     "metadata": {},
     "output_type": "execute_result"
    }
   ],
   "source": [
    "Data_Analyst_jobs = pd.DataFrame({'Job Tittle': job_tittle, 'Location': job_location, 'Comapany Name': company_name,'Experience required': experience_req })\n",
    "Data_Analyst_jobs"
   ]
  },
  {
   "cell_type": "markdown",
   "id": "2ef5e1dc",
   "metadata": {},
   "source": [
    "Q2:Write a python program to scrape data for “Data Scientist” Job position in “Bangalore” location. You \n",
    "have to scrape the job-title, job-location, company_name. You have to scrape first 10 jobs data.\n",
    "\n",
    "This task will be done in following steps:\n",
    "\n",
    "1. First get the webpage https://www.naukri.com/\n",
    "\n",
    "2. Enter “Data Scientist” in “Skill, Designations, Companies” field and enter “Bangalore” in “enter the \n",
    "location” field.\n",
    "\n",
    "3. Then click the searchbutton.\n",
    "\n",
    "4. Then scrape the data for the first 10 jobs results youget.\n",
    "\n",
    "5. Finally create a dataframe of the scraped data."
   ]
  },
  {
   "cell_type": "code",
   "execution_count": 1,
   "id": "7afab4f1",
   "metadata": {},
   "outputs": [],
   "source": [
    "import selenium \n",
    "import pandas as pd\n",
    "from selenium import webdriver\n",
    "import warnings\n",
    "warnings.filterwarnings('ignore')\n",
    "from selenium.webdriver.common.by import By\n",
    "import time"
   ]
  },
  {
   "cell_type": "code",
   "execution_count": 6,
   "id": "76de48d4",
   "metadata": {},
   "outputs": [],
   "source": [
    "driver = webdriver.Chrome(r'C:\\Users\\Kushal Kulkarni\\Downloads\\chromedriver.exe')"
   ]
  },
  {
   "cell_type": "code",
   "execution_count": 7,
   "id": "004dbd56",
   "metadata": {},
   "outputs": [],
   "source": [
    "driver.get ('https://www.naukri.com/')"
   ]
  },
  {
   "cell_type": "code",
   "execution_count": 8,
   "id": "2aa373ae",
   "metadata": {},
   "outputs": [],
   "source": [
    "designation = driver.find_element(By.CLASS_NAME, \"suggestor-input \")"
   ]
  },
  {
   "cell_type": "code",
   "execution_count": 9,
   "id": "93cf5715",
   "metadata": {},
   "outputs": [],
   "source": [
    "designation.send_keys('Data Scientist')"
   ]
  },
  {
   "cell_type": "code",
   "execution_count": 10,
   "id": "2b9be5e9",
   "metadata": {},
   "outputs": [],
   "source": [
    "location = driver.find_element(By.XPATH, '/html/body/div[1]/div[7]/div/div/div[5]/div/div/div/div[1]/div/input')\n",
    "location.send_keys('Bangalore')"
   ]
  },
  {
   "cell_type": "code",
   "execution_count": 11,
   "id": "b4623260",
   "metadata": {},
   "outputs": [],
   "source": [
    "search = driver.find_element(By.CLASS_NAME,\"qsbSubmit\")\n",
    "search.click()"
   ]
  },
  {
   "cell_type": "code",
   "execution_count": 12,
   "id": "812dedf8",
   "metadata": {},
   "outputs": [],
   "source": [
    "job_tittle = []\n",
    "job_location = []\n",
    "company_name = []\n",
    "experience_req = []\n",
    "\n",
    "tittle_tags = driver.find_elements(By.XPATH,'//a[@class=\"title ellipsis\"]')\n",
    "\n",
    "for i in tittle_tags[0:10]:\n",
    "    tittle = i.text\n",
    "    job_tittle.append(tittle)"
   ]
  },
  {
   "cell_type": "code",
   "execution_count": 13,
   "id": "c93eccf3",
   "metadata": {},
   "outputs": [],
   "source": [
    "location = driver.find_elements(By.XPATH,'//span[@class=\"ellipsis fleft locWdth\"]')\n",
    "\n",
    "for i in location[0:10]:\n",
    "    loc = i.text\n",
    "    job_location.append(loc)"
   ]
  },
  {
   "cell_type": "code",
   "execution_count": 14,
   "id": "80ccc82c",
   "metadata": {},
   "outputs": [],
   "source": [
    "co = driver.find_elements(By.XPATH,'//a[@class=\"subTitle ellipsis fleft\"]')\n",
    "\n",
    "for i in co[0:10]:\n",
    "    company = i.text\n",
    "    company_name.append(company)"
   ]
  },
  {
   "cell_type": "code",
   "execution_count": 15,
   "id": "951f8702",
   "metadata": {},
   "outputs": [],
   "source": [
    "exp = driver.find_elements(By.XPATH,'//span[@class=\"ellipsis fleft expwdth\"]')\n",
    "\n",
    "for i in exp[0:10]:\n",
    "    ex = i.text\n",
    "    experience_req.append(ex)"
   ]
  },
  {
   "cell_type": "code",
   "execution_count": 16,
   "id": "8a9154ef",
   "metadata": {},
   "outputs": [
    {
     "data": {
      "text/html": [
       "<div>\n",
       "<style scoped>\n",
       "    .dataframe tbody tr th:only-of-type {\n",
       "        vertical-align: middle;\n",
       "    }\n",
       "\n",
       "    .dataframe tbody tr th {\n",
       "        vertical-align: top;\n",
       "    }\n",
       "\n",
       "    .dataframe thead th {\n",
       "        text-align: right;\n",
       "    }\n",
       "</style>\n",
       "<table border=\"1\" class=\"dataframe\">\n",
       "  <thead>\n",
       "    <tr style=\"text-align: right;\">\n",
       "      <th></th>\n",
       "      <th>Job Tittle</th>\n",
       "      <th>Location</th>\n",
       "      <th>Comapany Name</th>\n",
       "      <th>Experience required</th>\n",
       "    </tr>\n",
       "  </thead>\n",
       "  <tbody>\n",
       "    <tr>\n",
       "      <th>0</th>\n",
       "      <td>Permanent Opportunity - Data Scientist(Snaplog...</td>\n",
       "      <td>Hybrid - Bangalore/Bengaluru, Kolkata, Hyderab...</td>\n",
       "      <td>Deloitte</td>\n",
       "      <td>9-14 Yrs</td>\n",
       "    </tr>\n",
       "    <tr>\n",
       "      <th>1</th>\n",
       "      <td>Analystics &amp; Modeling Specialist</td>\n",
       "      <td>Bangalore/Bengaluru, Kolkata, Mumbai, Hyderaba...</td>\n",
       "      <td>Accenture</td>\n",
       "      <td>6-8 Yrs</td>\n",
       "    </tr>\n",
       "    <tr>\n",
       "      <th>2</th>\n",
       "      <td>Hiring For Data Scientist</td>\n",
       "      <td>Hybrid - Bangalore/ Bengaluru, Karnataka, Hyde...</td>\n",
       "      <td>Tata Consultancy Services (TCS)</td>\n",
       "      <td>4-9 Yrs</td>\n",
       "    </tr>\n",
       "    <tr>\n",
       "      <th>3</th>\n",
       "      <td>Machine Learning (AI) Architect</td>\n",
       "      <td>Bangalore/Bengaluru, Kolkata, Mumbai, New Delh...</td>\n",
       "      <td>Persistent Systems Limited.</td>\n",
       "      <td>5-12 Yrs</td>\n",
       "    </tr>\n",
       "    <tr>\n",
       "      <th>4</th>\n",
       "      <td>Director/Senior Director - Data Science</td>\n",
       "      <td>Bangalore/Bengaluru, Noida, Hyderabad/Secunder...</td>\n",
       "      <td>Axtria India</td>\n",
       "      <td>10-15 Yrs</td>\n",
       "    </tr>\n",
       "    <tr>\n",
       "      <th>5</th>\n",
       "      <td>Manager/Senior Manager - Data Science</td>\n",
       "      <td>Bangalore/Bengaluru, Noida, Hyderabad/Secunder...</td>\n",
       "      <td>Axtria India</td>\n",
       "      <td>8-12 Yrs</td>\n",
       "    </tr>\n",
       "    <tr>\n",
       "      <th>6</th>\n",
       "      <td>Data Scientist</td>\n",
       "      <td>Bangalore/Bengaluru</td>\n",
       "      <td>Ericsson</td>\n",
       "      <td>5-7 Yrs</td>\n",
       "    </tr>\n",
       "    <tr>\n",
       "      <th>7</th>\n",
       "      <td>Deputy Manager - B2C Underwriting</td>\n",
       "      <td>Bangalore/Bengaluru</td>\n",
       "      <td>Bajaj Finserv Ltd.</td>\n",
       "      <td>1-3 Yrs</td>\n",
       "    </tr>\n",
       "    <tr>\n",
       "      <th>8</th>\n",
       "      <td>Data Scientist</td>\n",
       "      <td>Bangalore/Bengaluru, Hyderabad/Secunderabad, C...</td>\n",
       "      <td>Cognizant</td>\n",
       "      <td>4-9 Yrs</td>\n",
       "    </tr>\n",
       "    <tr>\n",
       "      <th>9</th>\n",
       "      <td>Data Scientist</td>\n",
       "      <td>Hybrid - Bangalore/Bengaluru, Pune, Delhi / NC...</td>\n",
       "      <td>Infogain</td>\n",
       "      <td>3-6 Yrs</td>\n",
       "    </tr>\n",
       "  </tbody>\n",
       "</table>\n",
       "</div>"
      ],
      "text/plain": [
       "                                          Job Tittle  \\\n",
       "0  Permanent Opportunity - Data Scientist(Snaplog...   \n",
       "1                   Analystics & Modeling Specialist   \n",
       "2                          Hiring For Data Scientist   \n",
       "3                    Machine Learning (AI) Architect   \n",
       "4            Director/Senior Director - Data Science   \n",
       "5              Manager/Senior Manager - Data Science   \n",
       "6                                     Data Scientist   \n",
       "7                  Deputy Manager - B2C Underwriting   \n",
       "8                                     Data Scientist   \n",
       "9                                     Data Scientist   \n",
       "\n",
       "                                            Location  \\\n",
       "0  Hybrid - Bangalore/Bengaluru, Kolkata, Hyderab...   \n",
       "1  Bangalore/Bengaluru, Kolkata, Mumbai, Hyderaba...   \n",
       "2  Hybrid - Bangalore/ Bengaluru, Karnataka, Hyde...   \n",
       "3  Bangalore/Bengaluru, Kolkata, Mumbai, New Delh...   \n",
       "4  Bangalore/Bengaluru, Noida, Hyderabad/Secunder...   \n",
       "5  Bangalore/Bengaluru, Noida, Hyderabad/Secunder...   \n",
       "6                                Bangalore/Bengaluru   \n",
       "7                                Bangalore/Bengaluru   \n",
       "8  Bangalore/Bengaluru, Hyderabad/Secunderabad, C...   \n",
       "9  Hybrid - Bangalore/Bengaluru, Pune, Delhi / NC...   \n",
       "\n",
       "                     Comapany Name Experience required  \n",
       "0                         Deloitte            9-14 Yrs  \n",
       "1                        Accenture             6-8 Yrs  \n",
       "2  Tata Consultancy Services (TCS)             4-9 Yrs  \n",
       "3      Persistent Systems Limited.            5-12 Yrs  \n",
       "4                     Axtria India           10-15 Yrs  \n",
       "5                     Axtria India            8-12 Yrs  \n",
       "6                         Ericsson             5-7 Yrs  \n",
       "7               Bajaj Finserv Ltd.             1-3 Yrs  \n",
       "8                        Cognizant             4-9 Yrs  \n",
       "9                         Infogain             3-6 Yrs  "
      ]
     },
     "execution_count": 16,
     "metadata": {},
     "output_type": "execute_result"
    }
   ],
   "source": [
    "Data_Scientist_jobs = pd.DataFrame({'Job Tittle': job_tittle, 'Location': job_location, 'Comapany Name': company_name,'Experience required': experience_req })\n",
    "Data_Scientist_jobs"
   ]
  },
  {
   "cell_type": "markdown",
   "id": "93d152de",
   "metadata": {},
   "source": [
    "Q3) The task will be done as shown in the below steps:\n",
    "\n",
    "1. first get thewebpage https://www.naukri.com/\n",
    "\n",
    "2. Enter “Data Scientist” in “Skill, Designations, and Companies” field.\n",
    "\n",
    "3. Then click the searchbutton.\n",
    "\n",
    "4. Then apply the location filter and salary filter by checking the respectiveboxes\n",
    "\n",
    "5. Then scrape the data for the first 10 jobs results youget.\n",
    "\n",
    "6. Finally create a dataframe of the scrapeddata."
   ]
  },
  {
   "cell_type": "code",
   "execution_count": 1,
   "id": "ca367d97",
   "metadata": {},
   "outputs": [],
   "source": [
    "import selenium \n",
    "import pandas as pd\n",
    "from selenium import webdriver\n",
    "import warnings\n",
    "warnings.filterwarnings('ignore')\n",
    "from selenium.webdriver.common.by import By\n",
    "import time"
   ]
  },
  {
   "cell_type": "code",
   "execution_count": 2,
   "id": "41fef2da",
   "metadata": {},
   "outputs": [],
   "source": [
    "driver = webdriver.Chrome(r'C:\\Users\\Kushal Kulkarni\\Downloads\\chromedriver.exe')"
   ]
  },
  {
   "cell_type": "code",
   "execution_count": 3,
   "id": "8e497cc3",
   "metadata": {},
   "outputs": [],
   "source": [
    "driver.get ('https://www.naukri.com/')"
   ]
  },
  {
   "cell_type": "code",
   "execution_count": 4,
   "id": "ec131ffc",
   "metadata": {},
   "outputs": [],
   "source": [
    "designation = driver.find_element(By.CLASS_NAME, \"suggestor-input \")\n",
    "designation.send_keys('Data Scientist')"
   ]
  },
  {
   "cell_type": "code",
   "execution_count": 5,
   "id": "caa95d01",
   "metadata": {},
   "outputs": [],
   "source": [
    "search = driver.find_element(By.CLASS_NAME,\"qsbSubmit\")\n",
    "search.click()"
   ]
  },
  {
   "cell_type": "code",
   "execution_count": 6,
   "id": "22932d87",
   "metadata": {},
   "outputs": [],
   "source": [
    "location = driver.find_element(By.XPATH, '/html/body/div[1]/div[4]/div/div/section[1]/div[2]/div[5]/div[2]/div[2]/label/p/span[1]')\n",
    "location.click()"
   ]
  },
  {
   "cell_type": "code",
   "execution_count": 8,
   "id": "bc937f4b",
   "metadata": {},
   "outputs": [],
   "source": [
    "salary = driver.find_element(By.XPATH,'/html/body/div[1]/div[4]/div/div/section[1]/div[2]/div[6]/div[2]/div[2]/label/p/span[1]')\n",
    "salary.click()"
   ]
  },
  {
   "cell_type": "code",
   "execution_count": 17,
   "id": "b27d10d5",
   "metadata": {},
   "outputs": [],
   "source": [
    "Job = []\n",
    "Co_name = []\n",
    "exp_req = []\n",
    "\n",
    "j = driver.find_elements(By.XPATH,'//a[@class=\"title ellipsis\"]')\n",
    "for i in j[0:10]:\n",
    "    Job.append(i.text)\n",
    "    \n",
    "c = driver.find_elements(By.XPATH,'//a[@class=\"subTitle ellipsis fleft\"]')\n",
    "for i in c[0:10]:\n",
    "    Co_name.append(i.text)\n",
    "    \n",
    "e = driver.find_elements(By.XPATH,'//span[@class=\"ellipsis fleft expwdth\"]')\n",
    "for i in e[0:10]:\n",
    "    exp_req.append(i.text)"
   ]
  },
  {
   "cell_type": "code",
   "execution_count": 12,
   "id": "7b54d874",
   "metadata": {},
   "outputs": [
    {
     "data": {
      "text/plain": [
       "10"
      ]
     },
     "execution_count": 12,
     "metadata": {},
     "output_type": "execute_result"
    }
   ],
   "source": [
    "len(Job)"
   ]
  },
  {
   "cell_type": "code",
   "execution_count": 15,
   "id": "8c72b5bb",
   "metadata": {},
   "outputs": [
    {
     "data": {
      "text/plain": [
       "10"
      ]
     },
     "execution_count": 15,
     "metadata": {},
     "output_type": "execute_result"
    }
   ],
   "source": [
    "len(Co_name)"
   ]
  },
  {
   "cell_type": "code",
   "execution_count": 18,
   "id": "23d63785",
   "metadata": {},
   "outputs": [
    {
     "data": {
      "text/plain": [
       "10"
      ]
     },
     "execution_count": 18,
     "metadata": {},
     "output_type": "execute_result"
    }
   ],
   "source": [
    "len(exp_req)"
   ]
  },
  {
   "cell_type": "code",
   "execution_count": 19,
   "id": "0135e70c",
   "metadata": {},
   "outputs": [
    {
     "data": {
      "text/html": [
       "<div>\n",
       "<style scoped>\n",
       "    .dataframe tbody tr th:only-of-type {\n",
       "        vertical-align: middle;\n",
       "    }\n",
       "\n",
       "    .dataframe tbody tr th {\n",
       "        vertical-align: top;\n",
       "    }\n",
       "\n",
       "    .dataframe thead th {\n",
       "        text-align: right;\n",
       "    }\n",
       "</style>\n",
       "<table border=\"1\" class=\"dataframe\">\n",
       "  <thead>\n",
       "    <tr style=\"text-align: right;\">\n",
       "      <th></th>\n",
       "      <th>Job Name</th>\n",
       "      <th>Co. Name</th>\n",
       "      <th>Exp. required</th>\n",
       "    </tr>\n",
       "  </thead>\n",
       "  <tbody>\n",
       "    <tr>\n",
       "      <th>0</th>\n",
       "      <td>Junior Data Scientist</td>\n",
       "      <td>Analytos</td>\n",
       "      <td>0-2 Yrs</td>\n",
       "    </tr>\n",
       "    <tr>\n",
       "      <th>1</th>\n",
       "      <td>Data Scientist</td>\n",
       "      <td>Blackbuck</td>\n",
       "      <td>3-7 Yrs</td>\n",
       "    </tr>\n",
       "    <tr>\n",
       "      <th>2</th>\n",
       "      <td>Data Scientist</td>\n",
       "      <td>Jubilant Ingrevia Limited</td>\n",
       "      <td>3-8 Yrs</td>\n",
       "    </tr>\n",
       "    <tr>\n",
       "      <th>3</th>\n",
       "      <td>Data Scientist</td>\n",
       "      <td>Analytos</td>\n",
       "      <td>2-4 Yrs</td>\n",
       "    </tr>\n",
       "    <tr>\n",
       "      <th>4</th>\n",
       "      <td>Python and ML Trainer</td>\n",
       "      <td>Thescholar</td>\n",
       "      <td>3-8 Yrs</td>\n",
       "    </tr>\n",
       "    <tr>\n",
       "      <th>5</th>\n",
       "      <td>Data Scientist</td>\n",
       "      <td>Tata Consultancy Services (TCS)</td>\n",
       "      <td>7-12 Yrs</td>\n",
       "    </tr>\n",
       "    <tr>\n",
       "      <th>6</th>\n",
       "      <td>Intern</td>\n",
       "      <td>Tower Research Capital</td>\n",
       "      <td>0-1 Yrs</td>\n",
       "    </tr>\n",
       "    <tr>\n",
       "      <th>7</th>\n",
       "      <td>Lead Assistant Manager</td>\n",
       "      <td>EXL</td>\n",
       "      <td>2-6 Yrs</td>\n",
       "    </tr>\n",
       "    <tr>\n",
       "      <th>8</th>\n",
       "      <td>Data Scientist</td>\n",
       "      <td>Innovaccer</td>\n",
       "      <td>2-4 Yrs</td>\n",
       "    </tr>\n",
       "    <tr>\n",
       "      <th>9</th>\n",
       "      <td>Junior Data Scientist</td>\n",
       "      <td>Adidas</td>\n",
       "      <td>1-6 Yrs</td>\n",
       "    </tr>\n",
       "  </tbody>\n",
       "</table>\n",
       "</div>"
      ],
      "text/plain": [
       "                 Job Name                         Co. Name Exp. required\n",
       "0   Junior Data Scientist                         Analytos       0-2 Yrs\n",
       "1          Data Scientist                        Blackbuck       3-7 Yrs\n",
       "2          Data Scientist        Jubilant Ingrevia Limited       3-8 Yrs\n",
       "3          Data Scientist                         Analytos       2-4 Yrs\n",
       "4   Python and ML Trainer                       Thescholar       3-8 Yrs\n",
       "5          Data Scientist  Tata Consultancy Services (TCS)      7-12 Yrs\n",
       "6                  Intern           Tower Research Capital       0-1 Yrs\n",
       "7  Lead Assistant Manager                              EXL       2-6 Yrs\n",
       "8          Data Scientist                       Innovaccer       2-4 Yrs\n",
       "9   Junior Data Scientist                           Adidas       1-6 Yrs"
      ]
     },
     "execution_count": 19,
     "metadata": {},
     "output_type": "execute_result"
    }
   ],
   "source": [
    "Data_Scientist_Delhi = pd.DataFrame({'Job Name': Job, 'Co. Name': Co_name, 'Exp. required': exp_req})\n",
    "Data_Scientist_Delhi"
   ]
  },
  {
   "cell_type": "markdown",
   "id": "bd074dc5",
   "metadata": {},
   "source": [
    "Hello team unable to scrap the the data through the filter as not able to click, need your help in it"
   ]
  },
  {
   "cell_type": "markdown",
   "id": "5cf61193",
   "metadata": {},
   "source": [
    "Q4: Scrape data of first 100 sunglasses listings on flipkart.com. You have to scrape four attributes:\n",
    "1. Brand\n",
    "2. ProductDescription\n",
    "3. Price\n",
    "The attributes which you have to scrape is ticked marked in the below image.\n",
    "\n",
    "To scrape the data you have to go through following steps:\n",
    "\n",
    "1. Go to Flipkart webpage by url :https://www.flipkart.com/\n",
    "\n",
    "2. Enter “sunglasses” in the search field where “search for products, brands and more” is written and \n",
    "click the search icon\n",
    "\n",
    "3. After that you will reach to the page having a lot of sunglasses. From this page you can scrap the \n",
    "required data asusual.\n",
    "\n",
    "4. After scraping data from the first page, go to the “Next” Button at the bottom other page , then\n",
    "click on it.\n",
    "\n",
    "5. Now scrape data from this page asusual\n",
    "\n",
    "6. Repeat this until you get data for 100sunglasses."
   ]
  },
  {
   "cell_type": "code",
   "execution_count": 26,
   "id": "d3229a86",
   "metadata": {},
   "outputs": [],
   "source": [
    "driver = webdriver.Chrome(r'C:\\Users\\Kushal Kulkarni\\Downloads\\chromedriver.exe')"
   ]
  },
  {
   "cell_type": "code",
   "execution_count": 27,
   "id": "9d2e1049",
   "metadata": {},
   "outputs": [],
   "source": [
    "driver.get('https://www.flipkart.com/')"
   ]
  },
  {
   "cell_type": "code",
   "execution_count": 28,
   "id": "b5e438e8",
   "metadata": {},
   "outputs": [],
   "source": [
    "glasses = driver.find_element(By.CLASS_NAME,\"_3704LK\")\n",
    "glasses.send_keys('sunglasses')"
   ]
  },
  {
   "cell_type": "code",
   "execution_count": 29,
   "id": "c6d7cf57",
   "metadata": {},
   "outputs": [],
   "source": [
    "search = driver.find_element(By.CLASS_NAME,\"_34RNph\")\n",
    "search.click()"
   ]
  },
  {
   "cell_type": "code",
   "execution_count": 47,
   "id": "06828319",
   "metadata": {},
   "outputs": [],
   "source": [
    "Brand = []\n",
    "Product_Description = []\n",
    "Price = []\n",
    "\n",
    "start = 0\n",
    "end = 3\n",
    "for page in range(start,end):\n",
    "    brand = driver.find_elements(By.XPATH,'//div[@class=\"_2WkVRV\"]')\n",
    "    for i in brand[0:100]:\n",
    "        Brand.append(i.text)\n",
    "\n",
    "next_button = driver.find_element(By.XPATH,'//a[@class=\"_1LKTO3\"]')\n",
    "next_button.click()\n",
    "time.sleep(3)"
   ]
  },
  {
   "cell_type": "code",
   "execution_count": 48,
   "id": "2c883ea8",
   "metadata": {},
   "outputs": [
    {
     "data": {
      "text/plain": [
       "['Elligator',\n",
       " 'ROZZETTA CRAFT',\n",
       " 'Rich Club',\n",
       " 'Fastrack',\n",
       " 'PIRASO',\n",
       " 'SUNBEE',\n",
       " 'PIRASO',\n",
       " 'DEIXELS',\n",
       " 'Fastrack',\n",
       " 'Elligator',\n",
       " 'Elligator',\n",
       " 'ROZZETTA CRAFT',\n",
       " 'PIRASO',\n",
       " 'PROVOGUE',\n",
       " 'PIRASO',\n",
       " 'NuVew',\n",
       " 'GANSTA',\n",
       " 'iCopertina',\n",
       " 'GANSTA',\n",
       " 'VINCENT CHASE',\n",
       " 'LIZA ANGEL',\n",
       " 'Fastrack',\n",
       " 'ROZZETTA CRAFT',\n",
       " 'PIRASO',\n",
       " 'VINCENT CHASE',\n",
       " 'Silver Kartz',\n",
       " 'VINCENT CHASE',\n",
       " 'Fastrack',\n",
       " 'VINCENT CHASE',\n",
       " 'Fastrack',\n",
       " 'Rich Club',\n",
       " 'ROYAL SON',\n",
       " 'HRX by Hrithik Roshan',\n",
       " 'RED MONK',\n",
       " 'LIZA ANGEL',\n",
       " 'VINCENT CHASE',\n",
       " 'ROZZETTA CRAFT',\n",
       " 'Rich Club',\n",
       " 'AISLIN',\n",
       " 'Fastrack',\n",
       " 'Elligator',\n",
       " 'ROZZETTA CRAFT',\n",
       " 'Rich Club',\n",
       " 'Fastrack',\n",
       " 'PIRASO',\n",
       " 'SUNBEE',\n",
       " 'PIRASO',\n",
       " 'DEIXELS',\n",
       " 'Fastrack',\n",
       " 'Elligator',\n",
       " 'Elligator',\n",
       " 'ROZZETTA CRAFT',\n",
       " 'PIRASO',\n",
       " 'PROVOGUE',\n",
       " 'PIRASO',\n",
       " 'NuVew',\n",
       " 'GANSTA',\n",
       " 'iCopertina',\n",
       " 'GANSTA',\n",
       " 'VINCENT CHASE',\n",
       " 'LIZA ANGEL',\n",
       " 'Fastrack',\n",
       " 'ROZZETTA CRAFT',\n",
       " 'PIRASO',\n",
       " 'VINCENT CHASE',\n",
       " 'Silver Kartz',\n",
       " 'VINCENT CHASE',\n",
       " 'Fastrack',\n",
       " 'VINCENT CHASE',\n",
       " 'Fastrack',\n",
       " 'Rich Club',\n",
       " 'ROYAL SON',\n",
       " 'HRX by Hrithik Roshan',\n",
       " 'RED MONK',\n",
       " 'LIZA ANGEL',\n",
       " 'VINCENT CHASE',\n",
       " 'ROZZETTA CRAFT',\n",
       " 'Rich Club',\n",
       " 'AISLIN',\n",
       " 'Fastrack',\n",
       " 'Elligator',\n",
       " 'ROZZETTA CRAFT',\n",
       " 'Rich Club',\n",
       " 'Fastrack',\n",
       " 'PIRASO',\n",
       " 'SUNBEE',\n",
       " 'PIRASO',\n",
       " 'DEIXELS',\n",
       " 'Fastrack',\n",
       " 'Elligator',\n",
       " 'Elligator',\n",
       " 'ROZZETTA CRAFT',\n",
       " 'PIRASO',\n",
       " 'PROVOGUE',\n",
       " 'PIRASO',\n",
       " 'NuVew',\n",
       " 'GANSTA',\n",
       " 'iCopertina',\n",
       " 'GANSTA',\n",
       " 'VINCENT CHASE',\n",
       " 'LIZA ANGEL',\n",
       " 'Fastrack',\n",
       " 'ROZZETTA CRAFT',\n",
       " 'PIRASO',\n",
       " 'VINCENT CHASE',\n",
       " 'Silver Kartz',\n",
       " 'VINCENT CHASE',\n",
       " 'Fastrack',\n",
       " 'VINCENT CHASE',\n",
       " 'Fastrack',\n",
       " 'Rich Club',\n",
       " 'ROYAL SON',\n",
       " 'HRX by Hrithik Roshan',\n",
       " 'RED MONK',\n",
       " 'LIZA ANGEL',\n",
       " 'VINCENT CHASE',\n",
       " 'ROZZETTA CRAFT',\n",
       " 'Rich Club',\n",
       " 'AISLIN',\n",
       " 'Fastrack']"
      ]
     },
     "execution_count": 48,
     "metadata": {},
     "output_type": "execute_result"
    }
   ],
   "source": [
    "Brand"
   ]
  },
  {
   "cell_type": "code",
   "execution_count": 56,
   "id": "492531b3",
   "metadata": {},
   "outputs": [],
   "source": [
    "s = 0\n",
    "e =3\n",
    "for page in range(s,e):\n",
    "    pd = driver.find_elements(By.XPATH,'//a[@class=\"IRpwTa\"]')\n",
    "    for i in pd[0:100]:\n",
    "        Product_Description.append(i.text)\n",
    "\n",
    "next_button = driver.find_element(By.XPATH,'//a[@class=\"_1LKTO3\"]')\n",
    "next_button.click()\n",
    "time.sleep(3)"
   ]
  },
  {
   "cell_type": "code",
   "execution_count": 57,
   "id": "e71e85b5",
   "metadata": {},
   "outputs": [
    {
     "data": {
      "text/plain": [
       "['Polarized, Riding Glasses Sports, Wrap-around Sunglasse...',\n",
       " 'Night Vision, UV Protection Round Sunglasses (54)',\n",
       " 'UV Protection Retro Square Sunglasses (54)',\n",
       " 'Gradient, UV Protection Retro Square Sunglasses (56)',\n",
       " 'UV Protection Aviator Sunglasses (54)',\n",
       " 'UV Protection, Polarized, Mirrored Wayfarer Sunglasses ...',\n",
       " 'UV Protection Rectangular Sunglasses (52)',\n",
       " 'UV Protection Wayfarer Sunglasses (53)',\n",
       " 'Polarized, UV Protection, Riding Glasses Wayfarer Sungl...',\n",
       " 'UV Protection Wayfarer Sunglasses (Free Size)',\n",
       " 'UV Protection Cat-eye, Retro Square, Oval, Round Sungla...',\n",
       " 'UV Protection, Gradient Rectangular Sunglasses (Free Si...',\n",
       " 'UV Protection Wayfarer Sunglasses (32)',\n",
       " 'UV Protection Butterfly Sunglasses (60)',\n",
       " 'UV Protection Round Sunglasses (Free Size)',\n",
       " 'UV Protection, Gradient Wayfarer, Round Sunglasses (53)',\n",
       " 'UV Protection Aviator Sunglasses (57)',\n",
       " 'UV Protection, Riding Glasses Aviator Sunglasses (57)',\n",
       " 'UV Protection Wayfarer Sunglasses (Free Size)',\n",
       " 'UV Protection Wayfarer Sunglasses (53)',\n",
       " 'Polarized, UV Protection Round Sunglasses (51)',\n",
       " 'UV Protection, Night Vision, Riding Glasses Wayfarer Su...',\n",
       " 'UV Protection Retro Square Sunglasses (Free Size)',\n",
       " 'UV Protection Aviator Sunglasses (54)',\n",
       " 'by Lenskart Polarized, UV Protection Wayfarer Sunglasse...',\n",
       " 'UV Protection Wayfarer Sunglasses (Free Size)',\n",
       " 'Polarized Wayfarer Sunglasses (55)',\n",
       " 'by Lenskart Polarized, UV Protection Retro Square Sungl...',\n",
       " 'UV Protection Aviator Sunglasses (Free Size)',\n",
       " 'UV Protection Retro Square Sunglasses (54)',\n",
       " 'by Lenskart Polarized, UV Protection Wayfarer Sunglasse...',\n",
       " 'by Lenskart UV Protection Wayfarer Sunglasses (51)',\n",
       " 'Polarized, UV Protection Aviator Sunglasses (58)',\n",
       " 'Polarized Aviator Sunglasses (59)',\n",
       " 'Toughened Glass Lens, UV Protection, Riding Glasses, Ni...',\n",
       " 'UV Protection Rectangular Sunglasses (52)',\n",
       " 'UV Protection Round Sunglasses (50)',\n",
       " 'UV Protection, Gradient Round, Cat-eye Sunglasses (60)',\n",
       " 'UV Protection, Gradient Retro Square Sunglasses (Free S...',\n",
       " 'UV Protection Wayfarer Sunglasses (Free Size)',\n",
       " 'Polarized, Riding Glasses Sports, Wrap-around Sunglasse...',\n",
       " 'Night Vision, UV Protection Round Sunglasses (54)',\n",
       " 'UV Protection Retro Square Sunglasses (54)',\n",
       " 'Gradient, UV Protection Retro Square Sunglasses (56)',\n",
       " 'UV Protection Aviator Sunglasses (54)',\n",
       " 'UV Protection, Polarized, Mirrored Wayfarer Sunglasses ...',\n",
       " 'UV Protection Rectangular Sunglasses (52)',\n",
       " 'UV Protection Wayfarer Sunglasses (53)',\n",
       " 'Polarized, UV Protection, Riding Glasses Wayfarer Sungl...',\n",
       " 'UV Protection Wayfarer Sunglasses (Free Size)',\n",
       " 'UV Protection Cat-eye, Retro Square, Oval, Round Sungla...',\n",
       " 'UV Protection, Gradient Rectangular Sunglasses (Free Si...',\n",
       " 'UV Protection Wayfarer Sunglasses (32)',\n",
       " 'UV Protection Butterfly Sunglasses (60)',\n",
       " 'UV Protection Round Sunglasses (Free Size)',\n",
       " 'UV Protection, Gradient Wayfarer, Round Sunglasses (53)',\n",
       " 'UV Protection Aviator Sunglasses (57)',\n",
       " 'UV Protection, Riding Glasses Aviator Sunglasses (57)',\n",
       " 'UV Protection Wayfarer Sunglasses (Free Size)',\n",
       " 'UV Protection Wayfarer Sunglasses (53)',\n",
       " 'Polarized, UV Protection Round Sunglasses (51)',\n",
       " 'UV Protection, Night Vision, Riding Glasses Wayfarer Su...',\n",
       " 'UV Protection Retro Square Sunglasses (Free Size)',\n",
       " 'UV Protection Aviator Sunglasses (54)',\n",
       " 'by Lenskart Polarized, UV Protection Wayfarer Sunglasse...',\n",
       " 'UV Protection Wayfarer Sunglasses (Free Size)',\n",
       " 'Polarized Wayfarer Sunglasses (55)',\n",
       " 'by Lenskart Polarized, UV Protection Retro Square Sungl...',\n",
       " 'UV Protection Aviator Sunglasses (Free Size)',\n",
       " 'UV Protection Retro Square Sunglasses (54)',\n",
       " 'by Lenskart Polarized, UV Protection Wayfarer Sunglasse...',\n",
       " 'by Lenskart UV Protection Wayfarer Sunglasses (51)',\n",
       " 'Polarized, UV Protection Aviator Sunglasses (58)',\n",
       " 'Polarized Aviator Sunglasses (59)',\n",
       " 'Toughened Glass Lens, UV Protection, Riding Glasses, Ni...',\n",
       " 'UV Protection Rectangular Sunglasses (52)',\n",
       " 'UV Protection Round Sunglasses (50)',\n",
       " 'UV Protection, Gradient Round, Cat-eye Sunglasses (60)',\n",
       " 'UV Protection, Gradient Retro Square Sunglasses (Free S...',\n",
       " 'UV Protection Wayfarer Sunglasses (Free Size)',\n",
       " 'Polarized, Riding Glasses Sports, Wrap-around Sunglasse...',\n",
       " 'Night Vision, UV Protection Round Sunglasses (54)',\n",
       " 'UV Protection Retro Square Sunglasses (54)',\n",
       " 'Gradient, UV Protection Retro Square Sunglasses (56)',\n",
       " 'UV Protection Aviator Sunglasses (54)',\n",
       " 'UV Protection, Polarized, Mirrored Wayfarer Sunglasses ...',\n",
       " 'UV Protection Rectangular Sunglasses (52)',\n",
       " 'UV Protection Wayfarer Sunglasses (53)',\n",
       " 'Polarized, UV Protection, Riding Glasses Wayfarer Sungl...',\n",
       " 'UV Protection Wayfarer Sunglasses (Free Size)',\n",
       " 'UV Protection Cat-eye, Retro Square, Oval, Round Sungla...',\n",
       " 'UV Protection, Gradient Rectangular Sunglasses (Free Si...',\n",
       " 'UV Protection Wayfarer Sunglasses (32)',\n",
       " 'UV Protection Butterfly Sunglasses (60)',\n",
       " 'UV Protection Round Sunglasses (Free Size)',\n",
       " 'UV Protection, Gradient Wayfarer, Round Sunglasses (53)',\n",
       " 'UV Protection Aviator Sunglasses (57)',\n",
       " 'UV Protection, Riding Glasses Aviator Sunglasses (57)',\n",
       " 'UV Protection Wayfarer Sunglasses (Free Size)',\n",
       " 'UV Protection Wayfarer Sunglasses (53)',\n",
       " 'Polarized, UV Protection Round Sunglasses (51)',\n",
       " 'UV Protection, Night Vision, Riding Glasses Wayfarer Su...',\n",
       " 'UV Protection Retro Square Sunglasses (Free Size)',\n",
       " 'UV Protection Aviator Sunglasses (54)',\n",
       " 'by Lenskart Polarized, UV Protection Wayfarer Sunglasse...',\n",
       " 'UV Protection Wayfarer Sunglasses (Free Size)',\n",
       " 'Polarized Wayfarer Sunglasses (55)',\n",
       " 'by Lenskart Polarized, UV Protection Retro Square Sungl...',\n",
       " 'UV Protection Aviator Sunglasses (Free Size)',\n",
       " 'UV Protection Retro Square Sunglasses (54)',\n",
       " 'by Lenskart Polarized, UV Protection Wayfarer Sunglasse...',\n",
       " 'by Lenskart UV Protection Wayfarer Sunglasses (51)',\n",
       " 'Polarized, UV Protection Aviator Sunglasses (58)',\n",
       " 'Polarized Aviator Sunglasses (59)',\n",
       " 'Toughened Glass Lens, UV Protection, Riding Glasses, Ni...',\n",
       " 'UV Protection Rectangular Sunglasses (52)',\n",
       " 'UV Protection Round Sunglasses (50)',\n",
       " 'UV Protection, Gradient Round, Cat-eye Sunglasses (60)',\n",
       " 'UV Protection, Gradient Retro Square Sunglasses (Free S...',\n",
       " 'UV Protection Wayfarer Sunglasses (Free Size)']"
      ]
     },
     "execution_count": 57,
     "metadata": {},
     "output_type": "execute_result"
    }
   ],
   "source": [
    "Product_Description"
   ]
  },
  {
   "cell_type": "code",
   "execution_count": 52,
   "id": "3f7f05d3",
   "metadata": {},
   "outputs": [],
   "source": [
    "st = 0\n",
    "en = 3\n",
    "for page in range(st,en):\n",
    "    pr = driver.find_elements(By.XPATH,'//div[@class=\"_30jeq3\"]')\n",
    "    for i in pr[0:100]:\n",
    "        Price.append(i.text)\n",
    "        \n",
    "next_button = driver.find_element(By.XPATH,'//a[@class=\"_1LKTO3\"]')\n",
    "next_button.click()\n",
    "time.sleep(3)"
   ]
  },
  {
   "cell_type": "code",
   "execution_count": 53,
   "id": "caa67688",
   "metadata": {},
   "outputs": [
    {
     "data": {
      "text/plain": [
       "['₹149',\n",
       " '₹179',\n",
       " '₹149',\n",
       " '₹499',\n",
       " '₹215',\n",
       " '₹109',\n",
       " '₹649',\n",
       " '₹268',\n",
       " '₹149',\n",
       " '₹149',\n",
       " '₹179',\n",
       " '₹579',\n",
       " '₹499',\n",
       " '₹539',\n",
       " '₹220',\n",
       " '₹599',\n",
       " '₹342',\n",
       " '₹315',\n",
       " '₹149',\n",
       " '₹129',\n",
       " '₹211',\n",
       " '₹194',\n",
       " '₹589',\n",
       " '₹292',\n",
       " '₹580',\n",
       " '₹599',\n",
       " '₹597',\n",
       " '₹799',\n",
       " '₹199',\n",
       " '₹679',\n",
       " '₹190',\n",
       " '₹259',\n",
       " '₹244',\n",
       " '₹579',\n",
       " '₹274',\n",
       " '₹539',\n",
       " '₹629',\n",
       " '₹689',\n",
       " '₹609',\n",
       " '₹249',\n",
       " '₹149',\n",
       " '₹179',\n",
       " '₹149',\n",
       " '₹499',\n",
       " '₹215',\n",
       " '₹109',\n",
       " '₹649',\n",
       " '₹268',\n",
       " '₹149',\n",
       " '₹149',\n",
       " '₹179',\n",
       " '₹579',\n",
       " '₹499',\n",
       " '₹539',\n",
       " '₹220',\n",
       " '₹599',\n",
       " '₹342',\n",
       " '₹315',\n",
       " '₹149',\n",
       " '₹129',\n",
       " '₹211',\n",
       " '₹194',\n",
       " '₹589',\n",
       " '₹292',\n",
       " '₹580',\n",
       " '₹599',\n",
       " '₹597',\n",
       " '₹799',\n",
       " '₹199',\n",
       " '₹679',\n",
       " '₹190',\n",
       " '₹259',\n",
       " '₹244',\n",
       " '₹579',\n",
       " '₹274',\n",
       " '₹539',\n",
       " '₹629',\n",
       " '₹689',\n",
       " '₹609',\n",
       " '₹249',\n",
       " '₹149',\n",
       " '₹179',\n",
       " '₹149',\n",
       " '₹499',\n",
       " '₹215',\n",
       " '₹109',\n",
       " '₹649',\n",
       " '₹268',\n",
       " '₹149',\n",
       " '₹149',\n",
       " '₹179',\n",
       " '₹579',\n",
       " '₹499',\n",
       " '₹539',\n",
       " '₹220',\n",
       " '₹599',\n",
       " '₹342',\n",
       " '₹315',\n",
       " '₹149',\n",
       " '₹129',\n",
       " '₹211',\n",
       " '₹194',\n",
       " '₹589',\n",
       " '₹292',\n",
       " '₹580',\n",
       " '₹599',\n",
       " '₹597',\n",
       " '₹799',\n",
       " '₹199',\n",
       " '₹679',\n",
       " '₹190',\n",
       " '₹259',\n",
       " '₹244',\n",
       " '₹579',\n",
       " '₹274',\n",
       " '₹539',\n",
       " '₹629',\n",
       " '₹689',\n",
       " '₹609',\n",
       " '₹249']"
      ]
     },
     "execution_count": 53,
     "metadata": {},
     "output_type": "execute_result"
    }
   ],
   "source": [
    "Price"
   ]
  },
  {
   "cell_type": "code",
   "execution_count": 61,
   "id": "dbae43c4",
   "metadata": {},
   "outputs": [],
   "source": [
    "import pandas as pd"
   ]
  },
  {
   "cell_type": "code",
   "execution_count": 46,
   "id": "3ebee615",
   "metadata": {},
   "outputs": [
    {
     "ename": "ValueError",
     "evalue": "All arrays must be of the same length",
     "output_type": "error",
     "traceback": [
      "\u001b[1;31m---------------------------------------------------------------------------\u001b[0m",
      "\u001b[1;31mValueError\u001b[0m                                Traceback (most recent call last)",
      "\u001b[1;32m~\\AppData\\Local\\Temp\\ipykernel_292\\2741341546.py\u001b[0m in \u001b[0;36m<module>\u001b[1;34m\u001b[0m\n\u001b[1;32m----> 1\u001b[1;33m \u001b[0mSunglasses\u001b[0m \u001b[1;33m=\u001b[0m \u001b[0mpd\u001b[0m\u001b[1;33m.\u001b[0m\u001b[0mDataFrame\u001b[0m\u001b[1;33m(\u001b[0m\u001b[1;33m{\u001b[0m \u001b[1;34m'Brand'\u001b[0m\u001b[1;33m:\u001b[0m \u001b[0mBrand\u001b[0m\u001b[1;33m,\u001b[0m \u001b[1;34m'Description'\u001b[0m\u001b[1;33m:\u001b[0m \u001b[0mProduct_Description\u001b[0m\u001b[1;33m,\u001b[0m \u001b[1;34m'Price'\u001b[0m\u001b[1;33m:\u001b[0m \u001b[0mPrice\u001b[0m \u001b[1;33m}\u001b[0m\u001b[1;33m)\u001b[0m\u001b[1;33m\u001b[0m\u001b[1;33m\u001b[0m\u001b[0m\n\u001b[0m\u001b[0;32m      2\u001b[0m \u001b[0mSunglasses\u001b[0m\u001b[1;33m\u001b[0m\u001b[1;33m\u001b[0m\u001b[0m\n",
      "\u001b[1;32m~\\anaconda3new\\lib\\site-packages\\pandas\\core\\frame.py\u001b[0m in \u001b[0;36m__init__\u001b[1;34m(self, data, index, columns, dtype, copy)\u001b[0m\n\u001b[0;32m    634\u001b[0m         \u001b[1;32melif\u001b[0m \u001b[0misinstance\u001b[0m\u001b[1;33m(\u001b[0m\u001b[0mdata\u001b[0m\u001b[1;33m,\u001b[0m \u001b[0mdict\u001b[0m\u001b[1;33m)\u001b[0m\u001b[1;33m:\u001b[0m\u001b[1;33m\u001b[0m\u001b[1;33m\u001b[0m\u001b[0m\n\u001b[0;32m    635\u001b[0m             \u001b[1;31m# GH#38939 de facto copy defaults to False only in non-dict cases\u001b[0m\u001b[1;33m\u001b[0m\u001b[1;33m\u001b[0m\u001b[0m\n\u001b[1;32m--> 636\u001b[1;33m             \u001b[0mmgr\u001b[0m \u001b[1;33m=\u001b[0m \u001b[0mdict_to_mgr\u001b[0m\u001b[1;33m(\u001b[0m\u001b[0mdata\u001b[0m\u001b[1;33m,\u001b[0m \u001b[0mindex\u001b[0m\u001b[1;33m,\u001b[0m \u001b[0mcolumns\u001b[0m\u001b[1;33m,\u001b[0m \u001b[0mdtype\u001b[0m\u001b[1;33m=\u001b[0m\u001b[0mdtype\u001b[0m\u001b[1;33m,\u001b[0m \u001b[0mcopy\u001b[0m\u001b[1;33m=\u001b[0m\u001b[0mcopy\u001b[0m\u001b[1;33m,\u001b[0m \u001b[0mtyp\u001b[0m\u001b[1;33m=\u001b[0m\u001b[0mmanager\u001b[0m\u001b[1;33m)\u001b[0m\u001b[1;33m\u001b[0m\u001b[1;33m\u001b[0m\u001b[0m\n\u001b[0m\u001b[0;32m    637\u001b[0m         \u001b[1;32melif\u001b[0m \u001b[0misinstance\u001b[0m\u001b[1;33m(\u001b[0m\u001b[0mdata\u001b[0m\u001b[1;33m,\u001b[0m \u001b[0mma\u001b[0m\u001b[1;33m.\u001b[0m\u001b[0mMaskedArray\u001b[0m\u001b[1;33m)\u001b[0m\u001b[1;33m:\u001b[0m\u001b[1;33m\u001b[0m\u001b[1;33m\u001b[0m\u001b[0m\n\u001b[0;32m    638\u001b[0m             \u001b[1;32mimport\u001b[0m \u001b[0mnumpy\u001b[0m\u001b[1;33m.\u001b[0m\u001b[0mma\u001b[0m\u001b[1;33m.\u001b[0m\u001b[0mmrecords\u001b[0m \u001b[1;32mas\u001b[0m \u001b[0mmrecords\u001b[0m\u001b[1;33m\u001b[0m\u001b[1;33m\u001b[0m\u001b[0m\n",
      "\u001b[1;32m~\\anaconda3new\\lib\\site-packages\\pandas\\core\\internals\\construction.py\u001b[0m in \u001b[0;36mdict_to_mgr\u001b[1;34m(data, index, columns, dtype, typ, copy)\u001b[0m\n\u001b[0;32m    500\u001b[0m         \u001b[1;31m# TODO: can we get rid of the dt64tz special case above?\u001b[0m\u001b[1;33m\u001b[0m\u001b[1;33m\u001b[0m\u001b[0m\n\u001b[0;32m    501\u001b[0m \u001b[1;33m\u001b[0m\u001b[0m\n\u001b[1;32m--> 502\u001b[1;33m     \u001b[1;32mreturn\u001b[0m \u001b[0marrays_to_mgr\u001b[0m\u001b[1;33m(\u001b[0m\u001b[0marrays\u001b[0m\u001b[1;33m,\u001b[0m \u001b[0mcolumns\u001b[0m\u001b[1;33m,\u001b[0m \u001b[0mindex\u001b[0m\u001b[1;33m,\u001b[0m \u001b[0mdtype\u001b[0m\u001b[1;33m=\u001b[0m\u001b[0mdtype\u001b[0m\u001b[1;33m,\u001b[0m \u001b[0mtyp\u001b[0m\u001b[1;33m=\u001b[0m\u001b[0mtyp\u001b[0m\u001b[1;33m,\u001b[0m \u001b[0mconsolidate\u001b[0m\u001b[1;33m=\u001b[0m\u001b[0mcopy\u001b[0m\u001b[1;33m)\u001b[0m\u001b[1;33m\u001b[0m\u001b[1;33m\u001b[0m\u001b[0m\n\u001b[0m\u001b[0;32m    503\u001b[0m \u001b[1;33m\u001b[0m\u001b[0m\n\u001b[0;32m    504\u001b[0m \u001b[1;33m\u001b[0m\u001b[0m\n",
      "\u001b[1;32m~\\anaconda3new\\lib\\site-packages\\pandas\\core\\internals\\construction.py\u001b[0m in \u001b[0;36marrays_to_mgr\u001b[1;34m(arrays, columns, index, dtype, verify_integrity, typ, consolidate)\u001b[0m\n\u001b[0;32m    118\u001b[0m         \u001b[1;31m# figure out the index, if necessary\u001b[0m\u001b[1;33m\u001b[0m\u001b[1;33m\u001b[0m\u001b[0m\n\u001b[0;32m    119\u001b[0m         \u001b[1;32mif\u001b[0m \u001b[0mindex\u001b[0m \u001b[1;32mis\u001b[0m \u001b[1;32mNone\u001b[0m\u001b[1;33m:\u001b[0m\u001b[1;33m\u001b[0m\u001b[1;33m\u001b[0m\u001b[0m\n\u001b[1;32m--> 120\u001b[1;33m             \u001b[0mindex\u001b[0m \u001b[1;33m=\u001b[0m \u001b[0m_extract_index\u001b[0m\u001b[1;33m(\u001b[0m\u001b[0marrays\u001b[0m\u001b[1;33m)\u001b[0m\u001b[1;33m\u001b[0m\u001b[1;33m\u001b[0m\u001b[0m\n\u001b[0m\u001b[0;32m    121\u001b[0m         \u001b[1;32melse\u001b[0m\u001b[1;33m:\u001b[0m\u001b[1;33m\u001b[0m\u001b[1;33m\u001b[0m\u001b[0m\n\u001b[0;32m    122\u001b[0m             \u001b[0mindex\u001b[0m \u001b[1;33m=\u001b[0m \u001b[0mensure_index\u001b[0m\u001b[1;33m(\u001b[0m\u001b[0mindex\u001b[0m\u001b[1;33m)\u001b[0m\u001b[1;33m\u001b[0m\u001b[1;33m\u001b[0m\u001b[0m\n",
      "\u001b[1;32m~\\anaconda3new\\lib\\site-packages\\pandas\\core\\internals\\construction.py\u001b[0m in \u001b[0;36m_extract_index\u001b[1;34m(data)\u001b[0m\n\u001b[0;32m    672\u001b[0m             \u001b[0mlengths\u001b[0m \u001b[1;33m=\u001b[0m \u001b[0mlist\u001b[0m\u001b[1;33m(\u001b[0m\u001b[0mset\u001b[0m\u001b[1;33m(\u001b[0m\u001b[0mraw_lengths\u001b[0m\u001b[1;33m)\u001b[0m\u001b[1;33m)\u001b[0m\u001b[1;33m\u001b[0m\u001b[1;33m\u001b[0m\u001b[0m\n\u001b[0;32m    673\u001b[0m             \u001b[1;32mif\u001b[0m \u001b[0mlen\u001b[0m\u001b[1;33m(\u001b[0m\u001b[0mlengths\u001b[0m\u001b[1;33m)\u001b[0m \u001b[1;33m>\u001b[0m \u001b[1;36m1\u001b[0m\u001b[1;33m:\u001b[0m\u001b[1;33m\u001b[0m\u001b[1;33m\u001b[0m\u001b[0m\n\u001b[1;32m--> 674\u001b[1;33m                 \u001b[1;32mraise\u001b[0m \u001b[0mValueError\u001b[0m\u001b[1;33m(\u001b[0m\u001b[1;34m\"All arrays must be of the same length\"\u001b[0m\u001b[1;33m)\u001b[0m\u001b[1;33m\u001b[0m\u001b[1;33m\u001b[0m\u001b[0m\n\u001b[0m\u001b[0;32m    675\u001b[0m \u001b[1;33m\u001b[0m\u001b[0m\n\u001b[0;32m    676\u001b[0m             \u001b[1;32mif\u001b[0m \u001b[0mhave_dicts\u001b[0m\u001b[1;33m:\u001b[0m\u001b[1;33m\u001b[0m\u001b[1;33m\u001b[0m\u001b[0m\n",
      "\u001b[1;31mValueError\u001b[0m: All arrays must be of the same length"
     ]
    }
   ],
   "source": [
    "Sunglasses = pd.DataFrame({ 'Brand': Brand, 'Description': Product_Description, 'Price': Price })\n",
    "Sunglasses"
   ]
  },
  {
   "cell_type": "code",
   "execution_count": 49,
   "id": "ffd00bb5",
   "metadata": {},
   "outputs": [
    {
     "data": {
      "text/plain": [
       "'ROZZETTA CRAFT'"
      ]
     },
     "execution_count": 49,
     "metadata": {},
     "output_type": "execute_result"
    }
   ],
   "source": [
    "Brand[81]"
   ]
  },
  {
   "cell_type": "code",
   "execution_count": 50,
   "id": "d3cbc1d1",
   "metadata": {},
   "outputs": [
    {
     "data": {
      "text/plain": [
       "'VINCENT CHASE'"
      ]
     },
     "execution_count": 50,
     "metadata": {},
     "output_type": "execute_result"
    }
   ],
   "source": [
    "Brand[99]"
   ]
  },
  {
   "cell_type": "code",
   "execution_count": 54,
   "id": "8b0de466",
   "metadata": {},
   "outputs": [
    {
     "data": {
      "text/plain": [
       "'₹179'"
      ]
     },
     "execution_count": 54,
     "metadata": {},
     "output_type": "execute_result"
    }
   ],
   "source": [
    "Price[81]"
   ]
  },
  {
   "cell_type": "code",
   "execution_count": 58,
   "id": "fd856aad",
   "metadata": {},
   "outputs": [
    {
     "data": {
      "text/plain": [
       "'Night Vision, UV Protection Round Sunglasses (54)'"
      ]
     },
     "execution_count": 58,
     "metadata": {},
     "output_type": "execute_result"
    }
   ],
   "source": [
    "Product_Description[81]"
   ]
  },
  {
   "cell_type": "code",
   "execution_count": 62,
   "id": "c57790b6",
   "metadata": {},
   "outputs": [
    {
     "data": {
      "text/html": [
       "<div>\n",
       "<style scoped>\n",
       "    .dataframe tbody tr th:only-of-type {\n",
       "        vertical-align: middle;\n",
       "    }\n",
       "\n",
       "    .dataframe tbody tr th {\n",
       "        vertical-align: top;\n",
       "    }\n",
       "\n",
       "    .dataframe thead th {\n",
       "        text-align: right;\n",
       "    }\n",
       "</style>\n",
       "<table border=\"1\" class=\"dataframe\">\n",
       "  <thead>\n",
       "    <tr style=\"text-align: right;\">\n",
       "      <th></th>\n",
       "      <th>Brand</th>\n",
       "      <th>Description</th>\n",
       "      <th>Price</th>\n",
       "    </tr>\n",
       "  </thead>\n",
       "  <tbody>\n",
       "    <tr>\n",
       "      <th>0</th>\n",
       "      <td>Elligator</td>\n",
       "      <td>Polarized, Riding Glasses Sports, Wrap-around ...</td>\n",
       "      <td>₹149</td>\n",
       "    </tr>\n",
       "    <tr>\n",
       "      <th>1</th>\n",
       "      <td>ROZZETTA CRAFT</td>\n",
       "      <td>Night Vision, UV Protection Round Sunglasses (54)</td>\n",
       "      <td>₹179</td>\n",
       "    </tr>\n",
       "    <tr>\n",
       "      <th>2</th>\n",
       "      <td>Rich Club</td>\n",
       "      <td>UV Protection Retro Square Sunglasses (54)</td>\n",
       "      <td>₹149</td>\n",
       "    </tr>\n",
       "    <tr>\n",
       "      <th>3</th>\n",
       "      <td>Fastrack</td>\n",
       "      <td>Gradient, UV Protection Retro Square Sunglasse...</td>\n",
       "      <td>₹499</td>\n",
       "    </tr>\n",
       "    <tr>\n",
       "      <th>4</th>\n",
       "      <td>PIRASO</td>\n",
       "      <td>UV Protection Aviator Sunglasses (54)</td>\n",
       "      <td>₹215</td>\n",
       "    </tr>\n",
       "    <tr>\n",
       "      <th>...</th>\n",
       "      <td>...</td>\n",
       "      <td>...</td>\n",
       "      <td>...</td>\n",
       "    </tr>\n",
       "    <tr>\n",
       "      <th>115</th>\n",
       "      <td>VINCENT CHASE</td>\n",
       "      <td>UV Protection Rectangular Sunglasses (52)</td>\n",
       "      <td>₹539</td>\n",
       "    </tr>\n",
       "    <tr>\n",
       "      <th>116</th>\n",
       "      <td>ROZZETTA CRAFT</td>\n",
       "      <td>UV Protection Round Sunglasses (50)</td>\n",
       "      <td>₹629</td>\n",
       "    </tr>\n",
       "    <tr>\n",
       "      <th>117</th>\n",
       "      <td>Rich Club</td>\n",
       "      <td>UV Protection, Gradient Round, Cat-eye Sunglas...</td>\n",
       "      <td>₹689</td>\n",
       "    </tr>\n",
       "    <tr>\n",
       "      <th>118</th>\n",
       "      <td>AISLIN</td>\n",
       "      <td>UV Protection, Gradient Retro Square Sunglasse...</td>\n",
       "      <td>₹609</td>\n",
       "    </tr>\n",
       "    <tr>\n",
       "      <th>119</th>\n",
       "      <td>Fastrack</td>\n",
       "      <td>UV Protection Wayfarer Sunglasses (Free Size)</td>\n",
       "      <td>₹249</td>\n",
       "    </tr>\n",
       "  </tbody>\n",
       "</table>\n",
       "<p>120 rows × 3 columns</p>\n",
       "</div>"
      ],
      "text/plain": [
       "              Brand                                        Description Price\n",
       "0         Elligator  Polarized, Riding Glasses Sports, Wrap-around ...  ₹149\n",
       "1    ROZZETTA CRAFT  Night Vision, UV Protection Round Sunglasses (54)  ₹179\n",
       "2         Rich Club         UV Protection Retro Square Sunglasses (54)  ₹149\n",
       "3          Fastrack  Gradient, UV Protection Retro Square Sunglasse...  ₹499\n",
       "4            PIRASO              UV Protection Aviator Sunglasses (54)  ₹215\n",
       "..              ...                                                ...   ...\n",
       "115   VINCENT CHASE          UV Protection Rectangular Sunglasses (52)  ₹539\n",
       "116  ROZZETTA CRAFT                UV Protection Round Sunglasses (50)  ₹629\n",
       "117       Rich Club  UV Protection, Gradient Round, Cat-eye Sunglas...  ₹689\n",
       "118          AISLIN  UV Protection, Gradient Retro Square Sunglasse...  ₹609\n",
       "119        Fastrack      UV Protection Wayfarer Sunglasses (Free Size)  ₹249\n",
       "\n",
       "[120 rows x 3 columns]"
      ]
     },
     "execution_count": 62,
     "metadata": {},
     "output_type": "execute_result"
    }
   ],
   "source": [
    "Sunglasses1 = pd.DataFrame({ 'Brand': Brand, 'Description': Product_Description, 'Price': Price })\n",
    "Sunglasses1"
   ]
  },
  {
   "cell_type": "markdown",
   "id": "7d541054",
   "metadata": {},
   "source": [
    "Q5: Scrape 100 reviews data from flipkart.com for iphone11 phone. You have to go the link: \n",
    "https://www.flipkart.com/apple-iphone-11-black-64-gb/product-reviews/itm4e5041ba101fd?pid=MOBFWQ6BXGJCEYNY&lid=LSTMOBFWQ6BXGJCEYNYZXSHRJ&marketplace=FLIPKART\n",
    "\n",
    "As shown in the above page you have to scrape the tick marked attributes. These are:\n",
    "\n",
    "1. Rating\n",
    "\n",
    "2. Review summary\n",
    "\n",
    "3. Full review\n",
    "\n",
    "4. You have to scrape this data for first 100reviews."
   ]
  },
  {
   "cell_type": "code",
   "execution_count": 1,
   "id": "07853931",
   "metadata": {},
   "outputs": [],
   "source": [
    "import selenium \n",
    "import pandas as pd\n",
    "from selenium import webdriver\n",
    "import warnings\n",
    "warnings.filterwarnings('ignore')\n",
    "from selenium.webdriver.common.by import By\n",
    "import time"
   ]
  },
  {
   "cell_type": "code",
   "execution_count": 2,
   "id": "ab505261",
   "metadata": {},
   "outputs": [],
   "source": [
    "driver = webdriver.Chrome(r'C:\\Users\\Kushal Kulkarni\\Downloads\\chromedriver.exe')"
   ]
  },
  {
   "cell_type": "code",
   "execution_count": 5,
   "id": "c75bb1b6",
   "metadata": {},
   "outputs": [],
   "source": [
    "driver.get(' https://www.flipkart.com/apple-iphone-11-black-64-gb/product-reviews/itm4e5041ba101fd?pid=MOBFWQ6BXGJCEYNY&lid=LSTMOBFWQ6BXGJCEYNYZXSHRJ&marketplace=FLIPKART')"
   ]
  },
  {
   "cell_type": "code",
   "execution_count": 6,
   "id": "993ad00c",
   "metadata": {},
   "outputs": [],
   "source": [
    "Rating = []\n",
    "Review_summary = []\n",
    "Full_review = []\n",
    "\n",
    "start = 0\n",
    "end = 10\n",
    "\n",
    "for page in range(start,end):\n",
    "    r = driver.find_elements(By.XPATH,'//div[@class=\"_3LWZlK _1BLPMq\"]')\n",
    "    for i in r[0:100]:\n",
    "        Rating.append(i.text)\n",
    "        \n",
    "next_button = driver.find_element(By.XPATH,'//a[@class=\"_1LKTO3\"]')\n",
    "next_button.click()\n",
    "time.sleep(3)"
   ]
  },
  {
   "cell_type": "code",
   "execution_count": 7,
   "id": "d4e60d70",
   "metadata": {},
   "outputs": [
    {
     "data": {
      "text/plain": [
       "['5',\n",
       " '5',\n",
       " '5',\n",
       " '5',\n",
       " '4',\n",
       " '5',\n",
       " '4',\n",
       " '5',\n",
       " '5',\n",
       " '5',\n",
       " '5',\n",
       " '5',\n",
       " '5',\n",
       " '5',\n",
       " '4',\n",
       " '5',\n",
       " '4',\n",
       " '5',\n",
       " '5',\n",
       " '5',\n",
       " '5',\n",
       " '5',\n",
       " '5',\n",
       " '5',\n",
       " '4',\n",
       " '5',\n",
       " '4',\n",
       " '5',\n",
       " '5',\n",
       " '5',\n",
       " '5',\n",
       " '5',\n",
       " '5',\n",
       " '5',\n",
       " '4',\n",
       " '5',\n",
       " '4',\n",
       " '5',\n",
       " '5',\n",
       " '5',\n",
       " '5',\n",
       " '5',\n",
       " '5',\n",
       " '5',\n",
       " '4',\n",
       " '5',\n",
       " '4',\n",
       " '5',\n",
       " '5',\n",
       " '5',\n",
       " '5',\n",
       " '5',\n",
       " '5',\n",
       " '5',\n",
       " '4',\n",
       " '5',\n",
       " '4',\n",
       " '5',\n",
       " '5',\n",
       " '5',\n",
       " '5',\n",
       " '5',\n",
       " '5',\n",
       " '5',\n",
       " '4',\n",
       " '5',\n",
       " '4',\n",
       " '5',\n",
       " '5',\n",
       " '5',\n",
       " '5',\n",
       " '5',\n",
       " '5',\n",
       " '5',\n",
       " '4',\n",
       " '5',\n",
       " '4',\n",
       " '5',\n",
       " '5',\n",
       " '5',\n",
       " '5',\n",
       " '5',\n",
       " '5',\n",
       " '5',\n",
       " '4',\n",
       " '5',\n",
       " '4',\n",
       " '5',\n",
       " '5',\n",
       " '5',\n",
       " '5',\n",
       " '5',\n",
       " '5',\n",
       " '5',\n",
       " '4',\n",
       " '5',\n",
       " '4',\n",
       " '5',\n",
       " '5',\n",
       " '5']"
      ]
     },
     "execution_count": 7,
     "metadata": {},
     "output_type": "execute_result"
    }
   ],
   "source": [
    "Rating"
   ]
  },
  {
   "cell_type": "code",
   "execution_count": 13,
   "id": "7a23f766",
   "metadata": {},
   "outputs": [
    {
     "data": {
      "text/plain": [
       "'5'"
      ]
     },
     "execution_count": 13,
     "metadata": {},
     "output_type": "execute_result"
    }
   ],
   "source": [
    "Rating[99]"
   ]
  },
  {
   "cell_type": "code",
   "execution_count": 14,
   "id": "564b76d0",
   "metadata": {},
   "outputs": [],
   "source": [
    "s = 0\n",
    "e = 10\n",
    "\n",
    "for page in range(s,e):\n",
    "    rew = driver.find_elements(By.XPATH,'//p[@class=\"_2-N8zT\"]')\n",
    "    for i in rew[0:100]:\n",
    "        Review_summary.append(i.text)\n",
    "        \n",
    "for page in range(s,e):\n",
    "    full = driver.find_elements(By.XPATH,'//div[@class=\"t-ZTKy\"]')\n",
    "    for i in full[0:100]:\n",
    "        Full_review.append(i.text)\n",
    "        \n",
    "next_button = driver.find_element(By.XPATH,'//a[@class=\"_1LKTO3\"]')\n",
    "next_button.click()\n",
    "time.sleep(3)"
   ]
  },
  {
   "cell_type": "code",
   "execution_count": 15,
   "id": "6269acf8",
   "metadata": {},
   "outputs": [
    {
     "data": {
      "text/plain": [
       "'Great product'"
      ]
     },
     "execution_count": 15,
     "metadata": {},
     "output_type": "execute_result"
    }
   ],
   "source": [
    "Review_summary[99]"
   ]
  },
  {
   "cell_type": "code",
   "execution_count": 16,
   "id": "cc7fd24c",
   "metadata": {},
   "outputs": [
    {
     "data": {
      "text/plain": [
       "'Amazing Powerful and Durable Gadget.\\n\\nI’m am very happy with the camera picture quality, Amazing face id unlocked in dark room, Strong battery with perfect screen size as you can carry easily in pocket. This is my third iPhone.\\n\\nI shifted from android Samsung Note series to iPhone because of the strong build quality and peace of mind for next 3-4 years.\\n\\nDon’t think to much just go for it and I suggest you to go for minimum 128gb variant or more 256gb.\\n\\nI’ve attached my puppy pics and no fi...\\nREAD MORE'"
      ]
     },
     "execution_count": 16,
     "metadata": {},
     "output_type": "execute_result"
    }
   ],
   "source": [
    "Full_review[99]"
   ]
  },
  {
   "cell_type": "code",
   "execution_count": 18,
   "id": "60f02bfc",
   "metadata": {},
   "outputs": [
    {
     "data": {
      "text/html": [
       "<div>\n",
       "<style scoped>\n",
       "    .dataframe tbody tr th:only-of-type {\n",
       "        vertical-align: middle;\n",
       "    }\n",
       "\n",
       "    .dataframe tbody tr th {\n",
       "        vertical-align: top;\n",
       "    }\n",
       "\n",
       "    .dataframe thead th {\n",
       "        text-align: right;\n",
       "    }\n",
       "</style>\n",
       "<table border=\"1\" class=\"dataframe\">\n",
       "  <thead>\n",
       "    <tr style=\"text-align: right;\">\n",
       "      <th></th>\n",
       "      <th>Ratings</th>\n",
       "      <th>Review Summary</th>\n",
       "      <th>Full Reveiw</th>\n",
       "    </tr>\n",
       "  </thead>\n",
       "  <tbody>\n",
       "    <tr>\n",
       "      <th>0</th>\n",
       "      <td>5</td>\n",
       "      <td>Simply awesome</td>\n",
       "      <td>Really satisfied with the Product I received.....</td>\n",
       "    </tr>\n",
       "    <tr>\n",
       "      <th>1</th>\n",
       "      <td>5</td>\n",
       "      <td>Perfect product!</td>\n",
       "      <td>Amazing phone with great cameras and better ba...</td>\n",
       "    </tr>\n",
       "    <tr>\n",
       "      <th>2</th>\n",
       "      <td>5</td>\n",
       "      <td>Best in the market!</td>\n",
       "      <td>Great iPhone very snappy experience as apple k...</td>\n",
       "    </tr>\n",
       "    <tr>\n",
       "      <th>3</th>\n",
       "      <td>5</td>\n",
       "      <td>Highly recommended</td>\n",
       "      <td>It's my first time to use iOS phone and I am l...</td>\n",
       "    </tr>\n",
       "    <tr>\n",
       "      <th>4</th>\n",
       "      <td>4</td>\n",
       "      <td>Value-for-money</td>\n",
       "      <td>I'm Really happy with the product\\nDelivery wa...</td>\n",
       "    </tr>\n",
       "    <tr>\n",
       "      <th>...</th>\n",
       "      <td>...</td>\n",
       "      <td>...</td>\n",
       "      <td>...</td>\n",
       "    </tr>\n",
       "    <tr>\n",
       "      <th>95</th>\n",
       "      <td>5</td>\n",
       "      <td>Worth every penny</td>\n",
       "      <td>Previously I was using one plus 3t it was a gr...</td>\n",
       "    </tr>\n",
       "    <tr>\n",
       "      <th>96</th>\n",
       "      <td>4</td>\n",
       "      <td>Pretty good</td>\n",
       "      <td>I was using Iphone 6s and also Oneplus 6t. Bot...</td>\n",
       "    </tr>\n",
       "    <tr>\n",
       "      <th>97</th>\n",
       "      <td>5</td>\n",
       "      <td>Perfect product!</td>\n",
       "      <td>Value for money\\n5 star rating\\nExcellent came...</td>\n",
       "    </tr>\n",
       "    <tr>\n",
       "      <th>98</th>\n",
       "      <td>5</td>\n",
       "      <td>Highly recommended</td>\n",
       "      <td>What a camera .....just awesome ..you can feel...</td>\n",
       "    </tr>\n",
       "    <tr>\n",
       "      <th>99</th>\n",
       "      <td>5</td>\n",
       "      <td>Great product</td>\n",
       "      <td>Amazing Powerful and Durable Gadget.\\n\\nI’m am...</td>\n",
       "    </tr>\n",
       "  </tbody>\n",
       "</table>\n",
       "<p>100 rows × 3 columns</p>\n",
       "</div>"
      ],
      "text/plain": [
       "   Ratings       Review Summary  \\\n",
       "0        5       Simply awesome   \n",
       "1        5     Perfect product!   \n",
       "2        5  Best in the market!   \n",
       "3        5   Highly recommended   \n",
       "4        4      Value-for-money   \n",
       "..     ...                  ...   \n",
       "95       5    Worth every penny   \n",
       "96       4          Pretty good   \n",
       "97       5     Perfect product!   \n",
       "98       5   Highly recommended   \n",
       "99       5        Great product   \n",
       "\n",
       "                                          Full Reveiw  \n",
       "0   Really satisfied with the Product I received.....  \n",
       "1   Amazing phone with great cameras and better ba...  \n",
       "2   Great iPhone very snappy experience as apple k...  \n",
       "3   It's my first time to use iOS phone and I am l...  \n",
       "4   I'm Really happy with the product\\nDelivery wa...  \n",
       "..                                                ...  \n",
       "95  Previously I was using one plus 3t it was a gr...  \n",
       "96  I was using Iphone 6s and also Oneplus 6t. Bot...  \n",
       "97  Value for money\\n5 star rating\\nExcellent came...  \n",
       "98  What a camera .....just awesome ..you can feel...  \n",
       "99  Amazing Powerful and Durable Gadget.\\n\\nI’m am...  \n",
       "\n",
       "[100 rows x 3 columns]"
      ]
     },
     "execution_count": 18,
     "metadata": {},
     "output_type": "execute_result"
    }
   ],
   "source": [
    "Iphone_rating = pd.DataFrame({'Ratings': Rating, 'Review Summary': Review_summary,'Full Reveiw': Full_review})\n",
    "Iphone_rating"
   ]
  },
  {
   "cell_type": "markdown",
   "id": "878f19e1",
   "metadata": {},
   "source": [
    "Q6: Scrape data forfirst 100 sneakers you find when you visit flipkart.com and search for “sneakers” in the \n",
    "search field.\n",
    "You have to scrape 3 attributes of each sneaker:\n",
    "\n",
    "1. Brand\n",
    "\n",
    "2. ProductDescription\n",
    "\n",
    "3. Price\n",
    "\n",
    "As shown in the below image, you have to scrape the above attributes"
   ]
  },
  {
   "cell_type": "code",
   "execution_count": 21,
   "id": "011889be",
   "metadata": {},
   "outputs": [],
   "source": [
    "driver = webdriver.Chrome(r'C:\\Users\\Kushal Kulkarni\\Downloads\\chromedriver.exe')\n",
    "driver.get(' https://www.flipkart.com/')"
   ]
  },
  {
   "cell_type": "code",
   "execution_count": 23,
   "id": "7fa40b43",
   "metadata": {},
   "outputs": [],
   "source": [
    "Sneakers = driver.find_element(By.CLASS_NAME,\"_3704LK\")\n",
    "Sneakers.send_keys('Sneakers')"
   ]
  },
  {
   "cell_type": "code",
   "execution_count": 24,
   "id": "4ec60d27",
   "metadata": {},
   "outputs": [],
   "source": [
    "Search = driver.find_element(By.CLASS_NAME,'_34RNph')\n",
    "Search.click()"
   ]
  },
  {
   "cell_type": "code",
   "execution_count": 26,
   "id": "e8373b46",
   "metadata": {},
   "outputs": [],
   "source": [
    "Brand1 = []\n",
    "Description = []\n",
    "Price1 = []\n",
    "\n",
    "start = 0\n",
    "end = 3\n",
    "\n",
    "for page in range(start,end):\n",
    "    B = driver.find_elements(By.XPATH,'//div[@class=\"_2WkVRV\"]')\n",
    "    for i in B[0:100]:\n",
    "        Brand1.append(i.text)\n",
    "        \n",
    "for page in range(start,end):\n",
    "    D = driver.find_elements(By.XPATH,'//a[@class=\"IRpwTa\"]')\n",
    "    for i in D[0:100]:\n",
    "        Description.append(i.text)\n",
    "        \n",
    "for page in range(start,end):\n",
    "    P1 = driver.find_elements(By.XPATH,'//div[@class=\"_30jeq3\"]')\n",
    "    for i in P1[0:100]:\n",
    "        Price1.append(i.text)\n",
    "        \n",
    "next_button = driver.find_element(By.XPATH,'//a[@class=\"_1LKTO3\"]')\n",
    "next_button.click()\n",
    "time.sleep(3)"
   ]
  },
  {
   "cell_type": "code",
   "execution_count": 27,
   "id": "adfd752b",
   "metadata": {},
   "outputs": [
    {
     "data": {
      "text/plain": [
       "'PUMA'"
      ]
     },
     "execution_count": 27,
     "metadata": {},
     "output_type": "execute_result"
    }
   ],
   "source": [
    "Brand1[99]"
   ]
  },
  {
   "cell_type": "code",
   "execution_count": 29,
   "id": "dc0990fb",
   "metadata": {},
   "outputs": [
    {
     "data": {
      "text/plain": [
       "'Hustle V2 Sneakers For Men'"
      ]
     },
     "execution_count": 29,
     "metadata": {},
     "output_type": "execute_result"
    }
   ],
   "source": [
    "Description[99]"
   ]
  },
  {
   "cell_type": "code",
   "execution_count": 31,
   "id": "54957634",
   "metadata": {},
   "outputs": [
    {
     "data": {
      "text/plain": [
       "'₹1,499'"
      ]
     },
     "execution_count": 31,
     "metadata": {},
     "output_type": "execute_result"
    }
   ],
   "source": [
    "Price1[99]"
   ]
  },
  {
   "cell_type": "code",
   "execution_count": 32,
   "id": "6c8b7acb",
   "metadata": {},
   "outputs": [
    {
     "data": {
      "text/html": [
       "<div>\n",
       "<style scoped>\n",
       "    .dataframe tbody tr th:only-of-type {\n",
       "        vertical-align: middle;\n",
       "    }\n",
       "\n",
       "    .dataframe tbody tr th {\n",
       "        vertical-align: top;\n",
       "    }\n",
       "\n",
       "    .dataframe thead th {\n",
       "        text-align: right;\n",
       "    }\n",
       "</style>\n",
       "<table border=\"1\" class=\"dataframe\">\n",
       "  <thead>\n",
       "    <tr style=\"text-align: right;\">\n",
       "      <th></th>\n",
       "      <th>Brands</th>\n",
       "      <th>Description</th>\n",
       "      <th>Price</th>\n",
       "    </tr>\n",
       "  </thead>\n",
       "  <tbody>\n",
       "    <tr>\n",
       "      <th>0</th>\n",
       "      <td>SFR</td>\n",
       "      <td>2006 Trenddy Fashion Sporty Casuals Sneakers R...</td>\n",
       "      <td>₹299</td>\n",
       "    </tr>\n",
       "    <tr>\n",
       "      <th>1</th>\n",
       "      <td>SFR</td>\n",
       "      <td>Casual Shoes For Men Sneakers For Men</td>\n",
       "      <td>₹299</td>\n",
       "    </tr>\n",
       "    <tr>\n",
       "      <th>2</th>\n",
       "      <td>WHITE WALKERS</td>\n",
       "      <td>Stylish &amp; Trending Outdoor Walking Comfortable...</td>\n",
       "      <td>₹399</td>\n",
       "    </tr>\n",
       "    <tr>\n",
       "      <th>3</th>\n",
       "      <td>aadi</td>\n",
       "      <td>Lightweight,Comfort,Summer,Trendy,Walking,Outd...</td>\n",
       "      <td>₹279</td>\n",
       "    </tr>\n",
       "    <tr>\n",
       "      <th>4</th>\n",
       "      <td>RapidBox</td>\n",
       "      <td>Sneakers For Men</td>\n",
       "      <td>₹549</td>\n",
       "    </tr>\n",
       "    <tr>\n",
       "      <th>...</th>\n",
       "      <td>...</td>\n",
       "      <td>...</td>\n",
       "      <td>...</td>\n",
       "    </tr>\n",
       "    <tr>\n",
       "      <th>115</th>\n",
       "      <td>Dillions</td>\n",
       "      <td>Sneakers For Men</td>\n",
       "      <td>₹517</td>\n",
       "    </tr>\n",
       "    <tr>\n",
       "      <th>116</th>\n",
       "      <td>Zixer</td>\n",
       "      <td>Men’s Premium Style High Top Platform Fashion ...</td>\n",
       "      <td>₹632</td>\n",
       "    </tr>\n",
       "    <tr>\n",
       "      <th>117</th>\n",
       "      <td>MARKS &amp; SPENCER</td>\n",
       "      <td>Sneakers For Men</td>\n",
       "      <td>₹2,249</td>\n",
       "    </tr>\n",
       "    <tr>\n",
       "      <th>118</th>\n",
       "      <td>HRX by Hrithik Roshan</td>\n",
       "      <td>Men White Urban Street Athleisure Shoes Sneake...</td>\n",
       "      <td>₹1,409</td>\n",
       "    </tr>\n",
       "    <tr>\n",
       "      <th>119</th>\n",
       "      <td>Shozie</td>\n",
       "      <td>Stylish Walking Partywear Sneakers Casual Shoe...</td>\n",
       "      <td>₹445</td>\n",
       "    </tr>\n",
       "  </tbody>\n",
       "</table>\n",
       "<p>120 rows × 3 columns</p>\n",
       "</div>"
      ],
      "text/plain": [
       "                    Brands                                        Description  \\\n",
       "0                      SFR  2006 Trenddy Fashion Sporty Casuals Sneakers R...   \n",
       "1                      SFR              Casual Shoes For Men Sneakers For Men   \n",
       "2            WHITE WALKERS  Stylish & Trending Outdoor Walking Comfortable...   \n",
       "3                     aadi  Lightweight,Comfort,Summer,Trendy,Walking,Outd...   \n",
       "4                 RapidBox                                   Sneakers For Men   \n",
       "..                     ...                                                ...   \n",
       "115               Dillions                                   Sneakers For Men   \n",
       "116                  Zixer  Men’s Premium Style High Top Platform Fashion ...   \n",
       "117        MARKS & SPENCER                                   Sneakers For Men   \n",
       "118  HRX by Hrithik Roshan  Men White Urban Street Athleisure Shoes Sneake...   \n",
       "119                 Shozie  Stylish Walking Partywear Sneakers Casual Shoe...   \n",
       "\n",
       "      Price  \n",
       "0      ₹299  \n",
       "1      ₹299  \n",
       "2      ₹399  \n",
       "3      ₹279  \n",
       "4      ₹549  \n",
       "..      ...  \n",
       "115    ₹517  \n",
       "116    ₹632  \n",
       "117  ₹2,249  \n",
       "118  ₹1,409  \n",
       "119    ₹445  \n",
       "\n",
       "[120 rows x 3 columns]"
      ]
     },
     "execution_count": 32,
     "metadata": {},
     "output_type": "execute_result"
    }
   ],
   "source": [
    "SneakerS = pd.DataFrame({'Brands': Brand1, 'Description': Description, 'Price': Price1})\n",
    "SneakerS"
   ]
  },
  {
   "cell_type": "markdown",
   "id": "3419c40d",
   "metadata": {},
   "source": [
    "Q7: Go to webpage https://www.amazon.in/ Enter “Laptop” in the search field and then click the search icon. Then \n",
    "set CPU Type filter to “Intel Core i7” as shown in the below image:\n",
    "\n",
    "After setting the filters scrape first 10 laptops data. You have to scrape 3 attributes for each laptop:\n",
    "\n",
    "1. Title\n",
    "\n",
    "2. Ratings\n",
    "\n",
    "3. Price"
   ]
  },
  {
   "cell_type": "code",
   "execution_count": 1,
   "id": "802b0fb2",
   "metadata": {},
   "outputs": [],
   "source": [
    "import selenium \n",
    "import pandas as pd\n",
    "from selenium import webdriver\n",
    "import warnings\n",
    "warnings.filterwarnings('ignore')\n",
    "from selenium.webdriver.common.by import By\n",
    "import time"
   ]
  },
  {
   "cell_type": "code",
   "execution_count": 11,
   "id": "858343f2",
   "metadata": {},
   "outputs": [],
   "source": [
    "driver = webdriver.Chrome(r'C:\\Users\\Kushal Kulkarni\\Downloads\\chromedriver.exe')"
   ]
  },
  {
   "cell_type": "code",
   "execution_count": 12,
   "id": "485b76ff",
   "metadata": {},
   "outputs": [],
   "source": [
    "driver.get('https://www.amazon.in/')"
   ]
  },
  {
   "cell_type": "code",
   "execution_count": 13,
   "id": "ef5a79f2",
   "metadata": {},
   "outputs": [],
   "source": [
    "laptop = driver.find_element(By.XPATH,'/html/body/div[1]/header/div/div[1]/div[2]/div/form/div[2]/div[1]/input')\n",
    "laptop.send_keys('laptop')"
   ]
  },
  {
   "cell_type": "code",
   "execution_count": 14,
   "id": "333df0eb",
   "metadata": {},
   "outputs": [],
   "source": [
    "search = driver.find_element(By.XPATH,'/html/body/div[1]/header/div/div[1]/div[2]/div/form/div[3]/div/span/input')\n",
    "search.click()"
   ]
  },
  {
   "cell_type": "code",
   "execution_count": 15,
   "id": "28cae6b8",
   "metadata": {},
   "outputs": [],
   "source": [
    "cpu = driver.find_element(By.XPATH,'/html/body/div[1]/div[2]/div[1]/div[2]/div/div[3]/span/div[1]/div/div/div[6]/ul[6]/span[10]/li/span/a/span')\n",
    "cpu.click()"
   ]
  },
  {
   "cell_type": "code",
   "execution_count": 36,
   "id": "9d3478e3",
   "metadata": {},
   "outputs": [],
   "source": [
    "title = []\n",
    "rating = []\n",
    "price = []\n",
    "\n",
    "\n",
    "t = driver.find_elements(By.XPATH,'//div[@class=\"a-section a-spacing-none puis-padding-right-small s-title-instructions-style\"]')\n",
    "for i in t[0:10]:\n",
    "    title.append(i.text)\n",
    "\n",
    "r = driver.find_elements(By.XPATH,'//span[@class=\"a-icon-alt\"]')\n",
    "for i in r[0:10]:\n",
    "    rating.append(i.text)\n",
    "    \n",
    "p = driver.find_elements(By.XPATH,'//span[@class=\"a-price-whole\"]')\n",
    "for i in p[0:10]:\n",
    "    price.append(i.text)"
   ]
  },
  {
   "cell_type": "code",
   "execution_count": 24,
   "id": "d7c51d8e",
   "metadata": {},
   "outputs": [
    {
     "data": {
      "text/plain": [
       "['Lenovo ThinkPad E14 Intel Core i7 12th Gen 14\" FHD IPS Thin and Light Laptop (16GB RAM/1TB SSD/Windows 11 Home/MS Office H&S 2021/Backlit Keybaord/FPR/Black/1.59 kg), 21E3S05800',\n",
       " 'Acer Predator Helios Neo 16 Gaming Laptop 13th Gen Intel Core i7 Processor (16 GB/1 TB SSD/Windows 11 Home/NVIDIA® GeForce RTX™ 4050) PHN16-71, (16\") WUXGA Display',\n",
       " 'HP Victus Gaming Latest 12th Gen Intel Core i7 12650H 15.6 inch(39.6 cm) FHD Gaming Laptop (8GB RAM/512GB SSD/RTX 3050 4GB Graphics/144Hz/9ms Rs Time/Win 11/MSO/BL KB/B&O/Alexa/Xbox Pass),15-fa0073TX',\n",
       " 'HP Pavilion 14 12th Gen Intel Core i7 16GB SDRAM/1TB SSD 14 inch(35.6cm) FHD,IPS,Micro-Edge Display/Intel Iris Xe Graphics/B&O/Win 11/Alexa Built-in/Backlit KB/FPR/MSO 2021/Natural Silver,14-dv2015TU',\n",
       " 'HP Pavilion Plus, 12th Gen Intel Core i7 16GB RAM/1TB SSD 14 inch(35.6 cm)Creator Laptop with OLED,UWVA,Eye Safe Laptop/Intel Iris Xe Graphics/Backlit KB/B&O/FPR/Win 11/Alexa Built-in/MSO,14-eh0024TU',\n",
       " 'Lenovo IdeaPad Slim 5 Intel Core i7 12th Gen 15.6\" (39.62cm) FHD IPS Thin & Light Laptop (16GB/512GB SSD/Windows 11/Office 2021/Backlit/FPR/3months Game Pass/Storm Grey/1.85Kg), 82SF008WIN',\n",
       " 'ASUS Vivobook S15 OLED 2022, 15.6\" 39.62 cms FHD OLED, Intel Core Evo i7-12700H 12th Gen, Thin and Light Laptop (16GB/512GB SSD/Iris Xe Graphics/Windows 11/Office 2021/Black/1.8 kg) K3502ZA-L702WS',\n",
       " 'Lenovo ThinkBook 15 Intel 12th Gen Core i7 15.6\" (39.62cm) FHD 250 nits Antiglare Thin and Light Laptop (16GB/512GB SSD/Windows 11 Home/MS Office H&S 2021/Backlit/Mineral Grey/1.7 Kg), 21DJA04NIH',\n",
       " 'Samsung Galaxy Book2 (NP750) Intel 12th Gen core i7 39.6cm (15.6\") FHD Thin & Light Laptop (16 GB/512 GB/Windows 11/MS Office/Backlit Keyboard/Fingerprint Reader/Silver/1.55Kg), NP750XED-KC2IN',\n",
       " 'ASUS TUF Gaming F15 (2023) 90WHr Battery, Intel Core i7-12700H 12th Gen, 15.6\" FHD 144Hz, 8GB RTX 4060, Gaming Laptop (16GB/512GB SSD/Windows 11//1-Zone RGB/Gray/2.20 Kg), FX507ZV-LP094W']"
      ]
     },
     "execution_count": 24,
     "metadata": {},
     "output_type": "execute_result"
    }
   ],
   "source": [
    "title"
   ]
  },
  {
   "cell_type": "code",
   "execution_count": 37,
   "id": "5edc76eb",
   "metadata": {},
   "outputs": [
    {
     "data": {
      "text/plain": [
       "10"
      ]
     },
     "execution_count": 37,
     "metadata": {},
     "output_type": "execute_result"
    }
   ],
   "source": [
    "len(rating)"
   ]
  },
  {
   "cell_type": "code",
   "execution_count": 28,
   "id": "7c3ecb26",
   "metadata": {},
   "outputs": [
    {
     "data": {
      "text/plain": [
       "10"
      ]
     },
     "execution_count": 28,
     "metadata": {},
     "output_type": "execute_result"
    }
   ],
   "source": [
    "len(price)"
   ]
  },
  {
   "cell_type": "code",
   "execution_count": 38,
   "id": "f32a26c0",
   "metadata": {},
   "outputs": [
    {
     "data": {
      "text/html": [
       "<div>\n",
       "<style scoped>\n",
       "    .dataframe tbody tr th:only-of-type {\n",
       "        vertical-align: middle;\n",
       "    }\n",
       "\n",
       "    .dataframe tbody tr th {\n",
       "        vertical-align: top;\n",
       "    }\n",
       "\n",
       "    .dataframe thead th {\n",
       "        text-align: right;\n",
       "    }\n",
       "</style>\n",
       "<table border=\"1\" class=\"dataframe\">\n",
       "  <thead>\n",
       "    <tr style=\"text-align: right;\">\n",
       "      <th></th>\n",
       "      <th>Name</th>\n",
       "      <th>Rating</th>\n",
       "      <th>Price</th>\n",
       "    </tr>\n",
       "  </thead>\n",
       "  <tbody>\n",
       "    <tr>\n",
       "      <th>0</th>\n",
       "      <td>Lenovo ThinkPad E14 Intel Core i7 12th Gen 14\"...</td>\n",
       "      <td></td>\n",
       "      <td>98,990</td>\n",
       "    </tr>\n",
       "    <tr>\n",
       "      <th>1</th>\n",
       "      <td>Acer Predator Helios Neo 16 Gaming Laptop 13th...</td>\n",
       "      <td></td>\n",
       "      <td>1,29,990</td>\n",
       "    </tr>\n",
       "    <tr>\n",
       "      <th>2</th>\n",
       "      <td>HP Victus Gaming Latest 12th Gen Intel Core i7...</td>\n",
       "      <td></td>\n",
       "      <td>90,990</td>\n",
       "    </tr>\n",
       "    <tr>\n",
       "      <th>3</th>\n",
       "      <td>HP Pavilion 14 12th Gen Intel Core i7 16GB SDR...</td>\n",
       "      <td></td>\n",
       "      <td>84,999</td>\n",
       "    </tr>\n",
       "    <tr>\n",
       "      <th>4</th>\n",
       "      <td>HP Pavilion Plus, 12th Gen Intel Core i7 16GB ...</td>\n",
       "      <td></td>\n",
       "      <td>93,990</td>\n",
       "    </tr>\n",
       "    <tr>\n",
       "      <th>5</th>\n",
       "      <td>Lenovo IdeaPad Slim 5 Intel Core i7 12th Gen 1...</td>\n",
       "      <td></td>\n",
       "      <td>79,990</td>\n",
       "    </tr>\n",
       "    <tr>\n",
       "      <th>6</th>\n",
       "      <td>ASUS Vivobook S15 OLED 2022, 15.6\" 39.62 cms F...</td>\n",
       "      <td></td>\n",
       "      <td>84,990</td>\n",
       "    </tr>\n",
       "    <tr>\n",
       "      <th>7</th>\n",
       "      <td>Lenovo ThinkBook 15 Intel 12th Gen Core i7 15....</td>\n",
       "      <td></td>\n",
       "      <td>85,990</td>\n",
       "    </tr>\n",
       "    <tr>\n",
       "      <th>8</th>\n",
       "      <td>Samsung Galaxy Book2 (NP750) Intel 12th Gen co...</td>\n",
       "      <td></td>\n",
       "      <td>76,990</td>\n",
       "    </tr>\n",
       "    <tr>\n",
       "      <th>9</th>\n",
       "      <td>ASUS TUF Gaming F15 (2023) 90WHr Battery, Inte...</td>\n",
       "      <td></td>\n",
       "      <td>1,15,990</td>\n",
       "    </tr>\n",
       "  </tbody>\n",
       "</table>\n",
       "</div>"
      ],
      "text/plain": [
       "                                                Name Rating     Price\n",
       "0  Lenovo ThinkPad E14 Intel Core i7 12th Gen 14\"...           98,990\n",
       "1  Acer Predator Helios Neo 16 Gaming Laptop 13th...         1,29,990\n",
       "2  HP Victus Gaming Latest 12th Gen Intel Core i7...           90,990\n",
       "3  HP Pavilion 14 12th Gen Intel Core i7 16GB SDR...           84,999\n",
       "4  HP Pavilion Plus, 12th Gen Intel Core i7 16GB ...           93,990\n",
       "5  Lenovo IdeaPad Slim 5 Intel Core i7 12th Gen 1...           79,990\n",
       "6  ASUS Vivobook S15 OLED 2022, 15.6\" 39.62 cms F...           84,990\n",
       "7  Lenovo ThinkBook 15 Intel 12th Gen Core i7 15....           85,990\n",
       "8  Samsung Galaxy Book2 (NP750) Intel 12th Gen co...           76,990\n",
       "9  ASUS TUF Gaming F15 (2023) 90WHr Battery, Inte...         1,15,990"
      ]
     },
     "execution_count": 38,
     "metadata": {},
     "output_type": "execute_result"
    }
   ],
   "source": [
    "LAPTOP_Intel = pd.DataFrame({'Name': title, 'Rating': rating, 'Price':price})\n",
    "LAPTOP_Intel"
   ]
  },
  {
   "cell_type": "markdown",
   "id": "1f7e48dd",
   "metadata": {},
   "source": [
    "Unable to proceed with rating in Q7 request you to help in it"
   ]
  },
  {
   "cell_type": "markdown",
   "id": "77d2702b",
   "metadata": {},
   "source": [
    "Q8: Write a python program to scrape data for Top 1000 Quotes of All Time.\n",
    "The above task will be done in following steps:\n",
    "\n",
    "1. First get the webpage https://www.azquotes.com/\n",
    "\n",
    "2. Click on TopQuotes\n",
    "\n",
    "3. Than scrap a) Quote b) Author c) Type Of Quotes"
   ]
  },
  {
   "cell_type": "code",
   "execution_count": 22,
   "id": "e73f1323",
   "metadata": {},
   "outputs": [],
   "source": [
    "driver = webdriver.Chrome(r'C:\\Users\\Kushal Kulkarni\\Downloads\\chromedriver.exe')"
   ]
  },
  {
   "cell_type": "code",
   "execution_count": 23,
   "id": "6cc47e88",
   "metadata": {},
   "outputs": [],
   "source": [
    "driver.get('https://www.azquotes.com/')"
   ]
  },
  {
   "cell_type": "code",
   "execution_count": 24,
   "id": "c639656f",
   "metadata": {},
   "outputs": [],
   "source": [
    "tquote = driver.find_element(By.XPATH,'/html/body/div[1]/div[1]/div[1]/div/div[3]/ul/li[5]/a')"
   ]
  },
  {
   "cell_type": "code",
   "execution_count": 27,
   "id": "df88d7c3",
   "metadata": {},
   "outputs": [],
   "source": [
    "Quote = []\n",
    "Author = []\n",
    "Type = []\n",
    "\n",
    "start = 0\n",
    "end = 10\n",
    "\n",
    "for page in range(start,end):\n",
    "    q = driver.find_elements(By.XPATH,'//a[@class=\"title\"]')\n",
    "    for i in q[0:100]:\n",
    "        Quote.append(i.text)\n",
    "        \n",
    "for page in range(start,end):\n",
    "    a = driver.find_elements(By.XPATH,'//div[@class=\"author\"]')\n",
    "    for i in a [0:100]:\n",
    "        Author.append(i.text)\n",
    "        \n",
    "for page in range(start,end):\n",
    "    t = driver.find_elements(By.XPATH,'//div[@class=\"tags\"]')\n",
    "    for i in t[0:100]:\n",
    "        Type.append(i.text)\n",
    "        \n",
    "        \n",
    "next_button = driver.find_element(By.XPATH,'/html/body/div[1]/div[2]/div/div/div/div[1]/div/div[3]/li[12]/a')\n",
    "next_button.click()\n",
    "time.sleep(1)"
   ]
  },
  {
   "cell_type": "code",
   "execution_count": 28,
   "id": "f23da21c",
   "metadata": {},
   "outputs": [
    {
     "data": {
      "text/plain": [
       "'The essence of strategy is choosing what not to do.'"
      ]
     },
     "execution_count": 28,
     "metadata": {},
     "output_type": "execute_result"
    }
   ],
   "source": [
    "Quote[100]"
   ]
  },
  {
   "cell_type": "code",
   "execution_count": 29,
   "id": "46899d8d",
   "metadata": {},
   "outputs": [],
   "source": [
    "Top_Quotes = pd.DataFrame({'Quotes': Quote, 'Authors': Author, 'Quote Type': Type})"
   ]
  },
  {
   "cell_type": "code",
   "execution_count": 30,
   "id": "b2bd4485",
   "metadata": {},
   "outputs": [
    {
     "data": {
      "text/html": [
       "<div>\n",
       "<style scoped>\n",
       "    .dataframe tbody tr th:only-of-type {\n",
       "        vertical-align: middle;\n",
       "    }\n",
       "\n",
       "    .dataframe tbody tr th {\n",
       "        vertical-align: top;\n",
       "    }\n",
       "\n",
       "    .dataframe thead th {\n",
       "        text-align: right;\n",
       "    }\n",
       "</style>\n",
       "<table border=\"1\" class=\"dataframe\">\n",
       "  <thead>\n",
       "    <tr style=\"text-align: right;\">\n",
       "      <th></th>\n",
       "      <th>Quotes</th>\n",
       "      <th>Authors</th>\n",
       "      <th>Quote Type</th>\n",
       "    </tr>\n",
       "  </thead>\n",
       "  <tbody>\n",
       "    <tr>\n",
       "      <th>0</th>\n",
       "      <td>The essence of strategy is choosing what not t...</td>\n",
       "      <td>Michael Porter</td>\n",
       "      <td>Essence, Deep Thought, Transcendentalism</td>\n",
       "    </tr>\n",
       "    <tr>\n",
       "      <th>1</th>\n",
       "      <td>One cannot and must not try to erase the past ...</td>\n",
       "      <td>Golda Meir</td>\n",
       "      <td>Inspiration, Past, Trying</td>\n",
       "    </tr>\n",
       "    <tr>\n",
       "      <th>2</th>\n",
       "      <td>Patriotism means to stand by the country. It d...</td>\n",
       "      <td>Theodore Roosevelt</td>\n",
       "      <td>Country, Peace, War</td>\n",
       "    </tr>\n",
       "    <tr>\n",
       "      <th>3</th>\n",
       "      <td>Death is something inevitable. When a man has ...</td>\n",
       "      <td>Nelson Mandela</td>\n",
       "      <td>Inspirational, Motivational, Death</td>\n",
       "    </tr>\n",
       "    <tr>\n",
       "      <th>4</th>\n",
       "      <td>You have to love a nation that celebrates its ...</td>\n",
       "      <td>Erma Bombeck</td>\n",
       "      <td>4th Of July, Food, Patriotic</td>\n",
       "    </tr>\n",
       "    <tr>\n",
       "      <th>...</th>\n",
       "      <td>...</td>\n",
       "      <td>...</td>\n",
       "      <td>...</td>\n",
       "    </tr>\n",
       "    <tr>\n",
       "      <th>995</th>\n",
       "      <td>When the going gets weird, the weird turn pro.</td>\n",
       "      <td>Hunter S. Thompson</td>\n",
       "      <td>Music, Sports, Hunting</td>\n",
       "    </tr>\n",
       "    <tr>\n",
       "      <th>996</th>\n",
       "      <td>When a train goes through a tunnel and it gets...</td>\n",
       "      <td>Corrie Ten Boom</td>\n",
       "      <td>Trust, Encouraging, Uplifting</td>\n",
       "    </tr>\n",
       "    <tr>\n",
       "      <th>997</th>\n",
       "      <td>If you think you are too small to make a diffe...</td>\n",
       "      <td>Dalai Lama</td>\n",
       "      <td>Inspirational, Funny, Change</td>\n",
       "    </tr>\n",
       "    <tr>\n",
       "      <th>998</th>\n",
       "      <td>God doesn't require us to succeed, he only req...</td>\n",
       "      <td>Mother Teresa</td>\n",
       "      <td>Success, God, Mother</td>\n",
       "    </tr>\n",
       "    <tr>\n",
       "      <th>999</th>\n",
       "      <td>Change your thoughts and you change your world.</td>\n",
       "      <td>Norman Vincent Peale</td>\n",
       "      <td>Inspirational, Motivational, Change</td>\n",
       "    </tr>\n",
       "  </tbody>\n",
       "</table>\n",
       "<p>1000 rows × 3 columns</p>\n",
       "</div>"
      ],
      "text/plain": [
       "                                                Quotes               Authors  \\\n",
       "0    The essence of strategy is choosing what not t...        Michael Porter   \n",
       "1    One cannot and must not try to erase the past ...            Golda Meir   \n",
       "2    Patriotism means to stand by the country. It d...    Theodore Roosevelt   \n",
       "3    Death is something inevitable. When a man has ...        Nelson Mandela   \n",
       "4    You have to love a nation that celebrates its ...          Erma Bombeck   \n",
       "..                                                 ...                   ...   \n",
       "995     When the going gets weird, the weird turn pro.    Hunter S. Thompson   \n",
       "996  When a train goes through a tunnel and it gets...       Corrie Ten Boom   \n",
       "997  If you think you are too small to make a diffe...            Dalai Lama   \n",
       "998  God doesn't require us to succeed, he only req...         Mother Teresa   \n",
       "999    Change your thoughts and you change your world.  Norman Vincent Peale   \n",
       "\n",
       "                                   Quote Type  \n",
       "0    Essence, Deep Thought, Transcendentalism  \n",
       "1                   Inspiration, Past, Trying  \n",
       "2                         Country, Peace, War  \n",
       "3          Inspirational, Motivational, Death  \n",
       "4                4th Of July, Food, Patriotic  \n",
       "..                                        ...  \n",
       "995                    Music, Sports, Hunting  \n",
       "996             Trust, Encouraging, Uplifting  \n",
       "997              Inspirational, Funny, Change  \n",
       "998                      Success, God, Mother  \n",
       "999       Inspirational, Motivational, Change  \n",
       "\n",
       "[1000 rows x 3 columns]"
      ]
     },
     "execution_count": 30,
     "metadata": {},
     "output_type": "execute_result"
    }
   ],
   "source": [
    "Top_Quotes"
   ]
  },
  {
   "cell_type": "markdown",
   "id": "ae7e7822",
   "metadata": {},
   "source": [
    "Q9: Write a python program to display list of respected former Prime Ministers of India(i.e. Name, Born-Dead, \n",
    "Term of office, Remarks) from https://www.jagranjosh.com/.\n",
    "\n",
    "This task will be done in following steps:\n",
    "\n",
    "1. First get the webpagehttps://www.jagranjosh.com/\n",
    "\n",
    "2. Then You have to click on the GK option\n",
    "\n",
    "3. Then click on the List of all Prime Ministers of India\n",
    "\n",
    "4. Then scrap the mentioned data and make theDataFrame."
   ]
  },
  {
   "cell_type": "code",
   "execution_count": 20,
   "id": "a6655799",
   "metadata": {},
   "outputs": [],
   "source": [
    "driver = webdriver.Chrome(r'C:\\Users\\Kushal Kulkarni\\Downloads\\chromedriver.exe')"
   ]
  },
  {
   "cell_type": "code",
   "execution_count": 21,
   "id": "d500bd18",
   "metadata": {},
   "outputs": [],
   "source": [
    "driver.get('https://www.jagranjosh.com/')"
   ]
  },
  {
   "cell_type": "code",
   "execution_count": 22,
   "id": "ec7a3b0c",
   "metadata": {},
   "outputs": [],
   "source": [
    "gk = driver.find_element(By.XPATH,'/html/body/div[1]/div[1]/div/div[1]/div/div[5]/div/div[1]/header/div[3]/ul/li[3]/a')\n",
    "gk.click()"
   ]
  },
  {
   "cell_type": "code",
   "execution_count": 24,
   "id": "04ff9e58",
   "metadata": {},
   "outputs": [],
   "source": [
    "pm = driver.find_element(By.XPATH,'/html/body/div[1]/div/div/div[2]/div/div[14]/div/div/ul/li[2]/a')\n",
    "pm.click()"
   ]
  },
  {
   "cell_type": "code",
   "execution_count": 26,
   "id": "ae40a980",
   "metadata": {},
   "outputs": [],
   "source": [
    "Names = []\n",
    "Born_Dead = []\n",
    "TOF = []\n",
    "Remark = []\n",
    "\n",
    "name = driver.find_elements(By.XPATH,'//div[@class=\"table-box\"]/table/tbody/tr/td[2]/p')\n",
    "for i in name :\n",
    "    Names.append(i.text)"
   ]
  },
  {
   "cell_type": "code",
   "execution_count": 27,
   "id": "1dc2d046",
   "metadata": {},
   "outputs": [
    {
     "data": {
      "text/plain": [
       "['Jawahar Lal Nehru',\n",
       " 'Gulzarilal Nanda (Acting)',\n",
       " 'Lal Bahadur Shastri',\n",
       " 'Gulzari Lal Nanda  (Acting)',\n",
       " 'Indira Gandhi',\n",
       " 'Morarji Desai',\n",
       " 'Charan Singh',\n",
       " 'Indira Gandhi',\n",
       " 'Rajiv Gandhi',\n",
       " 'V. P. Singh',\n",
       " 'Chandra Shekhar',\n",
       " 'P. V. Narasimha Rao',\n",
       " 'Atal Bihari Vajpayee',\n",
       " 'H. D. Deve Gowda',\n",
       " 'Inder Kumar Gujral',\n",
       " 'Atal Bihari Vajpayee',\n",
       " 'Manmohan Singh',\n",
       " 'Narendra Modi',\n",
       " 'Narendra Modi']"
      ]
     },
     "execution_count": 27,
     "metadata": {},
     "output_type": "execute_result"
    }
   ],
   "source": [
    "Names"
   ]
  },
  {
   "cell_type": "code",
   "execution_count": 34,
   "id": "649755f7",
   "metadata": {},
   "outputs": [],
   "source": [
    "bd = driver.find_elements(By.XPATH,'//div[@class=\"table-box\"]/table/tbody/tr/td[3]/p' /html/body/div[1]/div[2]/div/div[2]/div/div[2]/div/div/div/div[4]/span/div[3]/table/tbody/tr[1]/th[3]/p/strong)\n",
    "for i in bd:\n",
    "    Born_Dead.append(i.text)"
   ]
  },
  {
   "cell_type": "code",
   "execution_count": 47,
   "id": "8a6be964",
   "metadata": {},
   "outputs": [],
   "source": [
    "Born_Dead1 = []\n",
    "bd1 = driver.find_elements(By.XPATH,'//div[@class=\"table-box\"]/table/tbody/tr/td[3]/p')\n",
    "for i in bd1:\n",
    "    Born_Dead1.append(i.text)"
   ]
  },
  {
   "cell_type": "code",
   "execution_count": 48,
   "id": "195ab639",
   "metadata": {},
   "outputs": [
    {
     "data": {
      "text/plain": [
       "['(1889–1964)',\n",
       " '(1898-1998)',\n",
       " '(1904–1966)',\n",
       " '(1898-1998)',\n",
       " '(1917–1984)',\n",
       " '(1896–1995)',\n",
       " '(1902–1987)',\n",
       " '(1917–1984)',\n",
       " '(1944–1991)',\n",
       " '(1931–2008)',\n",
       " '(1927–2007)',\n",
       " '(1921–2004)',\n",
       " '(1924- 2018)',\n",
       " '(born 1933)',\n",
       " '(1919–2012)',\n",
       " '(1924-2018)',\n",
       " '(born 1932)',\n",
       " '(born 1950)',\n",
       " '(born 1950)']"
      ]
     },
     "execution_count": 48,
     "metadata": {},
     "output_type": "execute_result"
    }
   ],
   "source": [
    "Born_Dead1"
   ]
  },
  {
   "cell_type": "code",
   "execution_count": 49,
   "id": "fca15dfb",
   "metadata": {},
   "outputs": [],
   "source": [
    "t = driver.find_elements(By.XPATH,'//div[@class=\"table-box\"]/table/tbody/tr/td[4]/p')\n",
    "for i in t:\n",
    "    TOF.append(i.text)\n",
    "    \n",
    "r = driver.find_elements(By.XPATH,'//div[@class=\"table-box\"]/table/tbody/tr/td[5]/p')\n",
    "for i in r:\n",
    "    Remark.append(i.text)"
   ]
  },
  {
   "cell_type": "code",
   "execution_count": 50,
   "id": "d54a1889",
   "metadata": {},
   "outputs": [
    {
     "data": {
      "text/plain": [
       "['15 August 1947 to 27 May 1964',\n",
       " '16 years, 286 days',\n",
       " '27 May 1964 to 9 June 1964,',\n",
       " '13 days',\n",
       " '9 June 1964 to 11 January 1966',\n",
       " '1 year, 216 days',\n",
       " '11 January 1966 to 24 January 1966',\n",
       " '13 days',\n",
       " '24 January 1966 to 24 March 1977',\n",
       " '11 years, 59 days',\n",
       " '24 March 1977 to  28 July 1979 ',\n",
       " '2 year, 126 days',\n",
       " '28 July 1979 to 14 January 1980',\n",
       " '170 days',\n",
       " '14 January 1980 to 31 October 1984',\n",
       " '4 years, 291 days',\n",
       " '31 October 1984 to 2 December 1989',\n",
       " '5 years, 32 days',\n",
       " '2 December 1989 to 10 November 1990',\n",
       " '343 days',\n",
       " '10 November 1990 to 21 June 1991',\n",
       " '223 days',\n",
       " '21 June 1991 to 16 May 1996',\n",
       " '4 years, 330 days',\n",
       " '16 May 1996 to 1 June 1996',\n",
       " '16 days',\n",
       " '1 June 1996 to 21 April 1997',\n",
       " '324 days',\n",
       " '21 April 1997 to 19 March 1998 ',\n",
       " '332 days',\n",
       " '19 March 1998 to 22 May 2004 ',\n",
       " '6 years, 64 days',\n",
       " '22 May 2004 to 26 May 2014   ',\n",
       " '10 years, 4 days',\n",
       " '26 May 2014 - 2019',\n",
       " '30 May 2019- Incumbent']"
      ]
     },
     "execution_count": 50,
     "metadata": {},
     "output_type": "execute_result"
    }
   ],
   "source": [
    "TOF"
   ]
  },
  {
   "cell_type": "code",
   "execution_count": 51,
   "id": "4926ac46",
   "metadata": {},
   "outputs": [
    {
     "data": {
      "text/plain": [
       "['The first prime minister of India and the longest-serving PM of India, the first to die in office.',\n",
       " 'First acting PM of India',\n",
       " \"He has given the slogan of 'Jai Jawan Jai Kisan' during the Indo-Pak war of 1965\",\n",
       " '-',\n",
       " 'First female Prime Minister of India',\n",
       " 'Oldest to become PM (81 years old) and first to resign from office',\n",
       " 'Only PM who did not face the Parliament',\n",
       " 'The first lady who served as PM for the second term',\n",
       " 'Youngest to become PM (40 years old)',\n",
       " 'First PM to step down after a vote of no confidence',\n",
       " 'He belongs to  Samajwadi Janata Party',\n",
       " 'First PM from South India',\n",
       " 'PM for shortest tenure',\n",
       " 'He belongs to  Janata Dal',\n",
       " '------',\n",
       " ' The first non-congress PM who completed a full term as PM',\n",
       " ' First Sikh PM',\n",
       " '4th Prime Minister of India who served two consecutive tenures',\n",
       " 'First non-congress PM with two consecutive tenures']"
      ]
     },
     "execution_count": 51,
     "metadata": {},
     "output_type": "execute_result"
    }
   ],
   "source": [
    "Remark"
   ]
  },
  {
   "cell_type": "code",
   "execution_count": 56,
   "id": "a1f805b1",
   "metadata": {},
   "outputs": [
    {
     "data": {
      "text/plain": [
       "(19, 19, 36, 19)"
      ]
     },
     "execution_count": 56,
     "metadata": {},
     "output_type": "execute_result"
    }
   ],
   "source": [
    "len(Names),len(Born_Dead1),len(TOF),len(Remark)"
   ]
  },
  {
   "cell_type": "code",
   "execution_count": 57,
   "id": "9977c0ac",
   "metadata": {},
   "outputs": [
    {
     "data": {
      "text/html": [
       "<div>\n",
       "<style scoped>\n",
       "    .dataframe tbody tr th:only-of-type {\n",
       "        vertical-align: middle;\n",
       "    }\n",
       "\n",
       "    .dataframe tbody tr th {\n",
       "        vertical-align: top;\n",
       "    }\n",
       "\n",
       "    .dataframe thead th {\n",
       "        text-align: right;\n",
       "    }\n",
       "</style>\n",
       "<table border=\"1\" class=\"dataframe\">\n",
       "  <thead>\n",
       "    <tr style=\"text-align: right;\">\n",
       "      <th></th>\n",
       "      <th>Names</th>\n",
       "      <th>DOB-DOD</th>\n",
       "      <th>Remarks</th>\n",
       "    </tr>\n",
       "  </thead>\n",
       "  <tbody>\n",
       "    <tr>\n",
       "      <th>0</th>\n",
       "      <td>Jawahar Lal Nehru</td>\n",
       "      <td>(1889–1964)</td>\n",
       "      <td>The first prime minister of India and the long...</td>\n",
       "    </tr>\n",
       "    <tr>\n",
       "      <th>1</th>\n",
       "      <td>Gulzarilal Nanda (Acting)</td>\n",
       "      <td>(1898-1998)</td>\n",
       "      <td>First acting PM of India</td>\n",
       "    </tr>\n",
       "    <tr>\n",
       "      <th>2</th>\n",
       "      <td>Lal Bahadur Shastri</td>\n",
       "      <td>(1904–1966)</td>\n",
       "      <td>He has given the slogan of 'Jai Jawan Jai Kisa...</td>\n",
       "    </tr>\n",
       "    <tr>\n",
       "      <th>3</th>\n",
       "      <td>Gulzari Lal Nanda  (Acting)</td>\n",
       "      <td>(1898-1998)</td>\n",
       "      <td>-</td>\n",
       "    </tr>\n",
       "    <tr>\n",
       "      <th>4</th>\n",
       "      <td>Indira Gandhi</td>\n",
       "      <td>(1917–1984)</td>\n",
       "      <td>First female Prime Minister of India</td>\n",
       "    </tr>\n",
       "    <tr>\n",
       "      <th>5</th>\n",
       "      <td>Morarji Desai</td>\n",
       "      <td>(1896–1995)</td>\n",
       "      <td>Oldest to become PM (81 years old) and first t...</td>\n",
       "    </tr>\n",
       "    <tr>\n",
       "      <th>6</th>\n",
       "      <td>Charan Singh</td>\n",
       "      <td>(1902–1987)</td>\n",
       "      <td>Only PM who did not face the Parliament</td>\n",
       "    </tr>\n",
       "    <tr>\n",
       "      <th>7</th>\n",
       "      <td>Indira Gandhi</td>\n",
       "      <td>(1917–1984)</td>\n",
       "      <td>The first lady who served as PM for the second...</td>\n",
       "    </tr>\n",
       "    <tr>\n",
       "      <th>8</th>\n",
       "      <td>Rajiv Gandhi</td>\n",
       "      <td>(1944–1991)</td>\n",
       "      <td>Youngest to become PM (40 years old)</td>\n",
       "    </tr>\n",
       "    <tr>\n",
       "      <th>9</th>\n",
       "      <td>V. P. Singh</td>\n",
       "      <td>(1931–2008)</td>\n",
       "      <td>First PM to step down after a vote of no confi...</td>\n",
       "    </tr>\n",
       "    <tr>\n",
       "      <th>10</th>\n",
       "      <td>Chandra Shekhar</td>\n",
       "      <td>(1927–2007)</td>\n",
       "      <td>He belongs to  Samajwadi Janata Party</td>\n",
       "    </tr>\n",
       "    <tr>\n",
       "      <th>11</th>\n",
       "      <td>P. V. Narasimha Rao</td>\n",
       "      <td>(1921–2004)</td>\n",
       "      <td>First PM from South India</td>\n",
       "    </tr>\n",
       "    <tr>\n",
       "      <th>12</th>\n",
       "      <td>Atal Bihari Vajpayee</td>\n",
       "      <td>(1924- 2018)</td>\n",
       "      <td>PM for shortest tenure</td>\n",
       "    </tr>\n",
       "    <tr>\n",
       "      <th>13</th>\n",
       "      <td>H. D. Deve Gowda</td>\n",
       "      <td>(born 1933)</td>\n",
       "      <td>He belongs to  Janata Dal</td>\n",
       "    </tr>\n",
       "    <tr>\n",
       "      <th>14</th>\n",
       "      <td>Inder Kumar Gujral</td>\n",
       "      <td>(1919–2012)</td>\n",
       "      <td>------</td>\n",
       "    </tr>\n",
       "    <tr>\n",
       "      <th>15</th>\n",
       "      <td>Atal Bihari Vajpayee</td>\n",
       "      <td>(1924-2018)</td>\n",
       "      <td>The first non-congress PM who completed a ful...</td>\n",
       "    </tr>\n",
       "    <tr>\n",
       "      <th>16</th>\n",
       "      <td>Manmohan Singh</td>\n",
       "      <td>(born 1932)</td>\n",
       "      <td>First Sikh PM</td>\n",
       "    </tr>\n",
       "    <tr>\n",
       "      <th>17</th>\n",
       "      <td>Narendra Modi</td>\n",
       "      <td>(born 1950)</td>\n",
       "      <td>4th Prime Minister of India who served two con...</td>\n",
       "    </tr>\n",
       "    <tr>\n",
       "      <th>18</th>\n",
       "      <td>Narendra Modi</td>\n",
       "      <td>(born 1950)</td>\n",
       "      <td>First non-congress PM with two consecutive ten...</td>\n",
       "    </tr>\n",
       "  </tbody>\n",
       "</table>\n",
       "</div>"
      ],
      "text/plain": [
       "                          Names       DOB-DOD  \\\n",
       "0             Jawahar Lal Nehru   (1889–1964)   \n",
       "1     Gulzarilal Nanda (Acting)   (1898-1998)   \n",
       "2           Lal Bahadur Shastri   (1904–1966)   \n",
       "3   Gulzari Lal Nanda  (Acting)   (1898-1998)   \n",
       "4                 Indira Gandhi   (1917–1984)   \n",
       "5                 Morarji Desai   (1896–1995)   \n",
       "6                  Charan Singh   (1902–1987)   \n",
       "7                 Indira Gandhi   (1917–1984)   \n",
       "8                  Rajiv Gandhi   (1944–1991)   \n",
       "9                   V. P. Singh   (1931–2008)   \n",
       "10              Chandra Shekhar   (1927–2007)   \n",
       "11          P. V. Narasimha Rao   (1921–2004)   \n",
       "12         Atal Bihari Vajpayee  (1924- 2018)   \n",
       "13             H. D. Deve Gowda   (born 1933)   \n",
       "14           Inder Kumar Gujral   (1919–2012)   \n",
       "15         Atal Bihari Vajpayee   (1924-2018)   \n",
       "16               Manmohan Singh   (born 1932)   \n",
       "17                Narendra Modi   (born 1950)   \n",
       "18                Narendra Modi   (born 1950)   \n",
       "\n",
       "                                              Remarks  \n",
       "0   The first prime minister of India and the long...  \n",
       "1                            First acting PM of India  \n",
       "2   He has given the slogan of 'Jai Jawan Jai Kisa...  \n",
       "3                                                   -  \n",
       "4                First female Prime Minister of India  \n",
       "5   Oldest to become PM (81 years old) and first t...  \n",
       "6             Only PM who did not face the Parliament  \n",
       "7   The first lady who served as PM for the second...  \n",
       "8                Youngest to become PM (40 years old)  \n",
       "9   First PM to step down after a vote of no confi...  \n",
       "10              He belongs to  Samajwadi Janata Party  \n",
       "11                          First PM from South India  \n",
       "12                             PM for shortest tenure  \n",
       "13                          He belongs to  Janata Dal  \n",
       "14                                             ------  \n",
       "15   The first non-congress PM who completed a ful...  \n",
       "16                                      First Sikh PM  \n",
       "17  4th Prime Minister of India who served two con...  \n",
       "18  First non-congress PM with two consecutive ten...  "
      ]
     },
     "execution_count": 57,
     "metadata": {},
     "output_type": "execute_result"
    }
   ],
   "source": [
    "PMs_of_India = pd.DataFrame({'Names': Names, 'DOB-DOD': Born_Dead1, 'Remarks': Remark})\n",
    "PMs_of_India"
   ]
  },
  {
   "cell_type": "markdown",
   "id": "2ad5a671",
   "metadata": {},
   "source": [
    "Q10) Write a python program to display list of 50 Most expensive cars in the world (i.e. \n",
    "Car name and Price) from https://www.motor1.com/\n",
    "This task will be done in following steps:\n",
    "\n",
    "1. First get the webpagehttps://www.motor1.com/\n",
    "\n",
    "2. Then You have to type in the search bar ’50 most expensive cars’\n",
    "\n",
    "3. Then click on 50 most expensive carsin the world.\n",
    "\n",
    "4. Then scrap the mentioned data and make the dataframe."
   ]
  },
  {
   "cell_type": "code",
   "execution_count": 51,
   "id": "3c37f82a",
   "metadata": {},
   "outputs": [],
   "source": [
    "driver = webdriver.Chrome(r'C:\\Users\\Kushal Kulkarni\\Downloads\\chromedriver.exe')"
   ]
  },
  {
   "cell_type": "code",
   "execution_count": 52,
   "id": "fa794285",
   "metadata": {},
   "outputs": [],
   "source": [
    "driver.get('https://www.motor1.com/')"
   ]
  },
  {
   "cell_type": "code",
   "execution_count": 54,
   "id": "501c6363",
   "metadata": {},
   "outputs": [],
   "source": [
    "exp_cars = driver.find_element(By.XPATH,'/html/body/div[3]/div[2]/div/div/div[3]/div/div/div/form/input')\n",
    "exp_cars.send_keys('50 most expensive cars')"
   ]
  },
  {
   "cell_type": "code",
   "execution_count": 56,
   "id": "9f99d2aa",
   "metadata": {},
   "outputs": [],
   "source": [
    "search = driver.find_element(By.XPATH,'/html/body/div[3]/div[2]/div/div/div[3]/div/div/div/form/button[1]')\n",
    "search.click()"
   ]
  },
  {
   "cell_type": "code",
   "execution_count": 58,
   "id": "e481dcb7",
   "metadata": {},
   "outputs": [],
   "source": [
    "cars = driver.find_element(By.XPATH,'/html/body/div[3]/div[9]/div/div[1]/div/div/div[2]/div/div[1]/h3/a')\n",
    "cars.click()"
   ]
  },
  {
   "cell_type": "code",
   "execution_count": 66,
   "id": "91a03f4d",
   "metadata": {},
   "outputs": [],
   "source": [
    "car_name = []\n",
    "Price = []\n",
    "about = []\n",
    "\n",
    "car = driver.find_elements(By.XPATH,'/html/body/div[3]/div[7]/div[2]/div[1]/div[2]/div[1]/h3')\n",
    "for i in car:\n",
    "    car_name.append(i.text)\n",
    "    \n",
    "price = driver.find_elements(By.XPATH,'/html/body/div[3]/div[7]/div[2]/div[1]/div[2]/div[1]/p/strong')\n",
    "for i in price:\n",
    "    Price.append(i.text)\n",
    "    \n",
    "About = driver.find_elements(By.XPATH,'/html/body/div[3]/div[7]/div[2]/div[1]/div[2]/div[1]/p')\n",
    "for i in About:\n",
    "    about.append(i.text)"
   ]
  },
  {
   "cell_type": "code",
   "execution_count": 64,
   "id": "7923e1f9",
   "metadata": {},
   "outputs": [
    {
     "data": {
      "text/plain": [
       "['De Tomaso P72',\n",
       " 'Ferrari LaFerrari',\n",
       " 'Pagani Huayra',\n",
       " 'McLaren Elva',\n",
       " 'Czinger 21C',\n",
       " 'Ferrari Monza',\n",
       " 'Gordon Murray T.33',\n",
       " 'Koenigsegg Gemera',\n",
       " 'Zenvo TSR-S',\n",
       " 'Hennessey Venom F5',\n",
       " 'Bentley Bacalar',\n",
       " 'Hispano Suiza Carmen Boulogne',\n",
       " 'Bentley Mulliner Batur',\n",
       " 'Deus Vayanne',\n",
       " 'SSC Tuatara',\n",
       " 'Lotus Evija',\n",
       " 'Aston Martin Vulcan',\n",
       " 'Delage D12',\n",
       " 'McLaren Speedtail',\n",
       " 'Rimac Nevera',\n",
       " 'Pagani Utopia',\n",
       " 'Pininfarina Battista',\n",
       " 'Ferrari FXX K Evo',\n",
       " 'Gordon Murray T.50',\n",
       " 'Lamborghini Countach',\n",
       " 'Mercedes-AMG Project One',\n",
       " 'Aston Martin Victor',\n",
       " 'Hennessey Venom F5 Roadster',\n",
       " 'Koenigsegg Jesko',\n",
       " 'Aston Martin Valkyrie',\n",
       " 'W Motors Lykan Hypersport',\n",
       " 'McLaren Solus',\n",
       " 'Pagani Huayra Roadster BC',\n",
       " 'Bugatti Chiron Pur Sport',\n",
       " 'Lamborghini Sian',\n",
       " 'Koenigsegg CC850',\n",
       " 'Bugatti Chiron Super Sport 300+',\n",
       " 'Lamborghini Veneno',\n",
       " 'Bugatti Bolide',\n",
       " 'Bugatti Mistral',\n",
       " 'Pagani Huayra Imola',\n",
       " 'Bugatti Divo',\n",
       " 'SP Automotive Chaos',\n",
       " 'Pagani Codalunga',\n",
       " 'Mercedes-Maybach Exelero',\n",
       " 'Bugatti Centodieci',\n",
       " 'Bugatti Chiron Profilée',\n",
       " 'Rolls-Royce Sweptail',\n",
       " 'Bugatti La Voiture Noire',\n",
       " 'Rolls-Royce Boat Tail*',\n",
       " 'Most Expensive Cars In The World']"
      ]
     },
     "execution_count": 64,
     "metadata": {},
     "output_type": "execute_result"
    }
   ],
   "source": [
    "car_name"
   ]
  },
  {
   "cell_type": "code",
   "execution_count": 67,
   "id": "07d0448e",
   "metadata": {},
   "outputs": [
    {
     "data": {
      "text/plain": [
       "['Price: $1.3 Million',\n",
       " 'Price: $1.4 Million',\n",
       " 'Price: $1.4 Million',\n",
       " '',\n",
       " 'Price: $1.7 Million',\n",
       " 'Price: $1.7 Million',\n",
       " 'Price: $1.7 Million',\n",
       " 'Price: $1.7 Million',\n",
       " 'Price: $1.7 Million',\n",
       " 'Price: $1.7 Million',\n",
       " 'Price: $1.8 Million',\n",
       " 'Price: $1.9 Million',\n",
       " 'Price: $1.9 Million',\n",
       " 'Price: $2.0 Million',\n",
       " 'Price: $2.0 Million',\n",
       " 'Price: $2.0 Million*',\n",
       " 'Price: $2.1 Million',\n",
       " 'Price: $2.3 Million',\n",
       " 'Price: $2.3 Million',\n",
       " 'Price: $2.3 Million',\n",
       " 'Price: $2.4 Million',\n",
       " 'Price: $2.5 Million',\n",
       " 'Price: $2.5 Million',\n",
       " 'Price: $2.6 Million',\n",
       " 'Price: $2.6 Million',\n",
       " 'Price: $2.6 Million',\n",
       " 'Price: $2.7 Million',\n",
       " 'Price: $3.0 Million',\n",
       " '$3.0 Million',\n",
       " 'Price: $3.0 Million',\n",
       " 'Price: $3.2 Million',\n",
       " 'Price: $3.4 Million',\n",
       " '$3.5 Million',\n",
       " 'Price: $3.5 Million',\n",
       " 'Price: $3.6 Million',\n",
       " 'Price: $3.6 million',\n",
       " 'Price: $3.7 Million',\n",
       " 'Price: $3.9 Million',\n",
       " 'Price: $4.5 Million',\n",
       " 'Price: $4.7 Million',\n",
       " 'Price: $5.0 Million',\n",
       " 'Price: $5.4 Million',\n",
       " 'Price: $5.8 Million',\n",
       " 'Price: $6.4 Million',\n",
       " 'Price: $7.4 Million',\n",
       " 'Price: $8.0 Million',\n",
       " 'Price: $9.0 Million',\n",
       " 'Price: $10.8 Million',\n",
       " 'Price: $12.8 Million',\n",
       " 'Price: $13.4 Million',\n",
       " 'Price: $28.0 Million (est.)']"
      ]
     },
     "execution_count": 67,
     "metadata": {},
     "output_type": "execute_result"
    }
   ],
   "source": [
    "Price"
   ]
  },
  {
   "cell_type": "code",
   "execution_count": 68,
   "id": "219d4473",
   "metadata": {},
   "outputs": [
    {
     "data": {
      "text/plain": [
       "['When it comes to high-end hypercars and super-fast supercars, a few companies should come to mind first: Bugatti, Ferrari, Koenigsegg, Rimac, and Pagani, among others. These manufacturers have cemented themselves as the top dogs in the supercar and hypercar space, extending to their wealthiest clientele the fastest, rarest, prettiest – and in this case – most expensive cars on the planet.',\n",
       " \"But in order to find out which of these unattainable-to-most vehicles is the priciest, we've scoured the invoice sheets and uncovered 50 cars all worth $1 million or more. The group includes hybrid Ferrari convertibles, an American speed king, a few electric Hypercars, and two a one-of-a-kind Rolls-Royce cars built for royalty.\",\n",
       " 'We should note, though: The prices listed here are the price of the vehicles when new. So we’re not counting auction cars like the Ferrari 250 GTO, or overpriced secondhand sales. But don’t worry, there’s still hundreds of millions worth of cars here to whet your appetite.',\n",
       " 'Price: $1.3 Million',\n",
       " 'The De Tomaso P72 is basically the definition of beautiful. The shapely supercar debuted at the 2019 Goodwood Festival Of Speed with a supercharged Ford V8 boasting 700 horsepower. The P72 marked the return of the DeTomaso brand after nearly 30 years on hiatus, and if you want one, it will cost you at least $1.3 million.',\n",
       " 'Price: $1.4 Million',\n",
       " 'At $1.4 million new, the Ferrari LaFerrari is actually one of the most affordable supercars on this list. It’s a bargain compared to the most expensive vehicle here. Debuting in 2013 with 950 hybrid horses (708 kilowatts) and a top speed of around 220 miles per hour (354 kilometers per hour), this is still Ferrari’s fastest and most powerful production model to date. The company built just 499 examples of the coupe between 2013 and 2016.',\n",
       " 'Price: $1.4 Million',\n",
       " 'Inarguably one of the prettiest cars on this list, the Pagani Huayra cost a cool $1.4 million when new. Like the LaFerrari, Pagani built the Huayra in extremely limited numbers. The company hand-constructed just 100 units of the coupe between 2012 and 2018, with another 20 versions of the BC model (which makes our list further down) between 2017 and 2019. Powering each and every example was a Mercedes-AMG V12 capable of 720 horsepower (537 kilowatts).',\n",
       " 'Price: $1.7 Million',\n",
       " 'The McLaren Elva is one of the latest additions to the British supercar maker’s storied legacy. Even without a proper windshield (though, no option) or roof to rely on, the Elva produces 804 horsepower and 590 pound-feet of torque from its twin-turbocharged 4.0-liter V8. Originally McLaren announced just 399 units, but later the company dropped that to an even more scarce 249 examples. Either way, most of you will never get your hands on one – the Elva costs $1.7 million.',\n",
       " 'Price: $1.7 Million',\n",
       " 'You might not know the name Czinger yet, but this California-based boutique automaker is responsible for the $1.7 million 21C supercar. With 1,250 horsepower on tap thanks to a 2.9-liter twin-turbocharged V8, the 21C can rocket to 60 miles per hour in 1.9 seconds and a top speed of around 281 miles per hour.',\n",
       " 'Price: $1.7 Million',\n",
       " 'Much like the roof-less McLaren Elva, the Ferrari Monza SP1 and SP2 are all about al fresco motoring. As the name implies, the SP1 is the single-seater option while the SP2 has just enough room for you to bring along a friend. Both cars come powered by the same naturally aspirated 6.5-liter V12 engine capable of 809 horsepower and 530 pound-feet. Unfortunately for US buyers, neither of these models are street legal in the States. But f you have the funds to afford the car’s $1.75 million price tag, getting onto a track probably won’t be an issue anyway.',\n",
       " 'Price: $1.7 Million',\n",
       " \"The second and slightly more affordable supercar in the new Gordon Murray lineup is the T.33. With 607 horsepower courtesy of a naturally aspirated 3.9-liter V12, the T.33 revs to a ridiculous 10,500 RPM. With a price tag of around $1.7 million at current conversion rates, Gordon Murray automotive promises to sell this car globally, in both right- and left-hand-drive configurations. Too bad it's already sold out.\",\n",
       " 'Price: $1.7 Million',\n",
       " 'One of two Koenigsegg models on this list, the Gemera is actually the Swedish supercar maker’s first four-seater. But that doesn’t mean it’s some family car. With a twin-turbocharged 2.0-liter engine under the hood and three electric motors, the Gemera has 1,700 horsepower and will hit 60 in just 1.9 seconds. The company only plans to build 300 of them, each one costing at least $1.7 million.',\n",
       " 'Price: $1.7 Million',\n",
       " 'Hailing from Denmark, the Zenvo TSR-S debuted in 2018 at the Geneva Motor Show as the most extreme option in the supercar startup’s repertoire. Boasting a twin-charged 5.8-liter V8 engine, the TSR-S produces 1,177 horsepower and will hit 62 miles per hour in just 2.8 seconds. Expect to pay at least $1.7 million to get your hands on this powerful and limited supercar.',\n",
       " 'Price: $1.8 Million',\n",
       " 'The Hennessey Venom GT was a record-breaker, topping out at 265.7 miles per hour in a world record run. But the new F5 plans to beat its predecessor with an estimated top speed of 311 mph, and with that comes a higher price, too. The Venom F5 starts at $1.8 million, according to the company, which makes it just a bit pricier than its $1.2-million predecessor.',\n",
       " 'Price: $1.9 Million',\n",
       " 'With just 12 total units produced, the Bentley Bacalar makes some of the \"limited\" cars on this list look plentiful by comparison. Although the car’s opulent design may be the first thing to grab your attention, the Bacalar is no slouch in terms of performance either. With Bentley’s signature turbocharged 6.0-liter W12 turbocharged engine, this car delivers 650 horsepower and 664 pound-feet. If you have a spare $1.9 million lying around and are considering buying one, you’re already too late – Bentley says that every example is now in customer hands.',\n",
       " 'Price: $1.9 Million',\n",
       " \"To call the Hispano Suiza Carmen Boulogne beautiful would be... a stretch. But this interesting-looking supercar made its US debut at this year's Amelia Island Concours d'Elegance boasting a 1,114-horsepower electric powertrain and a 0-60 time of 2.6 seconds. The Boulogne version pictured here – the lighter and more powerful of the two – costs close to $1.9 million.\",\n",
       " 'Price: $2.0 Million',\n",
       " \"The electric onslaught is coming. Bentley says it will be a fully electric automaker by 2030. But before the luxury brand transitions to battery power fully, the Mulliner Batur helps send the iconic W12 engine off in style. With 710 horsepower from that twin-turbocharged engine, the Batur is the most powerful Bentley ever. And since it's limited to just 18 examples globally, the Batur costs a whopping $2.0 million.\",\n",
       " 'Price: $2.0 Million',\n",
       " 'The Deus Vayanne may not be a household name (yet), but the all-electric hypercar debuted earlier this year with 2,200 horsepower, a 0-60 time of just under 2.0 seconds, and an estimated top speed of 248 miles per hour. Deus plans to build 99 examples of the Vayanne, with the first few examples scheduled to go on sale in 2025.',\n",
       " 'Price: $2.0 Million*',\n",
       " 'Although initially cloaked in controversy, SSC did manage to hit 282.9 miles per hour with its Tuatara hypercar, breaking a world record. But not only is the Tuatara one of the fastest vehicles on the planet, it’s also one of the priciest. The cost for all that speed is estimated to be around $2.0 million for the base Tuatara, limited to just 100 units worldwide.',\n",
       " 'Price: $2.1 Million',\n",
       " 'With a new Emira sports car and an Eletre electric SUV, Lotus is on the brink of a comeback. The automaker plans to roll out a number of new products within the next few years, with part of that strategy including the range-topping Evija. This supercar comes in at a cool $2.1 million and produces nearly 2,000 horsepower via four electric motors. Lotus plans to build just 130 road-going examples of the Evija.',\n",
       " 'Price: $2.3 Million',\n",
       " 'As with a few other cars on this list, the Aston Martin Vulcan was a track-only special. The British supercar made its world debut in 2015, powered by a naturally aspirated 7.0-liter V12 that produced 820 horsepower, and limited to just 24 examples worldwide. An even more track-focused AMR Pro model followed, but even the base Vulcan was a pricey commodity, costing about $2.4-million from the factory.',\n",
       " 'Price: $2.3 Million',\n",
       " 'You may have heard of Delage before. In the early 1900s, this French automaker was competing on the track with Bugatti and Ferrari. Now Delage is back and with a beautiful new hypercar dubbed the D12. Powered by a 7.6-liter V12 engine, the new D12 produces upwards of 1,010 horsepower and costs a cool $2.3 million.',\n",
       " 'Price: $2.3 Million',\n",
       " \"What would you pay for the fastest production McLaren ever? Well, at least $2.3 million. With 1,035 horsepower courtesy of a gasoline-electric hybrid V8 powertrain, the Speedtail tops out at 250 miles per hour and is able to reach 186 mph in just 12.8 seconds – 2.7 seconds faster than the P1. Unfortunately, if you didn't get your hands on one new in 2020, you'll have to shell out serious cash on the used market. McLaren only built 106 examples.\",\n",
       " 'Price: $2.4 Million',\n",
       " 'The Rimac Nevera takes the title of most expensive EV with its $2.4 million price tag – but only by a few hundred thousand dollars over the next priciest electric supercar. Packing 1,914 horsepower and 1,740 pound-feet of torque, the Nevera can hit 60 in under 2.0 seconds and will continue on to a top speed of 258 miles per hour. Those lucky enough to order one should see it in their driveway before the end of 2022.',\n",
       " 'Price: $2.5 Million',\n",
       " 'First came the Zonda, then the Huayra, and now the Pagani Utopia. With 852 horsepower and an available seven-speed manual gearbox, the Utopia is the most powerful road-going Pagani ever produced and it’s limited to just 99 examples worldwide. The cost for one is a cool $2.5 million.',\n",
       " 'Price: $2.5 Million',\n",
       " 'Aptly named after the company’s founder, Battista Farina, the Pininfarina Battista delivers the kind of performance (and price!) to make its namesake proud. Revealed at the 2019 Geneva Motor Show, the Battista is completely electric, putting out 1,827 horsepower. If a normal supercar’s 0 to 60 time sounds too leisurely for you, the company says that the Battista will take you there in under 2.0 seconds. Pininfarina plans on building 150 examples of the Battista, costing $2.5 million each.',\n",
       " 'Price: $2.6 Million',\n",
       " \"Sure, you could buy a normal LaFerrari (which also makes the list further down), but why settle for a supercar so mundane when you can take home this track-only version instead? Granted, the Ferrari FXX K Evo came out in 2017, and it's well past the point of being sold out. But when it was new, this 1,036-horsepower Ferrari tore up the track with its naturally aspirated V12 and aggressive aerodynamics.\",\n",
       " 'Price: $2.6 Million',\n",
       " \"If the name Gordon Murray sounds familiar, it’s because he's the man behind the design of the iconic McLaren F1. These days, Mr. Murray has his own supercar venture, and the handsome T.50 is the crown jewel of the lineup. At $2.6 million, the T.50 packs a naturally aspirated 4.0-liter V12 that makes 654 horsepower. The car itself weighs a mere 2,174 pounds, and at 392 pounds, the T.50 has the lightest V12 on the road today.\",\n",
       " 'Price: $2.6 Million',\n",
       " \"The name Countach may be iconic, but is it worth $2.6 million? That's what Lamborghini hopes you will spend on its new Aventador-based model. Debuting in August of 2021, the Countach LPI 800-4 has a 6.5-liter V12 with a light hybrid assist that gives it a whopping 803 horsepower, allowing for a 60 time of 2.8 seconds and a top speed of more than 220 miles per hour.\",\n",
       " 'Price: $2.7 Million',\n",
       " 'Mercedes has promised a production version of the Project One hypercar for quite a while now. The first official announcement was in March of 2017 before the first concept debuted later that same year. But after nearly five years of teasing, it appears as if the Project One will finally hit public roads. And when it does, the hybrid hypercar will have over 1,200 horsepower (895 kilowatts) and a price tag of $2.7 million.',\n",
       " 'Price: $3.0 Million',\n",
       " 'The folks at Aston Martin know a thing or two about exclusive vehicles, and the Victor might be the most exclusive project for the British brand to date. Based on the One-77 platform, the Victor uses parts from several donor Astons including the track project Vulcan and the upcoming Valkyrie. And talking about limited production – the Victor is one-of-one and rumored to cost nearly $3 million.',\n",
       " '$3.0 Million',\n",
       " 'The same Hennessey Venom F5 hypercar we all know and love, but with less roof. The F5 Roadster has the same twin-turbocharged 6.6-liter V8 as the coupe, producing the same 1,817 horsepower and 1,193 pound-feet of torque. Hennessey estimates a top speed of over 300 miles per hour, but if you want one, it will cost you at least $3.0 million.',\n",
       " 'Price: $3.0 Million',\n",
       " \"The Koenigsegg Jesko, apart from being the fastest car the company has made to date, is also the most expensive. At $3.0 million out of the box, the handsome hypercar has 1,600-horsepower courtesy of the brand's ubiquitous twin-turbocharged 5.0-liter V8 engine. Opt for the Absolut model, and the Jesko, in theory, will be able to hit 300 miles per hour.\",\n",
       " 'Price: $3.2 Million',\n",
       " 'The upcoming Aston Martin hybrid hypercar hasn’t even hit the market yet, but already the $3.2 million Valkyrie has sold out. For what it’s worth, Aston Martin hasn’t officially released pricing. Estimates suggest the hypercar could go for anywhere between $2.6 and $3.9 million – but $3.2 million seems to be the magic number. Whatever the case, this machine is impressive. Its Cosworth-sourced 6.5-liter V12 produces 1,160 horsepower (865 kilowatts) and 664 pound-feet (900 Newton-meters) of torque, meaning its top speed should be well over 200 miles per hour (321 kilometers per hour). The company will build just 150 examples of the standard Valkyrie, with a limited 25-run AMR model arriving later.',\n",
       " 'Price: $3.4 Million',\n",
       " \"Dubai-based W Motors shocked the world with its edgy Lykan Hypersport supercar in 2013. With titanium LED headlights housing 420 15-carat diamonds and a holographic display in the center console, it's no surprise it was the third most expensive car ever when new. It falls to number six on our list here, but it's still a wild hypercar with a powerful heart; the twin-turbocharged 3.7-liter six-cylinder engine underhood produces 780 horsepower (581 kilowatts) and 708 (960 Newton-meters) of torque.\",\n",
       " '$3.5 Million',\n",
       " 'One seat, 829 horsepower, and a top speed of over 200 miles per hour. The new McLaren Solus is about as close as you can get to a Formula 1 car from the factory, powered by a naturally aspirated 5.2-liter V10 engine with a 0-62 mile-per-hour time of just 2.5 seconds. Estimates suggest a McLaren Solus will set you back about $3.5 million.',\n",
       " 'Price: $3.5 Million',\n",
       " 'Following Pagani’s past playbook, a roadster version of the ferocious Huayra BC was inevitable. Last year, the company made it official by showing off the Huayra Roadster BC, a topless monster with 800 horsepower (597 kilowatts) and 774 lb-ft of torque (1049 Newton-meters). Somewhat surprisingly, Pagani gave the roadster 50 more horsepower than its coupe sibling, by cranking up its AMG-sourced twin-turbocharged 6.0-liter V12. In addition to the joy of hearing the glorious engine note without a roof in the way, owners should take comfort in knowing that their car is ultra-rare. Pagani is limiting production to just 40 units, each with a sticker price of $3.5 million.',\n",
       " 'Price: $3.6 Million',\n",
       " 'Another showstopper from the Geneva Motor Show that never was, the Bugatti Chiron Pur Sport is a special edition Chiron with a focus on aerodynamics, weight reduction, and power distribution. It’s the same 8.0-liter quad-turbo W16 engine underneath the skin but it’s now mated to a recalibrated automatic gearbox. While the peak output remains unchanged at 1,500 horsepower (1,103 kilowatts), the rpm redline has been set 200 rpm higher, up to 6,900 rpm. The Pur Sport also features slightly revised bodywork, with a bigger rear wing and more aerodynamic front fascia. Beginning production in late 2020, the Bugatti starts at $3.6 million.',\n",
       " 'Price: $3.6 million',\n",
       " 'In several ways, the Sian represents a bridge to Lamborghini’s future. Though it’s based on the Aventador SVJ, this wild-looking Lambo is the brand’s first production electrified offering. In addition to the SVJ-sourced 6.5-liter V12, the Sian uses a 48-volt mild-hybrid system. Total system output is 819 horsepower (611 kilowatts), which also makes it the most powerful Lamborghini ever. As confirmed by the 63 stuck on either side of the Sian’s wing, Lamborghini will produce just 63 units. And each will cost far more than the Aventador SVJ, carrying a price of $3.6 million.',\n",
       " 'Price: $3.7 Million',\n",
       " 'The Koenigsegg CC850 was a surprise to be sure, but a welcomed one. Borrowing the twin-turbocharged 5.0-liter V8 from the Jesko, it notches that output up to 1,385 horsepower and 1,022 pound-feet of torque, with a so-called “TWMPAFMPC” transmission that shifts (pun intended) between manual and automatic functions. Of course, all that performance technology will cost you; the CC850 starts at $3.7 million.',\n",
       " 'Price: $3.9 Million',\n",
       " 'Earlier this year, Bugatti captured the collective attention of the automotive world by announcing that it broke the 300 miles per hour barrier with a modified version of the Chiron. The Super Sport 300 + is a road-going version of that car, meant to celebrate the occasion. Limited to just 30 units, the Super Sport 300+ is a beautiful version of the Chiron, with flowing, slippery bodywork and a sweet stripe motif. Despite having hit 304.8 mph on the track with a production vehicle, Bugatti does limit its Chiron 300+ to 273 mph in top speed mode.',\n",
       " 'Price: $4.5 Million',\n",
       " \"Lamborghini built just 14 examples of the Aventador-based Veneno between 2014 and 2015. Each one cost around $4.5 million, depending on how it was spec'd, and was available in both convertible and coupe configurations. Underhood Lamborghini fitted a more-powerful iteration of the Aventador's 6.5-liter V12, now producing 740 horsepower (552 kilowatts) and 509 pound-feet (609 Newton-meters) of torque, which gave it the ability to sprint to 60 miles per hour (96 kilometers per hour) in a blistering 2.9 seconds. To date, it’s the most expensive new Lamborghini ever.\",\n",
       " 'Price: $4.7 Million',\n",
       " \"Produced in extremely limited numbers atop the body of a Chiron, it's no wonder Bugatti's one-of-40 Bolide track car is this pricey. At $4.7 million, the 1,824-horsepower hypercar has more power than the Chiron Super Sport 300+, and more extreme bodywork that allow it to lap tracks like the Nurburgring in record time (in theory). Bugatti says the Bolide would be able to conquer the ‘Ring in record time.\",\n",
       " 'Price: $5.0 Million',\n",
       " 'The Bugatti Mistral sends the iconic W16 engine off in style. With 1,577 horsepower and no roof, the Mistral takes the best bits of the Chiron and borrows elements from the Bolide and Divo to create a truly unique roadster. Of course, Bugatti plans to build just 99 examples of the Mistral at the cost of around $5.0 million in the US – and all of them are already accounted for.',\n",
       " 'Price: $5.4 Million',\n",
       " 'Even though the new Utopia marks the next big step for Pagani, the Huayra Imola packs nearly as much power with a twin-turbocharged 6.0-liter V12 engine producing 827 horsepower and 811 pound-feet of torque. The Huayra Imola is estimated to cost around $5.4 million new, which would make it the second most expensive Pagani of all time.',\n",
       " 'Price: $5.8 Million',\n",
       " 'Among Bugatti’s recently debuted vehicles, the Divo is a staff favorite. Though it shares much in common with its cheaper (!) sibling the Chiron, the Divo has a lot going for it to justify the extra money. By adding lighter wheels, a carbon fiber intercooler and removing some sound deadening, Bugatti made the Divo 77 pounds lighter than the Chiron. Though power is unchanged from the Chiron’s 1,500 ponies (1,119 kilowatts), The Divo features a different aerodynamic setup, which makes it 8 seconds quicker around the Nardo test track. Finally, the moment you’ve been waiting for: Bugatti is making 40 examples of the car, each costing $5.8 million.',\n",
       " 'Price: $6.4 Million',\n",
       " \"SP Automotive (short for Spyros Panopoulos) is a new name in the world of hypercars, but the brand's 2,000-horsepower, $6.4-million, aptly named Chaos has already made an impact. With a twin-turbocharged 4.0-liter V10, the base SP Automotive Chaos is one of the most expensive cars on this list – beating out many Lambos and Bugattis – but there's an even pricier version of this car that costs an eye-watering $14.4 million. That version reportedly packs 3,000 hp.\",\n",
       " 'Price: $7.4 Million',\n",
       " 'The long list of pricey (new) Paganis ends with the Codualunga. Inspired by 1960s Italian coachbuilding, the stunning exterior and steampunk-esque interior – while equally stunning – are only part of what makes this Pagani so pricey. Under the hood is a twin-turbocharged 6.0-liter V12 producing 829 horsepower and 809 pound-feet of torque, paired to a seven-speed sequential transmission for a real race-car–like feel. The cost for this one-of-five Pagani is $7.4 million.',\n",
       " 'Price: $8.0 Million',\n",
       " \"Like many others before it, the Mercedes-Benz Maybach Exelero is a one-off. Commissioned by Fulda, a German subsidiary of Goodyear, to test its new tires, the Exlero debuted in 2004. Mercedes built the Exelero on the bones of a Maybach, and gave it the same twin-turbo V12 engine producing 690 horsepower (510 kilowatts) and 752 pound-feet (1,020 Newton-meters) of torque. Top speed is listed at 218 miles per hour (350 kilometers per hour) and adjusted for inflation, the Exelero would cost more than $10 million in today's money.\",\n",
       " 'Price: $9.0 Million',\n",
       " 'Bugatti debuted the Centodieci at last year’s Pebble Beach car week, showing off yet another ultra-rare, super-expensive model to the world. Limited to just 10 – dieci – units, the car is a modern throwback to the Bugatti EB110. At the same time, it’s meant to celebrate Bugatti’s momentous 110-year anniversary. Its unique styling cues won’t make everyone fall in love, but at least you won’t have to worry about seeing another one on the road. Carrying a price just shy of $9 million, the Centodiece is one of the most exclusive cars ever made.',\n",
       " 'Price: $10.8 Million',\n",
       " 'While it may not look that different from a normal Chiron, the Profilée is quite literally one-of-a-kind. Bugatti built it initially as a test for a limited run of Profilée models, but this Chiron ended up being the only example. Boasting the same 1,476-horsepower quad-turbocharged W16 engine ubiquitous throughout the Chiron range, the Profilée has unique bodywork and a custom spoiler that helps separate it from the rest of the range.',\n",
       " 'Price: $12.8 Million',\n",
       " \"Rolls-Royce, expectedly, takes two of the top three spots on this list, with the stunning Sweptail one-off from 2017 coming in at number three. With a monumental price tag of $13.0 million, it was, at the time of its debut, the most expensive new car ever. It's been outpriced since then, but the 453-horsepower luxury car is still a jaw-dropper.\",\n",
       " 'Price: $13.4 Million',\n",
       " \"With a price tag of $13.4 million, the one-off Bugatti La Voiture Noire is officially the most expensive new Bugatti ever made. And understandably so. A modern interpretation of Jean Bugatti's personal Type 57 SC Atlantic, the La Voiture Noire uses the same quad-turbocharged 8.0-liter W16 engine as the Chiron, producing 1,479 horsepower. It has six – that's right, six exhaust tips, radical new wheels, an aggressive, bespoke fascia, and a gigantic light-up badge in the rear that spells out the name of the brand. Of course, this one-of-one Bugatti already has a home.\",\n",
       " 'Price: $28.0 Million (est.)',\n",
       " 'Rolls-Royce is back in the business of coachbuilding with the gorgeous new Boat Tail. A successor to the stunning Sweptail from 2017 – which itself cost a reported $12.8 million – the Boat Tail has a unique two-tone exterior, custom high-end finishes inside, and even a \"hosting suite\" complete with a champagne fridge and built-in sun umbrella. Although Rolls-Royce doesn’t officially announce pricing for one-off builds such as this, rumor has it that the Boat Tail cost a whopping $28.0 million new.']"
      ]
     },
     "execution_count": 68,
     "metadata": {},
     "output_type": "execute_result"
    }
   ],
   "source": [
    "about"
   ]
  },
  {
   "cell_type": "code",
   "execution_count": 73,
   "id": "4c5073ae",
   "metadata": {},
   "outputs": [],
   "source": [
    "Expensive_Cars = pd.DataFrame({'Car Name': car_name, 'Price': Price})"
   ]
  },
  {
   "cell_type": "code",
   "execution_count": 74,
   "id": "b17c1a56",
   "metadata": {},
   "outputs": [
    {
     "data": {
      "text/html": [
       "<div>\n",
       "<style scoped>\n",
       "    .dataframe tbody tr th:only-of-type {\n",
       "        vertical-align: middle;\n",
       "    }\n",
       "\n",
       "    .dataframe tbody tr th {\n",
       "        vertical-align: top;\n",
       "    }\n",
       "\n",
       "    .dataframe thead th {\n",
       "        text-align: right;\n",
       "    }\n",
       "</style>\n",
       "<table border=\"1\" class=\"dataframe\">\n",
       "  <thead>\n",
       "    <tr style=\"text-align: right;\">\n",
       "      <th></th>\n",
       "      <th>Car Name</th>\n",
       "      <th>Price</th>\n",
       "    </tr>\n",
       "  </thead>\n",
       "  <tbody>\n",
       "    <tr>\n",
       "      <th>0</th>\n",
       "      <td>De Tomaso P72</td>\n",
       "      <td>Price: $1.3 Million</td>\n",
       "    </tr>\n",
       "    <tr>\n",
       "      <th>1</th>\n",
       "      <td>Ferrari LaFerrari</td>\n",
       "      <td>Price: $1.4 Million</td>\n",
       "    </tr>\n",
       "    <tr>\n",
       "      <th>2</th>\n",
       "      <td>Pagani Huayra</td>\n",
       "      <td>Price: $1.4 Million</td>\n",
       "    </tr>\n",
       "    <tr>\n",
       "      <th>3</th>\n",
       "      <td>McLaren Elva</td>\n",
       "      <td></td>\n",
       "    </tr>\n",
       "    <tr>\n",
       "      <th>4</th>\n",
       "      <td>Czinger 21C</td>\n",
       "      <td>Price: $1.7 Million</td>\n",
       "    </tr>\n",
       "    <tr>\n",
       "      <th>5</th>\n",
       "      <td>Ferrari Monza</td>\n",
       "      <td>Price: $1.7 Million</td>\n",
       "    </tr>\n",
       "    <tr>\n",
       "      <th>6</th>\n",
       "      <td>Gordon Murray T.33</td>\n",
       "      <td>Price: $1.7 Million</td>\n",
       "    </tr>\n",
       "    <tr>\n",
       "      <th>7</th>\n",
       "      <td>Koenigsegg Gemera</td>\n",
       "      <td>Price: $1.7 Million</td>\n",
       "    </tr>\n",
       "    <tr>\n",
       "      <th>8</th>\n",
       "      <td>Zenvo TSR-S</td>\n",
       "      <td>Price: $1.7 Million</td>\n",
       "    </tr>\n",
       "    <tr>\n",
       "      <th>9</th>\n",
       "      <td>Hennessey Venom F5</td>\n",
       "      <td>Price: $1.7 Million</td>\n",
       "    </tr>\n",
       "    <tr>\n",
       "      <th>10</th>\n",
       "      <td>Bentley Bacalar</td>\n",
       "      <td>Price: $1.8 Million</td>\n",
       "    </tr>\n",
       "    <tr>\n",
       "      <th>11</th>\n",
       "      <td>Hispano Suiza Carmen Boulogne</td>\n",
       "      <td>Price: $1.9 Million</td>\n",
       "    </tr>\n",
       "    <tr>\n",
       "      <th>12</th>\n",
       "      <td>Bentley Mulliner Batur</td>\n",
       "      <td>Price: $1.9 Million</td>\n",
       "    </tr>\n",
       "    <tr>\n",
       "      <th>13</th>\n",
       "      <td>Deus Vayanne</td>\n",
       "      <td>Price: $2.0 Million</td>\n",
       "    </tr>\n",
       "    <tr>\n",
       "      <th>14</th>\n",
       "      <td>SSC Tuatara</td>\n",
       "      <td>Price: $2.0 Million</td>\n",
       "    </tr>\n",
       "    <tr>\n",
       "      <th>15</th>\n",
       "      <td>Lotus Evija</td>\n",
       "      <td>Price: $2.0 Million*</td>\n",
       "    </tr>\n",
       "    <tr>\n",
       "      <th>16</th>\n",
       "      <td>Aston Martin Vulcan</td>\n",
       "      <td>Price: $2.1 Million</td>\n",
       "    </tr>\n",
       "    <tr>\n",
       "      <th>17</th>\n",
       "      <td>Delage D12</td>\n",
       "      <td>Price: $2.3 Million</td>\n",
       "    </tr>\n",
       "    <tr>\n",
       "      <th>18</th>\n",
       "      <td>McLaren Speedtail</td>\n",
       "      <td>Price: $2.3 Million</td>\n",
       "    </tr>\n",
       "    <tr>\n",
       "      <th>19</th>\n",
       "      <td>Rimac Nevera</td>\n",
       "      <td>Price: $2.3 Million</td>\n",
       "    </tr>\n",
       "    <tr>\n",
       "      <th>20</th>\n",
       "      <td>Pagani Utopia</td>\n",
       "      <td>Price: $2.4 Million</td>\n",
       "    </tr>\n",
       "    <tr>\n",
       "      <th>21</th>\n",
       "      <td>Pininfarina Battista</td>\n",
       "      <td>Price: $2.5 Million</td>\n",
       "    </tr>\n",
       "    <tr>\n",
       "      <th>22</th>\n",
       "      <td>Ferrari FXX K Evo</td>\n",
       "      <td>Price: $2.5 Million</td>\n",
       "    </tr>\n",
       "    <tr>\n",
       "      <th>23</th>\n",
       "      <td>Gordon Murray T.50</td>\n",
       "      <td>Price: $2.6 Million</td>\n",
       "    </tr>\n",
       "    <tr>\n",
       "      <th>24</th>\n",
       "      <td>Lamborghini Countach</td>\n",
       "      <td>Price: $2.6 Million</td>\n",
       "    </tr>\n",
       "    <tr>\n",
       "      <th>25</th>\n",
       "      <td>Mercedes-AMG Project One</td>\n",
       "      <td>Price: $2.6 Million</td>\n",
       "    </tr>\n",
       "    <tr>\n",
       "      <th>26</th>\n",
       "      <td>Aston Martin Victor</td>\n",
       "      <td>Price: $2.7 Million</td>\n",
       "    </tr>\n",
       "    <tr>\n",
       "      <th>27</th>\n",
       "      <td>Hennessey Venom F5 Roadster</td>\n",
       "      <td>Price: $3.0 Million</td>\n",
       "    </tr>\n",
       "    <tr>\n",
       "      <th>28</th>\n",
       "      <td>Koenigsegg Jesko</td>\n",
       "      <td>$3.0 Million</td>\n",
       "    </tr>\n",
       "    <tr>\n",
       "      <th>29</th>\n",
       "      <td>Aston Martin Valkyrie</td>\n",
       "      <td>Price: $3.0 Million</td>\n",
       "    </tr>\n",
       "    <tr>\n",
       "      <th>30</th>\n",
       "      <td>W Motors Lykan Hypersport</td>\n",
       "      <td>Price: $3.2 Million</td>\n",
       "    </tr>\n",
       "    <tr>\n",
       "      <th>31</th>\n",
       "      <td>McLaren Solus</td>\n",
       "      <td>Price: $3.4 Million</td>\n",
       "    </tr>\n",
       "    <tr>\n",
       "      <th>32</th>\n",
       "      <td>Pagani Huayra Roadster BC</td>\n",
       "      <td>$3.5 Million</td>\n",
       "    </tr>\n",
       "    <tr>\n",
       "      <th>33</th>\n",
       "      <td>Bugatti Chiron Pur Sport</td>\n",
       "      <td>Price: $3.5 Million</td>\n",
       "    </tr>\n",
       "    <tr>\n",
       "      <th>34</th>\n",
       "      <td>Lamborghini Sian</td>\n",
       "      <td>Price: $3.6 Million</td>\n",
       "    </tr>\n",
       "    <tr>\n",
       "      <th>35</th>\n",
       "      <td>Koenigsegg CC850</td>\n",
       "      <td>Price: $3.6 million</td>\n",
       "    </tr>\n",
       "    <tr>\n",
       "      <th>36</th>\n",
       "      <td>Bugatti Chiron Super Sport 300+</td>\n",
       "      <td>Price: $3.7 Million</td>\n",
       "    </tr>\n",
       "    <tr>\n",
       "      <th>37</th>\n",
       "      <td>Lamborghini Veneno</td>\n",
       "      <td>Price: $3.9 Million</td>\n",
       "    </tr>\n",
       "    <tr>\n",
       "      <th>38</th>\n",
       "      <td>Bugatti Bolide</td>\n",
       "      <td>Price: $4.5 Million</td>\n",
       "    </tr>\n",
       "    <tr>\n",
       "      <th>39</th>\n",
       "      <td>Bugatti Mistral</td>\n",
       "      <td>Price: $4.7 Million</td>\n",
       "    </tr>\n",
       "    <tr>\n",
       "      <th>40</th>\n",
       "      <td>Pagani Huayra Imola</td>\n",
       "      <td>Price: $5.0 Million</td>\n",
       "    </tr>\n",
       "    <tr>\n",
       "      <th>41</th>\n",
       "      <td>Bugatti Divo</td>\n",
       "      <td>Price: $5.4 Million</td>\n",
       "    </tr>\n",
       "    <tr>\n",
       "      <th>42</th>\n",
       "      <td>SP Automotive Chaos</td>\n",
       "      <td>Price: $5.8 Million</td>\n",
       "    </tr>\n",
       "    <tr>\n",
       "      <th>43</th>\n",
       "      <td>Pagani Codalunga</td>\n",
       "      <td>Price: $6.4 Million</td>\n",
       "    </tr>\n",
       "    <tr>\n",
       "      <th>44</th>\n",
       "      <td>Mercedes-Maybach Exelero</td>\n",
       "      <td>Price: $7.4 Million</td>\n",
       "    </tr>\n",
       "    <tr>\n",
       "      <th>45</th>\n",
       "      <td>Bugatti Centodieci</td>\n",
       "      <td>Price: $8.0 Million</td>\n",
       "    </tr>\n",
       "    <tr>\n",
       "      <th>46</th>\n",
       "      <td>Bugatti Chiron Profilée</td>\n",
       "      <td>Price: $9.0 Million</td>\n",
       "    </tr>\n",
       "    <tr>\n",
       "      <th>47</th>\n",
       "      <td>Rolls-Royce Sweptail</td>\n",
       "      <td>Price: $10.8 Million</td>\n",
       "    </tr>\n",
       "    <tr>\n",
       "      <th>48</th>\n",
       "      <td>Bugatti La Voiture Noire</td>\n",
       "      <td>Price: $12.8 Million</td>\n",
       "    </tr>\n",
       "    <tr>\n",
       "      <th>49</th>\n",
       "      <td>Rolls-Royce Boat Tail*</td>\n",
       "      <td>Price: $13.4 Million</td>\n",
       "    </tr>\n",
       "    <tr>\n",
       "      <th>50</th>\n",
       "      <td>Most Expensive Cars In The World</td>\n",
       "      <td>Price: $28.0 Million (est.)</td>\n",
       "    </tr>\n",
       "  </tbody>\n",
       "</table>\n",
       "</div>"
      ],
      "text/plain": [
       "                            Car Name                        Price\n",
       "0                      De Tomaso P72          Price: $1.3 Million\n",
       "1                  Ferrari LaFerrari          Price: $1.4 Million\n",
       "2                      Pagani Huayra          Price: $1.4 Million\n",
       "3                       McLaren Elva                             \n",
       "4                        Czinger 21C          Price: $1.7 Million\n",
       "5                      Ferrari Monza          Price: $1.7 Million\n",
       "6                 Gordon Murray T.33          Price: $1.7 Million\n",
       "7                  Koenigsegg Gemera          Price: $1.7 Million\n",
       "8                        Zenvo TSR-S          Price: $1.7 Million\n",
       "9                 Hennessey Venom F5          Price: $1.7 Million\n",
       "10                   Bentley Bacalar          Price: $1.8 Million\n",
       "11     Hispano Suiza Carmen Boulogne          Price: $1.9 Million\n",
       "12            Bentley Mulliner Batur          Price: $1.9 Million\n",
       "13                      Deus Vayanne          Price: $2.0 Million\n",
       "14                       SSC Tuatara          Price: $2.0 Million\n",
       "15                       Lotus Evija         Price: $2.0 Million*\n",
       "16               Aston Martin Vulcan          Price: $2.1 Million\n",
       "17                        Delage D12          Price: $2.3 Million\n",
       "18                 McLaren Speedtail          Price: $2.3 Million\n",
       "19                      Rimac Nevera          Price: $2.3 Million\n",
       "20                     Pagani Utopia          Price: $2.4 Million\n",
       "21              Pininfarina Battista          Price: $2.5 Million\n",
       "22                 Ferrari FXX K Evo          Price: $2.5 Million\n",
       "23                Gordon Murray T.50          Price: $2.6 Million\n",
       "24              Lamborghini Countach          Price: $2.6 Million\n",
       "25          Mercedes-AMG Project One          Price: $2.6 Million\n",
       "26               Aston Martin Victor          Price: $2.7 Million\n",
       "27       Hennessey Venom F5 Roadster          Price: $3.0 Million\n",
       "28                  Koenigsegg Jesko                 $3.0 Million\n",
       "29             Aston Martin Valkyrie          Price: $3.0 Million\n",
       "30         W Motors Lykan Hypersport          Price: $3.2 Million\n",
       "31                     McLaren Solus          Price: $3.4 Million\n",
       "32         Pagani Huayra Roadster BC                 $3.5 Million\n",
       "33          Bugatti Chiron Pur Sport          Price: $3.5 Million\n",
       "34                  Lamborghini Sian          Price: $3.6 Million\n",
       "35                  Koenigsegg CC850          Price: $3.6 million\n",
       "36   Bugatti Chiron Super Sport 300+          Price: $3.7 Million\n",
       "37                Lamborghini Veneno          Price: $3.9 Million\n",
       "38                    Bugatti Bolide          Price: $4.5 Million\n",
       "39                   Bugatti Mistral          Price: $4.7 Million\n",
       "40               Pagani Huayra Imola          Price: $5.0 Million\n",
       "41                      Bugatti Divo          Price: $5.4 Million\n",
       "42               SP Automotive Chaos          Price: $5.8 Million\n",
       "43                  Pagani Codalunga          Price: $6.4 Million\n",
       "44          Mercedes-Maybach Exelero          Price: $7.4 Million\n",
       "45                Bugatti Centodieci          Price: $8.0 Million\n",
       "46           Bugatti Chiron Profilée          Price: $9.0 Million\n",
       "47              Rolls-Royce Sweptail         Price: $10.8 Million\n",
       "48          Bugatti La Voiture Noire         Price: $12.8 Million\n",
       "49            Rolls-Royce Boat Tail*         Price: $13.4 Million\n",
       "50  Most Expensive Cars In The World  Price: $28.0 Million (est.)"
      ]
     },
     "execution_count": 74,
     "metadata": {},
     "output_type": "execute_result"
    }
   ],
   "source": [
    "Expensive_Cars"
   ]
  },
  {
   "cell_type": "code",
   "execution_count": 70,
   "id": "1ab8ad87",
   "metadata": {},
   "outputs": [
    {
     "data": {
      "text/plain": [
       "51"
      ]
     },
     "execution_count": 70,
     "metadata": {},
     "output_type": "execute_result"
    }
   ],
   "source": [
    "len(car_name)"
   ]
  },
  {
   "cell_type": "code",
   "execution_count": 71,
   "id": "726cd962",
   "metadata": {},
   "outputs": [
    {
     "data": {
      "text/plain": [
       "51"
      ]
     },
     "execution_count": 71,
     "metadata": {},
     "output_type": "execute_result"
    }
   ],
   "source": [
    "len(Price)"
   ]
  },
  {
   "cell_type": "code",
   "execution_count": null,
   "id": "edf9f8da",
   "metadata": {},
   "outputs": [],
   "source": []
  },
  {
   "cell_type": "code",
   "execution_count": null,
   "id": "0029226f",
   "metadata": {},
   "outputs": [],
   "source": []
  },
  {
   "cell_type": "code",
   "execution_count": null,
   "id": "23f58cda",
   "metadata": {},
   "outputs": [],
   "source": []
  },
  {
   "cell_type": "code",
   "execution_count": null,
   "id": "a6e21576",
   "metadata": {},
   "outputs": [],
   "source": []
  },
  {
   "cell_type": "code",
   "execution_count": null,
   "id": "9ec30677",
   "metadata": {},
   "outputs": [],
   "source": []
  },
  {
   "cell_type": "code",
   "execution_count": null,
   "id": "197e96d2",
   "metadata": {},
   "outputs": [],
   "source": []
  },
  {
   "cell_type": "code",
   "execution_count": null,
   "id": "d9fe02ee",
   "metadata": {},
   "outputs": [],
   "source": []
  },
  {
   "cell_type": "code",
   "execution_count": null,
   "id": "420d764d",
   "metadata": {},
   "outputs": [],
   "source": []
  },
  {
   "cell_type": "code",
   "execution_count": null,
   "id": "9de5a37e",
   "metadata": {},
   "outputs": [],
   "source": []
  },
  {
   "cell_type": "code",
   "execution_count": null,
   "id": "224f7b30",
   "metadata": {},
   "outputs": [],
   "source": []
  },
  {
   "cell_type": "code",
   "execution_count": null,
   "id": "cac77efa",
   "metadata": {},
   "outputs": [],
   "source": []
  },
  {
   "cell_type": "code",
   "execution_count": null,
   "id": "db9df2b9",
   "metadata": {},
   "outputs": [],
   "source": []
  },
  {
   "cell_type": "code",
   "execution_count": null,
   "id": "d949764b",
   "metadata": {},
   "outputs": [],
   "source": []
  },
  {
   "cell_type": "code",
   "execution_count": null,
   "id": "7e7da6d7",
   "metadata": {},
   "outputs": [],
   "source": []
  },
  {
   "cell_type": "code",
   "execution_count": null,
   "id": "68a20f49",
   "metadata": {},
   "outputs": [],
   "source": []
  },
  {
   "cell_type": "code",
   "execution_count": null,
   "id": "71f0c7ec",
   "metadata": {},
   "outputs": [],
   "source": []
  },
  {
   "cell_type": "code",
   "execution_count": null,
   "id": "e1ad8421",
   "metadata": {},
   "outputs": [],
   "source": []
  },
  {
   "cell_type": "code",
   "execution_count": null,
   "id": "f0cae66a",
   "metadata": {},
   "outputs": [],
   "source": []
  },
  {
   "cell_type": "code",
   "execution_count": null,
   "id": "3d93e9cd",
   "metadata": {},
   "outputs": [],
   "source": []
  },
  {
   "cell_type": "code",
   "execution_count": null,
   "id": "7ba5071c",
   "metadata": {},
   "outputs": [],
   "source": []
  },
  {
   "cell_type": "code",
   "execution_count": null,
   "id": "5f013edd",
   "metadata": {},
   "outputs": [],
   "source": []
  },
  {
   "cell_type": "code",
   "execution_count": null,
   "id": "8ff1288d",
   "metadata": {},
   "outputs": [],
   "source": []
  },
  {
   "cell_type": "code",
   "execution_count": null,
   "id": "6305b8f0",
   "metadata": {},
   "outputs": [],
   "source": []
  },
  {
   "cell_type": "code",
   "execution_count": null,
   "id": "b6d97230",
   "metadata": {},
   "outputs": [],
   "source": []
  },
  {
   "cell_type": "code",
   "execution_count": null,
   "id": "97fcc5b2",
   "metadata": {},
   "outputs": [],
   "source": []
  },
  {
   "cell_type": "code",
   "execution_count": null,
   "id": "50594c3e",
   "metadata": {},
   "outputs": [],
   "source": []
  },
  {
   "cell_type": "code",
   "execution_count": null,
   "id": "1a43e8ca",
   "metadata": {},
   "outputs": [],
   "source": []
  },
  {
   "cell_type": "code",
   "execution_count": null,
   "id": "11945716",
   "metadata": {},
   "outputs": [],
   "source": []
  },
  {
   "cell_type": "code",
   "execution_count": null,
   "id": "463309e8",
   "metadata": {},
   "outputs": [],
   "source": []
  },
  {
   "cell_type": "code",
   "execution_count": null,
   "id": "d5a96520",
   "metadata": {},
   "outputs": [],
   "source": []
  },
  {
   "cell_type": "code",
   "execution_count": null,
   "id": "ece8a432",
   "metadata": {},
   "outputs": [],
   "source": []
  },
  {
   "cell_type": "code",
   "execution_count": null,
   "id": "fc937cfb",
   "metadata": {},
   "outputs": [],
   "source": []
  },
  {
   "cell_type": "code",
   "execution_count": null,
   "id": "99a9b0ad",
   "metadata": {},
   "outputs": [],
   "source": []
  },
  {
   "cell_type": "code",
   "execution_count": null,
   "id": "ca7c1352",
   "metadata": {},
   "outputs": [],
   "source": []
  },
  {
   "cell_type": "code",
   "execution_count": null,
   "id": "5dddee34",
   "metadata": {},
   "outputs": [],
   "source": []
  },
  {
   "cell_type": "code",
   "execution_count": null,
   "id": "7f9fbd8f",
   "metadata": {},
   "outputs": [],
   "source": []
  },
  {
   "cell_type": "code",
   "execution_count": null,
   "id": "bc6f1543",
   "metadata": {},
   "outputs": [],
   "source": []
  },
  {
   "cell_type": "code",
   "execution_count": null,
   "id": "16e6609b",
   "metadata": {},
   "outputs": [],
   "source": []
  },
  {
   "cell_type": "code",
   "execution_count": null,
   "id": "16deff70",
   "metadata": {},
   "outputs": [],
   "source": []
  },
  {
   "cell_type": "code",
   "execution_count": null,
   "id": "909878bb",
   "metadata": {},
   "outputs": [],
   "source": []
  },
  {
   "cell_type": "code",
   "execution_count": null,
   "id": "a117a13c",
   "metadata": {},
   "outputs": [],
   "source": []
  },
  {
   "cell_type": "code",
   "execution_count": null,
   "id": "0631043d",
   "metadata": {},
   "outputs": [],
   "source": []
  },
  {
   "cell_type": "code",
   "execution_count": null,
   "id": "32bfee20",
   "metadata": {},
   "outputs": [],
   "source": []
  },
  {
   "cell_type": "code",
   "execution_count": null,
   "id": "c24c94d7",
   "metadata": {},
   "outputs": [],
   "source": []
  },
  {
   "cell_type": "code",
   "execution_count": null,
   "id": "3e441f92",
   "metadata": {},
   "outputs": [],
   "source": []
  },
  {
   "cell_type": "code",
   "execution_count": null,
   "id": "5a41f4e9",
   "metadata": {},
   "outputs": [],
   "source": []
  },
  {
   "cell_type": "code",
   "execution_count": null,
   "id": "028ac2b9",
   "metadata": {},
   "outputs": [],
   "source": []
  },
  {
   "cell_type": "code",
   "execution_count": null,
   "id": "4d34d001",
   "metadata": {},
   "outputs": [],
   "source": []
  },
  {
   "cell_type": "code",
   "execution_count": null,
   "id": "e963d9bf",
   "metadata": {},
   "outputs": [],
   "source": []
  },
  {
   "cell_type": "code",
   "execution_count": null,
   "id": "0c20c324",
   "metadata": {},
   "outputs": [],
   "source": []
  },
  {
   "cell_type": "code",
   "execution_count": null,
   "id": "e31bbfed",
   "metadata": {},
   "outputs": [],
   "source": []
  },
  {
   "cell_type": "code",
   "execution_count": null,
   "id": "ace762e1",
   "metadata": {},
   "outputs": [],
   "source": []
  },
  {
   "cell_type": "code",
   "execution_count": null,
   "id": "11a5f5b3",
   "metadata": {},
   "outputs": [],
   "source": []
  },
  {
   "cell_type": "code",
   "execution_count": null,
   "id": "f3ab78dd",
   "metadata": {},
   "outputs": [],
   "source": []
  },
  {
   "cell_type": "code",
   "execution_count": null,
   "id": "4d84e308",
   "metadata": {},
   "outputs": [],
   "source": []
  },
  {
   "cell_type": "code",
   "execution_count": null,
   "id": "0603dbe8",
   "metadata": {},
   "outputs": [],
   "source": []
  },
  {
   "cell_type": "code",
   "execution_count": null,
   "id": "134fc5db",
   "metadata": {},
   "outputs": [],
   "source": []
  },
  {
   "cell_type": "code",
   "execution_count": null,
   "id": "abf745e3",
   "metadata": {},
   "outputs": [],
   "source": []
  },
  {
   "cell_type": "code",
   "execution_count": null,
   "id": "cc51a794",
   "metadata": {},
   "outputs": [],
   "source": []
  },
  {
   "cell_type": "code",
   "execution_count": null,
   "id": "504bbb3c",
   "metadata": {},
   "outputs": [],
   "source": []
  },
  {
   "cell_type": "code",
   "execution_count": null,
   "id": "2eba9209",
   "metadata": {},
   "outputs": [],
   "source": []
  },
  {
   "cell_type": "code",
   "execution_count": null,
   "id": "da3d8dbc",
   "metadata": {},
   "outputs": [],
   "source": []
  },
  {
   "cell_type": "code",
   "execution_count": null,
   "id": "2d601edb",
   "metadata": {},
   "outputs": [],
   "source": []
  },
  {
   "cell_type": "code",
   "execution_count": null,
   "id": "5fad5285",
   "metadata": {},
   "outputs": [],
   "source": []
  },
  {
   "cell_type": "code",
   "execution_count": null,
   "id": "568358f0",
   "metadata": {},
   "outputs": [],
   "source": []
  }
 ],
 "metadata": {
  "kernelspec": {
   "display_name": "Python 3 (ipykernel)",
   "language": "python",
   "name": "python3"
  },
  "language_info": {
   "codemirror_mode": {
    "name": "ipython",
    "version": 3
   },
   "file_extension": ".py",
   "mimetype": "text/x-python",
   "name": "python",
   "nbconvert_exporter": "python",
   "pygments_lexer": "ipython3",
   "version": "3.9.13"
  }
 },
 "nbformat": 4,
 "nbformat_minor": 5
}
